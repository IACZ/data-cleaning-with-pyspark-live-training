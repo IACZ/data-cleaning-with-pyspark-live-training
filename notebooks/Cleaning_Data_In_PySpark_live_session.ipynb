{
  "nbformat": 4,
  "nbformat_minor": 0,
  "metadata": {
    "colab": {
      "name": "Cleaning Data in Python live session.ipynb",
      "provenance": []
    },
    "kernelspec": {
      "display_name": "Python 3",
      "language": "python",
      "name": "python3"
    },
    "language_info": {
      "codemirror_mode": {
        "name": "ipython",
        "version": 3
      },
      "file_extension": ".py",
      "mimetype": "text/x-python",
      "name": "python",
      "nbconvert_exporter": "python",
      "pygments_lexer": "ipython3",
      "version": "3.7.1"
    }
  },
  "cells": [
    {
      "cell_type": "markdown",
      "metadata": {
        "colab_type": "text",
        "id": "6Ijg5wUCTQYG"
      },
      "source": [
        "<p align=\"center\">\n",
        "<img src=\"https://github.com/datacamp/python-live-training-template/blob/master/assets/datacamp.svg?raw=True\" alt = \"DataCamp icon\" width=\"50%\">\n",
        "</p>\n",
        "<br><br>\n",
        "\n",
        "## **Cleaning Data with Pyspark**\n",
        "\n",
        "Welcome to this hands-on training where we will investigate cleaning a dataset using Python and Apache Spark! During this training, we will cover:\n",
        "\n",
        "* Efficiently loading data into a Spark DataFrame\n",
        "* Handling errant rows / columns from the dataset, including comments, missing data, combined or misinterpreted columns, etc.\n",
        "* Using Python UDFs to run advanced transformations on data\n",
        "\n",
        "\n",
        "## **The Dataset**\n",
        "\n",
        "The dataset used in this webinar is a set of CSV files named `netflix_titles_raw*.csv`. These contain information related to the movies and television shows available on Netflix. These are the *dirty* versions of the dataset - we will cover the individual problems as we work through the notebook.\n",
        "\n",
        "Given that this is a data cleaning webinar, let's look at our intended result.  The dataset will contain the follwing information:\n",
        "\n",
        "- `show_id`: A unique identifier for the show\n",
        "- `type`: The type of content, `Movie` or `TV Show`\n",
        "- `title`: The title of the content\n",
        "- `director`: The director (or directors)\n",
        "- `cast`: The cast\n",
        "- `country`: Country (or countries) where the content is available\n",
        "- `date_added`: Date added to Netflix\n",
        "- `release_year`: Year of content release\n",
        "- `rating`: Content rating\n",
        "- `duration`: The duration\n",
        "- `listed_in`: The genres the content is listed in\n",
        "- `description`: A description of the content\n",
        "\n"
      ]
    },
    {
      "cell_type": "markdown",
      "metadata": {
        "id": "KLi6HZeKbiG4",
        "colab_type": "text"
      },
      "source": [
        "## **Setting up a PySpark session**\n",
        "\n",
        "Before we can start processing our data, we need to configure a Pyspark session for Google Colab. Note that this is specific for using Spark and Python in Colab and likely is not required for other environments. "
      ]
    },
    {
      "cell_type": "code",
      "metadata": {
        "id": "O86xE8hXbiG5",
        "colab_type": "code",
        "colab": {}
      },
      "source": [
        "# Run this code as is to install Spark in Colab\n",
        "!apt-get install openjdk-8-jdk-headless -qq > /dev/null\n",
        "!wget -q https://downloads.apache.org/spark/spark-2.4.5/spark-2.4.5-bin-hadoop2.7.tgz\n",
        "!tar xf spark-2.4.5-bin-hadoop2.7.tgz\n",
        "!pip install -q findspark"
      ],
      "execution_count": 0,
      "outputs": []
    },
    {
      "cell_type": "code",
      "metadata": {
        "id": "ZMaqiRkBbiG7",
        "colab_type": "code",
        "colab": {}
      },
      "source": [
        "# Run this code to setup the environment\n",
        "import os\n",
        "os.environ[\"JAVA_HOME\"] = \"/usr/lib/jvm/java-8-openjdk-amd64\"\n",
        "os.environ[\"SPARK_HOME\"] = \"/content/spark-2.4.5-bin-hadoop2.7\""
      ],
      "execution_count": 0,
      "outputs": []
    },
    {
      "cell_type": "code",
      "metadata": {
        "id": "qKvFmTnQbiG9",
        "colab_type": "code",
        "colab": {}
      },
      "source": [
        "# Finally, setup our Spark session\n",
        "import findspark\n",
        "findspark.init()\n",
        "from pyspark.sql import SparkSession\n",
        "spark = SparkSession.builder.master(\"local[*]\").getOrCreate()"
      ],
      "execution_count": 0,
      "outputs": []
    },
    {
      "cell_type": "markdown",
      "metadata": {
        "colab_type": "text",
        "id": "BMYfcKeDY85K"
      },
      "source": [
        "## **Getting started**\n",
        "\n",
        "Before doing anything else, lets copy our data files locally. Run the follwing cell to pull the *dirty* files locally."
      ]
    },
    {
      "cell_type": "code",
      "metadata": {
        "colab_type": "code",
        "id": "IAfz_jiu0NjN",
        "outputId": "8ed8877c-8f6f-476c-b3d1-30296ce84d05",
        "colab": {
          "base_uri": "https://localhost:8080/",
          "height": 1000
        }
      },
      "source": [
        "# Copy our dataset locally\n",
        "\n",
        "!wget -O /tmp/netflix_titles_dirty_01.csv.gz 'https://github.com/datacamp/data-cleaning-with-pyspark-live-training/blob/master/data/netflix_titles_dirty_01.csv.gz?raw=True'\n",
        "!wget -O /tmp/netflix_titles_dirty_02.csv.gz 'https://github.com/datacamp/data-cleaning-with-pyspark-live-training/blob/master/data/netflix_titles_dirty_02.csv.gz?raw=True'\n",
        "!wget -O /tmp/netflix_titles_dirty_03.csv.gz 'https://github.com/datacamp/data-cleaning-with-pyspark-live-training/blob/master/data/netflix_titles_dirty_03.csv.gz?raw=True'\n",
        "!wget -O /tmp/netflix_titles_dirty_04.csv.gz 'https://github.com/datacamp/data-cleaning-with-pyspark-live-training/blob/master/data/netflix_titles_dirty_04.csv.gz?raw=True'\n",
        "!wget -O /tmp/netflix_titles_dirty_05.csv.gz 'https://github.com/datacamp/data-cleaning-with-pyspark-live-training/blob/master/data/netflix_titles_dirty_05.csv.gz?raw=True'\n",
        "!wget -O /tmp/netflix_titles_dirty_06.csv.gz 'https://github.com/datacamp/data-cleaning-with-pyspark-live-training/blob/master/data/netflix_titles_dirty_06.csv.gz?raw=True'\n",
        "!wget -O /tmp/netflix_titles_dirty_07.csv.gz 'https://github.com/datacamp/data-cleaning-with-pyspark-live-training/blob/master/data/netflix_titles_dirty_07.csv.gz?raw=True'\n",
        "\n"
      ],
      "execution_count": 6,
      "outputs": [
        {
          "output_type": "stream",
          "text": [
            "--2020-06-12 03:21:54--  https://github.com/datacamp/data-cleaning-with-pyspark-live-training/blob/master/data/netflix_titles_dirty_01.csv.gz?raw=True\n",
            "Resolving github.com (github.com)... 140.82.112.4\n",
            "Connecting to github.com (github.com)|140.82.112.4|:443... connected.\n",
            "HTTP request sent, awaiting response... 302 Found\n",
            "Location: https://github.com/datacamp/data-cleaning-with-pyspark-live-training/raw/master/data/netflix_titles_dirty_01.csv.gz [following]\n",
            "--2020-06-12 03:21:55--  https://github.com/datacamp/data-cleaning-with-pyspark-live-training/raw/master/data/netflix_titles_dirty_01.csv.gz\n",
            "Reusing existing connection to github.com:443.\n",
            "HTTP request sent, awaiting response... 302 Found\n",
            "Location: https://raw.githubusercontent.com/datacamp/data-cleaning-with-pyspark-live-training/master/data/netflix_titles_dirty_01.csv.gz [following]\n",
            "--2020-06-12 03:21:55--  https://raw.githubusercontent.com/datacamp/data-cleaning-with-pyspark-live-training/master/data/netflix_titles_dirty_01.csv.gz\n",
            "Resolving raw.githubusercontent.com (raw.githubusercontent.com)... 151.101.0.133, 151.101.64.133, 151.101.128.133, ...\n",
            "Connecting to raw.githubusercontent.com (raw.githubusercontent.com)|151.101.0.133|:443... connected.\n",
            "HTTP request sent, awaiting response... 200 OK\n",
            "Length: 157568 (154K) [application/octet-stream]\n",
            "Saving to: ‘/tmp/netflix_titles_dirty_01.csv.gz’\n",
            "\n",
            "/tmp/netflix_titles 100%[===================>] 153.88K  --.-KB/s    in 0.04s   \n",
            "\n",
            "2020-06-12 03:21:56 (3.48 MB/s) - ‘/tmp/netflix_titles_dirty_01.csv.gz’ saved [157568/157568]\n",
            "\n",
            "--2020-06-12 03:21:57--  https://github.com/datacamp/data-cleaning-with-pyspark-live-training/blob/master/data/netflix_titles_dirty_02.csv.gz?raw=True\n",
            "Resolving github.com (github.com)... 140.82.112.4\n",
            "Connecting to github.com (github.com)|140.82.112.4|:443... connected.\n",
            "HTTP request sent, awaiting response... 302 Found\n",
            "Location: https://github.com/datacamp/data-cleaning-with-pyspark-live-training/raw/master/data/netflix_titles_dirty_02.csv.gz [following]\n",
            "--2020-06-12 03:21:58--  https://github.com/datacamp/data-cleaning-with-pyspark-live-training/raw/master/data/netflix_titles_dirty_02.csv.gz\n",
            "Reusing existing connection to github.com:443.\n",
            "HTTP request sent, awaiting response... 302 Found\n",
            "Location: https://raw.githubusercontent.com/datacamp/data-cleaning-with-pyspark-live-training/master/data/netflix_titles_dirty_02.csv.gz [following]\n",
            "--2020-06-12 03:21:58--  https://raw.githubusercontent.com/datacamp/data-cleaning-with-pyspark-live-training/master/data/netflix_titles_dirty_02.csv.gz\n",
            "Resolving raw.githubusercontent.com (raw.githubusercontent.com)... 151.101.0.133, 151.101.64.133, 151.101.128.133, ...\n",
            "Connecting to raw.githubusercontent.com (raw.githubusercontent.com)|151.101.0.133|:443... connected.\n",
            "HTTP request sent, awaiting response... 200 OK\n",
            "Length: 156095 (152K) [application/octet-stream]\n",
            "Saving to: ‘/tmp/netflix_titles_dirty_02.csv.gz’\n",
            "\n",
            "/tmp/netflix_titles 100%[===================>] 152.44K  --.-KB/s    in 0.04s   \n",
            "\n",
            "2020-06-12 03:21:59 (3.47 MB/s) - ‘/tmp/netflix_titles_dirty_02.csv.gz’ saved [156095/156095]\n",
            "\n",
            "--2020-06-12 03:22:00--  https://github.com/datacamp/data-cleaning-with-pyspark-live-training/blob/master/data/netflix_titles_dirty_03.csv.gz?raw=True\n",
            "Resolving github.com (github.com)... 140.82.112.4\n",
            "Connecting to github.com (github.com)|140.82.112.4|:443... connected.\n",
            "HTTP request sent, awaiting response... 302 Found\n",
            "Location: https://github.com/datacamp/data-cleaning-with-pyspark-live-training/raw/master/data/netflix_titles_dirty_03.csv.gz [following]\n",
            "--2020-06-12 03:22:01--  https://github.com/datacamp/data-cleaning-with-pyspark-live-training/raw/master/data/netflix_titles_dirty_03.csv.gz\n",
            "Reusing existing connection to github.com:443.\n",
            "HTTP request sent, awaiting response... 302 Found\n",
            "Location: https://raw.githubusercontent.com/datacamp/data-cleaning-with-pyspark-live-training/master/data/netflix_titles_dirty_03.csv.gz [following]\n",
            "--2020-06-12 03:22:01--  https://raw.githubusercontent.com/datacamp/data-cleaning-with-pyspark-live-training/master/data/netflix_titles_dirty_03.csv.gz\n",
            "Resolving raw.githubusercontent.com (raw.githubusercontent.com)... 151.101.0.133, 151.101.64.133, 151.101.128.133, ...\n",
            "Connecting to raw.githubusercontent.com (raw.githubusercontent.com)|151.101.0.133|:443... connected.\n",
            "HTTP request sent, awaiting response... 200 OK\n",
            "Length: 156795 (153K) [application/octet-stream]\n",
            "Saving to: ‘/tmp/netflix_titles_dirty_03.csv.gz’\n",
            "\n",
            "/tmp/netflix_titles 100%[===================>] 153.12K  --.-KB/s    in 0.04s   \n",
            "\n",
            "2020-06-12 03:22:02 (3.47 MB/s) - ‘/tmp/netflix_titles_dirty_03.csv.gz’ saved [156795/156795]\n",
            "\n",
            "--2020-06-12 03:22:02--  https://github.com/datacamp/data-cleaning-with-pyspark-live-training/blob/master/data/netflix_titles_dirty_04.csv.gz?raw=True\n",
            "Resolving github.com (github.com)... 140.82.112.4\n",
            "Connecting to github.com (github.com)|140.82.112.4|:443... connected.\n",
            "HTTP request sent, awaiting response... 302 Found\n",
            "Location: https://github.com/datacamp/data-cleaning-with-pyspark-live-training/raw/master/data/netflix_titles_dirty_04.csv.gz [following]\n",
            "--2020-06-12 03:22:03--  https://github.com/datacamp/data-cleaning-with-pyspark-live-training/raw/master/data/netflix_titles_dirty_04.csv.gz\n",
            "Reusing existing connection to github.com:443.\n",
            "HTTP request sent, awaiting response... 302 Found\n",
            "Location: https://raw.githubusercontent.com/datacamp/data-cleaning-with-pyspark-live-training/master/data/netflix_titles_dirty_04.csv.gz [following]\n",
            "--2020-06-12 03:22:03--  https://raw.githubusercontent.com/datacamp/data-cleaning-with-pyspark-live-training/master/data/netflix_titles_dirty_04.csv.gz\n",
            "Resolving raw.githubusercontent.com (raw.githubusercontent.com)... 151.101.0.133, 151.101.64.133, 151.101.128.133, ...\n",
            "Connecting to raw.githubusercontent.com (raw.githubusercontent.com)|151.101.0.133|:443... connected.\n",
            "HTTP request sent, awaiting response... 200 OK\n",
            "Length: 157324 (154K) [application/octet-stream]\n",
            "Saving to: ‘/tmp/netflix_titles_dirty_04.csv.gz’\n",
            "\n",
            "/tmp/netflix_titles 100%[===================>] 153.64K  --.-KB/s    in 0.04s   \n",
            "\n",
            "2020-06-12 03:22:04 (3.60 MB/s) - ‘/tmp/netflix_titles_dirty_04.csv.gz’ saved [157324/157324]\n",
            "\n",
            "--2020-06-12 03:22:05--  https://github.com/datacamp/data-cleaning-with-pyspark-live-training/blob/master/data/netflix_titles_dirty_05.csv.gz?raw=True\n",
            "Resolving github.com (github.com)... 140.82.112.4\n",
            "Connecting to github.com (github.com)|140.82.112.4|:443... connected.\n",
            "HTTP request sent, awaiting response... 302 Found\n",
            "Location: https://github.com/datacamp/data-cleaning-with-pyspark-live-training/raw/master/data/netflix_titles_dirty_05.csv.gz [following]\n",
            "--2020-06-12 03:22:06--  https://github.com/datacamp/data-cleaning-with-pyspark-live-training/raw/master/data/netflix_titles_dirty_05.csv.gz\n",
            "Reusing existing connection to github.com:443.\n",
            "HTTP request sent, awaiting response... 302 Found\n",
            "Location: https://raw.githubusercontent.com/datacamp/data-cleaning-with-pyspark-live-training/master/data/netflix_titles_dirty_05.csv.gz [following]\n",
            "--2020-06-12 03:22:06--  https://raw.githubusercontent.com/datacamp/data-cleaning-with-pyspark-live-training/master/data/netflix_titles_dirty_05.csv.gz\n",
            "Resolving raw.githubusercontent.com (raw.githubusercontent.com)... 151.101.0.133, 151.101.64.133, 151.101.128.133, ...\n",
            "Connecting to raw.githubusercontent.com (raw.githubusercontent.com)|151.101.0.133|:443... connected.\n",
            "HTTP request sent, awaiting response... 200 OK\n",
            "Length: 155120 (151K) [application/octet-stream]\n",
            "Saving to: ‘/tmp/netflix_titles_dirty_05.csv.gz’\n",
            "\n",
            "/tmp/netflix_titles 100%[===================>] 151.48K  --.-KB/s    in 0.04s   \n",
            "\n",
            "2020-06-12 03:22:07 (3.58 MB/s) - ‘/tmp/netflix_titles_dirty_05.csv.gz’ saved [155120/155120]\n",
            "\n",
            "--2020-06-12 03:22:07--  https://github.com/datacamp/data-cleaning-with-pyspark-live-training/blob/master/data/netflix_titles_dirty_06.csv.gz?raw=True\n",
            "Resolving github.com (github.com)... 140.82.112.4\n",
            "Connecting to github.com (github.com)|140.82.112.4|:443... connected.\n",
            "HTTP request sent, awaiting response... 302 Found\n",
            "Location: https://github.com/datacamp/data-cleaning-with-pyspark-live-training/raw/master/data/netflix_titles_dirty_06.csv.gz [following]\n",
            "--2020-06-12 03:22:08--  https://github.com/datacamp/data-cleaning-with-pyspark-live-training/raw/master/data/netflix_titles_dirty_06.csv.gz\n",
            "Reusing existing connection to github.com:443.\n",
            "HTTP request sent, awaiting response... 302 Found\n",
            "Location: https://raw.githubusercontent.com/datacamp/data-cleaning-with-pyspark-live-training/master/data/netflix_titles_dirty_06.csv.gz [following]\n",
            "--2020-06-12 03:22:08--  https://raw.githubusercontent.com/datacamp/data-cleaning-with-pyspark-live-training/master/data/netflix_titles_dirty_06.csv.gz\n",
            "Resolving raw.githubusercontent.com (raw.githubusercontent.com)... 151.101.0.133, 151.101.64.133, 151.101.128.133, ...\n",
            "Connecting to raw.githubusercontent.com (raw.githubusercontent.com)|151.101.0.133|:443... connected.\n",
            "HTTP request sent, awaiting response... 200 OK\n",
            "Length: 157598 (154K) [application/octet-stream]\n",
            "Saving to: ‘/tmp/netflix_titles_dirty_06.csv.gz’\n",
            "\n",
            "/tmp/netflix_titles 100%[===================>] 153.90K  --.-KB/s    in 0.04s   \n",
            "\n",
            "2020-06-12 03:22:09 (3.39 MB/s) - ‘/tmp/netflix_titles_dirty_06.csv.gz’ saved [157598/157598]\n",
            "\n",
            "--2020-06-12 03:22:10--  https://github.com/datacamp/data-cleaning-with-pyspark-live-training/blob/master/data/netflix_titles_dirty_07.csv.gz?raw=True\n",
            "Resolving github.com (github.com)... 140.82.112.4\n",
            "Connecting to github.com (github.com)|140.82.112.4|:443... connected.\n",
            "HTTP request sent, awaiting response... 302 Found\n",
            "Location: https://github.com/datacamp/data-cleaning-with-pyspark-live-training/raw/master/data/netflix_titles_dirty_07.csv.gz [following]\n",
            "--2020-06-12 03:22:11--  https://github.com/datacamp/data-cleaning-with-pyspark-live-training/raw/master/data/netflix_titles_dirty_07.csv.gz\n",
            "Reusing existing connection to github.com:443.\n",
            "HTTP request sent, awaiting response... 302 Found\n",
            "Location: https://raw.githubusercontent.com/datacamp/data-cleaning-with-pyspark-live-training/master/data/netflix_titles_dirty_07.csv.gz [following]\n",
            "--2020-06-12 03:22:11--  https://raw.githubusercontent.com/datacamp/data-cleaning-with-pyspark-live-training/master/data/netflix_titles_dirty_07.csv.gz\n",
            "Resolving raw.githubusercontent.com (raw.githubusercontent.com)... 151.101.0.133, 151.101.64.133, 151.101.128.133, ...\n",
            "Connecting to raw.githubusercontent.com (raw.githubusercontent.com)|151.101.0.133|:443... connected.\n",
            "HTTP request sent, awaiting response... 200 OK\n",
            "Length: 39700 (39K) [application/octet-stream]\n",
            "Saving to: ‘/tmp/netflix_titles_dirty_07.csv.gz’\n",
            "\n",
            "/tmp/netflix_titles 100%[===================>]  38.77K  --.-KB/s    in 0.02s   \n",
            "\n",
            "2020-06-12 03:22:12 (2.39 MB/s) - ‘/tmp/netflix_titles_dirty_07.csv.gz’ saved [39700/39700]\n",
            "\n"
          ],
          "name": "stdout"
        }
      ]
    },
    {
      "cell_type": "markdown",
      "metadata": {
        "id": "Wo5BjsTS3nmy",
        "colab_type": "text"
      },
      "source": [
        "## Now, let's verify that we have all 7 files we expect"
      ]
    },
    {
      "cell_type": "code",
      "metadata": {
        "id": "8QjJ77UpeS1N",
        "colab_type": "code",
        "outputId": "7b05f41a-a59a-4356-a84f-764719718a9c",
        "colab": {
          "base_uri": "https://localhost:8080/",
          "height": 85
        }
      },
      "source": [
        "!ls /tmp/netflix_titles*"
      ],
      "execution_count": 7,
      "outputs": [
        {
          "output_type": "stream",
          "text": [
            "/tmp/netflix_titles_dirty_01.csv.gz  /tmp/netflix_titles_dirty_05.csv.gz\n",
            "/tmp/netflix_titles_dirty_02.csv.gz  /tmp/netflix_titles_dirty_06.csv.gz\n",
            "/tmp/netflix_titles_dirty_03.csv.gz  /tmp/netflix_titles_dirty_07.csv.gz\n",
            "/tmp/netflix_titles_dirty_04.csv.gz\n"
          ],
          "name": "stdout"
        }
      ]
    },
    {
      "cell_type": "markdown",
      "metadata": {
        "id": "5NLnNIcR3z3G",
        "colab_type": "text"
      },
      "source": [
        "## And then, we'll take a look at the first 20 rows of one of the files"
      ]
    },
    {
      "cell_type": "code",
      "metadata": {
        "id": "45574aapb4eX",
        "colab_type": "code",
        "outputId": "18b17f90-2365-4b91-80b5-d6311f44f58f",
        "colab": {
          "base_uri": "https://localhost:8080/",
          "height": 377
        }
      },
      "source": [
        "!gunzip -c /tmp/netflix_titles_dirty_03.csv.gz | head -20"
      ],
      "execution_count": 8,
      "outputs": [
        {
          "output_type": "stream",
          "text": [
            "80142103\tMovie\tBottom of the World\tRichard Sears\tJena Malone, Douglas Smith, Ted Levine, Tamara Duarte, Kelly Pendygraft, Mark Sivertsen, Jon McLaren\tCanada, United States\tMarch 31, 2017\t2017\tTV-MA\t84 min\tDramas, Independent Movies, Thrillers\tEn route to a fresh start in Los Angeles, young couple Alex and Scarlett stop over in a sleepy Southwestern town that loosens their grip on reality.\n",
            "80179907\tMovie\tBridget Christie: Stand Up for Her\t\tBridget Christie\tUnited Kingdom\tMarch 31, 2017\t2016\tTV-MA\t51 min\tStand-Up Comedy\tPerforming stand-up for a packed house in London's Hoxton Hall, comedian Bridget Christie dives into the politics of gender, sex and equality.\n",
            "80152842\tMovie\tFirstBorn\tNirpal Bhogal\tAntonia Thomas, Luke Norris, Thea Petrie, Eileen Davies, Jonathan Hyde\tUnited Kingdom\tMarch 31, 2017\t2016\tTV-MA\t90 min\tHorror Movies, International Movies\tA young couple fights supernatural foes in an attempt to save their daughter from the dark and mysterious forces that follow her every move.\n",
            "80049928\tTV Show\tFive Came Back\tLaurent Bouzereau\tSteven Spielberg, Guillermo del Toro, Lawrence Kasdan, Francis Ford Coppola, Paul Greengrass, Meryl Streep\tUnited States\tMarch 31, 2017\t2017\tTV-MA\t1 Season\tDocuseries\tFive acclaimed contemporary directors tell the story of five legendary Hollywood filmmakers who enlisted in the armed forces to document World War II.\n",
            "70296765\tMovie\tGLOW: The Story of the Gorgeous Ladies of Wrestling\tBrett Whitcomb\t\tUnited States\tMarch 31, 2017\t2012\tNR\t77 min\tDocumentaries, Sports Movies\tThis engaging documentary chronicles the 1980s phenomenon \"The Gorgeous Ladies of Wrestling,\" which elevated its female grapplers to star status.\n",
            "80131168\tMovie\tHiroshima: The Real History\tLucy van Beek\tJohn Sessions\tUnited Kingdom\tMarch 31, 2017\t2015\tTV-PG\t95 min\tDocumentaries\tThis detailed examination of the 1945 Hiroshima bombing includes the prelude to and aftermath of history's controversial first use of atomic weapons.\n",
            "80119190\tMovie\tKnow Your Enemy - Japan\tFrank Capra, Joris Ivens\tWalter Huston, Dana Andrews\tUnited States\tMarch 31, 2017\t1945\tTV-14\t63 min\tClassic Movies, Documentaries\tThough culturally insensitive by modern standards, this propaganda film examines the history of Japan from the 16th century through the 1930s.\n",
            "80119187\tMovie\tLet There Be Light\tJohn Huston\tWalter Huston\tUnited States\tMarch 31, 2017\t1946\tTV-PG\t58 min\tClassic Movies, Documentaries\tSome returning combat veterans suffer scars that are more psychological than physical. This film follows patients and staff during their treatment.\n",
            "80048568\tTV Show\tLondon Spy\tJakob Verbruggen\tBen Whishaw, Jim Broadbent, Edward Holcroft, Samantha Spiro, Charlotte Rampling, Lorraine Ashbourne, David Hayman, Clarke Peters, Adrian Lester, Harriet Walter\tUnited Kingdom\tMarch 31, 2017\t2015\tTV-MA\t1 Season\tBritish TV Shows, Crime TV Shows, International TV Shows\tWhen his reclusive-banker lover disappears, a hard-partying young British hedonist plunges into the dangerous world of espionage to find the truth.\n",
            "80178464\tTV Show\tMonkey Planet\t\tGeorge McGavin\tUnited Kingdom\tMarch 31, 2017\t2014\tTV-PG\t1 Season\tBritish TV Shows, Docuseries, Science & Nature TV\tJoin zoologist Dr. George McGavin for a fascinating, up-close look at the habits and behaviors of primates, our closest animal relatives.\n",
            "80119192\tMovie\tNazi Concentration Camps\tGeorge Stevens\t\tUnited States\tMarch 31, 2017\t1945\tTV-MA\t59 min\tClassic Movies, Documentaries\tShocking footage shows Nazi concentration camps after liberation, including Buchenwald and Ohrdruf, where Gen. Eisenhower ordered local Nazis to tour.\n",
            "70202593\tTV Show\tNorth & South\t\tDaniela Denby-Ashe, Richard Armitage, Tim Pigott-Smith, Sinéad Cusack, Lesley Manville, Brendan Coyle, Anna Maxwell Martin, Jo Joyner, Pauline Quirke, Kay Lyon\tUnited Kingdom\tMarch 31, 2017\t2004\tNR\t1 Season\tBritish TV Shows, Romantic TV Shows, TV Dramas\tWhen her father moves his family to an industrial mill town, the parson's daughter, Margaret Hale, struggles to adapt to her harsh new surroundings.\n",
            "60027945\tMovie\tPrelude to War\tFrank Capra\t\tUnited States\tMarch 31, 2017\t1942\tTV-PG\t52 min\tClassic Movies, Documentaries\tFrank Capra's documentary chronicles the rise of authoritarianism in Germany, Italy and Japan as America prepares for a defense of liberty.\n",
            "80119188\tMovie\tSan Pietro\tJohn Huston\t\tUnited States\tMarch 31, 2017\t1945\tTV-14\t32 min\tClassic Movies, Documentaries\tAfter the Allies invade Italy, the Liri Valley town of San Pietro becomes an example of the brutal effects of combat, both for soldiers and civilians.\n",
            "60027942\tMovie\tThe Battle of Midway\tJohn Ford\tHenry Fonda, Jane Darwell\tUnited States\tMarch 31, 2017\t1942\tTV-G\t18 min\tClassic Movies, Documentaries\tDirector John Ford captures combat footage of the Battle of Midway, an air and sea campaign that was a turning point in the war in the Pacific.\n",
            "80115857\tMovie\tThe Discovery\tCharlie McDowell\tJason Segel, Rooney Mara, Robert Redford, Riley Keough, Jesse Plemons, Ron Canada\tUnited States\tMarch 31, 2017\t2017\tTV-MA\t102 min\tDramas, Independent Movies, Romantic Movies\tA scientist whose proof of an afterlife caused a rash of suicides forges ahead with his research, while his disapproving son falls for a troubled woman.\n",
            "70281026\tTV Show\tThe Fear\tMichael Samuels\tPeter Mullan, Anastasia Hille, Harry Lloyd, Paul Nicholls, Demosthenes Chrysan, Dragos Bucur, Shaban Arifi, Julia Ragnarsson, Danny Sapani, Nigel Lindsay, Osy Ikhile, Sidney Kean, Lisa McAllister, Catherine Winter, Amarildo Kola, Julius Peter Wells\tUnited Kingdom\tMarch 31, 2017\t2012\tTV-MA\t1 Season\tBritish TV Shows, Crime TV Shows, TV Dramas\tRichie Beckett is an aging Brighton crime boss who's struggling with the onset of dementia, just as a rival gang is trying to take over his territory.\n",
            "70304244\tTV Show\tThe Great Train Robbery\t\tLuke Evans, Jim Broadbent, Paul Anderson, Martin Compston, Neil Maskell, Jack Roth, George Costigan, Robert Glenister, Nick Moran, Tim Pigott-Smith, James Fox, James Wilby, Jack Gordon, Nicholas Murchie, Del Synnott, Richard Hope, John Salthouse\tUnited Kingdom\tMarch 31, 2017\t2013\tNR\t1 Season\tBritish TV Shows, Crime TV Shows, International TV Shows\tThis two-part tale delivers the true story of the Great Train Robbery of 1963, the biggest one in England's history.\n",
            "80119194\tMovie\tThe Memphis Belle: A Story of a\n",
            "Flying Fortress\"\tWilliam Wyler\t\tUnited States\tMarch 31, 2017\t1944\tTV-PG\t40 min\tClassic Movies, Documentaries\tThis documentary centers on the crew of the B-17 Flying Fortress Memphis Belle as it prepares to execute a strategic bombing mission over Germany.\n"
          ],
          "name": "stdout"
        }
      ]
    },
    {
      "cell_type": "markdown",
      "metadata": {
        "id": "tlIBIjOM39AS",
        "colab_type": "text"
      },
      "source": [
        "# Loading our initial DataFrame\n",
        "\n",
        "Let's take a look at what Spark does with our data and see if it can properly parse the output. To do this, we'll first load the content into a DataFrame using the `spark.read.csv()` method. We'll pass in three arguments - the path to the file(s) and an entry for `header=False`. Our files do not have a header row, so we must specify this or risk a data row being interpreted as a header. The last argument we add is the `sep` option, which specifies the field separator. Often in CSV files this is a comma `,`, but in our files it's a `\\t` or tab character."
      ]
    },
    {
      "cell_type": "code",
      "metadata": {
        "id": "uQ_z1ZFYb9AX",
        "colab_type": "code",
        "colab": {}
      },
      "source": [
        "titles_df = spark.read.csv('/tmp/netflix_titles_dirty*.csv.gz', header=False, sep='\\t')"
      ],
      "execution_count": 0,
      "outputs": []
    },
    {
      "cell_type": "markdown",
      "metadata": {
        "id": "lUFy-nit4fmP",
        "colab_type": "text"
      },
      "source": [
        "## Initial analysis\n",
        "\n",
        "Let's look at the first 100 rows using the `.show()` method on the DataFrame, and we'll pass in the number of rows to display and send set the `truncate` option to False so we can see all the DataFrame content."
      ]
    },
    {
      "cell_type": "code",
      "metadata": {
        "id": "0LjdckdCcCQR",
        "colab_type": "code",
        "outputId": "4407af8b-cc97-4370-9cbb-7ae7626064f0",
        "colab": {
          "base_uri": "https://localhost:8080/",
          "height": 1000
        }
      },
      "source": [
        "titles_df.show(150, truncate=False)"
      ],
      "execution_count": 17,
      "outputs": [
        {
          "output_type": "stream",
          "text": [
            "+------------------------------------------------------------+-------+-------------------------------------------------+-----------------------------------------------------+--------------------------------------------------------------------------------------------------------------------------------------------------------------------------------------------------------------------------------------------------------------------------------------------------------------------------+---------------------------------------------------------------------------------------------------------------------------+---------------+----+--------+--------+-------------------------------------------------------------+-------------------------------------------------------------------------------------------------------------------------------------------------------------------------------------------------------------------+\n",
            "|_c0                                                         |_c1    |_c2                                              |_c3                                                  |_c4                                                                                                                                                                                                                                                                                                                       |_c5                                                                                                                        |_c6            |_c7 |_c8     |_c9     |_c10                                                         |_c11                                                                                                                                                                                                               |\n",
            "+------------------------------------------------------------+-------+-------------------------------------------------+-----------------------------------------------------+--------------------------------------------------------------------------------------------------------------------------------------------------------------------------------------------------------------------------------------------------------------------------------------------------------------------------+---------------------------------------------------------------------------------------------------------------------------+---------------+----+--------+--------+-------------------------------------------------------------+-------------------------------------------------------------------------------------------------------------------------------------------------------------------------------------------------------------------+\n",
            "|81002212                                                    |Movie  |Bioscope                                         |Gajendra Ahire, Viju Mane, Girish Mohite, Ravi Jadhav|Nina Kulkarni, Suhas Palshikar, Kushal Badrike, Spruha Joshi, Mangesh Desai, Smita Tambe, Veena Jamkar, Sandeep Khare                                                                                                                                                                                                     |India                                                                                                                      |August 15, 2018|2015|TV-14   |131 min |Dramas, International Movies, LGBTQ Movies                   |Inspired by classic and contemporary literature, four renowned Marathi directors create four individual stories in this anthology of short films.                                                                  |\n",
            "|80176707                                                    |Movie  |For Here or to Go?                               |Rucha Humnabadkar                                    |Ali Fazal, Melanie Chandra, Rajit Kapoor, Amitosh Nagpal, Omi Vaidya, Samrat Chakrabarti, Keith Stevenson                                                                                                                                                                                                                 |United States, India                                                                                                       |August 15, 2018|2015|TV-MA   |105 min |Comedies, Dramas, Independent Movies                         |A software engineer must decide if he'd rather navigate America's frustrating visa renewal process or simply return to his home country of India.                                                                  |\n",
            "|80199381                                                    |Movie  |Hostiles                                         |Scott Cooper                                         |Christian Bale, Rosamund Pike, Wes Studi, Jesse Plemons, Timothée Chalamet, Ben Foster, Adam Beach, Rory Cochrane, Peter Mullan, Scott Wilson, Paul Anderson, Jonathan Majors, John Benjamin Hickey, Q'orianka Kilcher, Ryan Bingham                                                                                      |United States                                                                                                              |August 15, 2018|2017|R       |134 min |Dramas                                                       |After a long career battling the Cheyenne, a U.S. Army captain is ordered to safely escort the tribe's most influential chief to his Montana homeland.                                                             |\n",
            "|80202176                                                    |Movie  |Hurricane Bianca: From Russia With Hate          |Matt Kugelman                                        |Roy Haylock, Rachel Dratch, Brian McCook, D.J. \"Shangela\" Pierce, Doug Plaut, Cheyenne Jackson, Kristen Johnston, Heather McDonald, Wanda Sykes, Janeane Garofalo                                                                                                                                                         |United States                                                                                                              |August 15, 2018|2018|TV-MA   |85 min  |Comedies, Independent Movies, LGBTQ Movies                   |When Texas teacher Richard is lured to Russia under false pretenses by his enemy Deb, his drag alter ego Bianca soon turns the country upside down.                                                                |\n",
            "|81014293                                                    |TV Show|Nuestra Lucha Libre                              |null                                                 |null                                                                                                                                                                                                                                                                                                                      |null                                                                                                                       |August 15, 2018|2018|TV-MA   |1 Season|Docuseries, International TV Shows, Spanish-Language TV Shows|This documentary series lifts the mask on Mexican wrestling, diving into the daily lives of its stars, examining the sport’s cultural impact and more.                                                             |\n",
            "|81014811                                                    |TV Show|The Creative Indians                             |null                                                 |null                                                                                                                                                                                                                                                                                                                      |null                                                                                                                       |August 15, 2018|2017|NR      |1 Season|Docuseries, International TV Shows                           |From chefs and comedians to filmmakers and fashion designers, India’s most notable imaginative minds share their artistic journeys.                                                                                |\n",
            "|70123118                                                    |Movie  |What's Your Raashee?                             |Ashutosh Gowariker                                   |Priyanka Chopra, Harman Baweja, Suzy Brack, Gene Fojtik, Anjan Srivastav, Darshan Jariwala, Dilip Joshi, Daya Shankar Pandey, Yuri Suri, Rajesh Vivek, Geeta Tyagi                                                                                                                                                        |India                                                                                                                      |August 15, 2018|2009|TV-PG   |203 min |Comedies, International Movies, Music & Musicals             |To protect his family from ruin, Yogesh must marry his dream girl in only ten days, so he rushes into dating women with different astrological signs.                                                              |\n",
            "|80175913                                                    |TV Show|20 Minutes                                       |null                                                 |Tuba Büyüküstün, Ilker Aksum, Bülent Emin Yarar, İpek Bilgin, Müjde Uzman, Firat Çelik, Ayten Uncuoglu, Cihat Tamer                                                                                                                                                                                                       |Turkey                                                                                                                     |August 15, 2017|2013|TV-MA   |1 Season|Crime TV Shows, International TV Shows, TV Dramas            |When his wife is convicted of murder, a horrified family man races to prove her innocence while a dogged investigator sets out to uncover the truth.                                                               |\n",
            "|80182274                                                    |Movie  |Barbecue                                         |Matthew Salleh                                       |null                                                                                                                                                                                                                                                                                                                      |Australia, Armenia, Japan, Jordan, Mexico, Mongolia, New Zealand, Philippines, South Africa, Sweden, United States, Uruguay|August 15, 2017|2017|TV-MA   |101 min |Documentaries, International Movies                          |A blend of cultural nuance and mesmerizing techniques adds flavor to this globe-hopping celebration of cooking, tradition and community.                                                                           |\n",
            "|80185166                                                    |Movie  |Brad Paisley's Comedy Rodeo                      |Jay Chapman                                          |Brad Paisley, Nate Bargatze, John Heffron, Jon Reep, Sarah Tiana, Mike E. Winfield                                                                                                                                                                                                                                        |United States                                                                                                              |August 15, 2017|2017|TV-MA   |63 min  |Stand-Up Comedy                                              |Country music star Brad Paisley hosts a night of music and laughs with comics Nate Bargatze, John Heffron, Jon Reep, Sarah Tiana and Mike E. Winfield.                                                             |\n",
            "|80068219                                                    |Movie  |Colin Quinn: Unconstitutional                    |Jay Chapman                                          |Colin Quinn                                                                                                                                                                                                                                                                                                               |United States                                                                                                              |August 15, 2017|2015|TV-MA   |56 min  |Stand-Up Comedy                                              |New York comedian Colin Quinn writes and stars in this live one-man stage show that dissects and deconstructs U.S. constitutional history.                                                                         |\n",
            "|70209163                                                    |Movie  |Goon                                             |Michael Dowse                                        |Seann William Scott, Jay Baruchel, Liev Schreiber, Alison Pill, Marc-André Grondin, Kim Coates, Eugene Levy, Nicholas Campbell, Richard Clarkin, Jonathan Cherry                                                                                                                                                          |United States, Canada                                                                                                      |August 15, 2017|2011|R       |92 min  |Comedies, Sports Movies                                      |When he's seen dispatching a rude opposing hockey player in the stands, Doug Glatt is hired by a rival team ... for his fighting skills.                                                                           |\n",
            "|80170687                                                    |TV Show|Million Yen Women                                |null                                                 |Yojiro Noda, Rila Fukushima, Rena Matsui, Miwako Wagatsuma, Rena Takeda, Yuko Araki, Yuya Endo, Kaito Yoshimura, Moeka Hoshi, Juri Ihata, Mariko Tsutsui, Kanji Furutachi, Tetsuhiro Ikeda, Takashi Yamanaka, Tomoya Nakamura, Lily Franky                                                                                |Japan                                                                                                                      |August 15, 2017|2017|TV-MA   |1 Season|Crime TV Shows, International TV Shows, TV Dramas            |Five beautiful but mysterious women move in with unsuccessful novelist Shin, who manages their odd household in exchange for a tidy monthly sum.                                                                   |\n",
            "|80163191                                                    |Movie  |My Ex-Ex                                         |Nathaniel Warsh                                      |André Bharti, Katherine Barrell, Ray Galletti, Emily Alatalo, Tamara Duarte, Randal Edwards, Alastair Forbes, Jesse Camacho                                                                                                                                                                                               |Canada                                                                                                                     |August 15, 2017|2015|TV-MA   |91 min  |Comedies, Romantic Movies                                    |A recently dumped attorney hires a psychic to help her win back her boyfriend. Things take an unexpected turn when another ex re-enters the picture.                                                               |\n",
            "|80184661                                                    |Movie  |We're No Animals                                 |Alejandro Agresti                                    |John Cusack, Paul Hipp, Kevin Morris, Alejandro Agresti, Mario Alarcón, Norman Briski, Lucila Solá, Juana Viale, Pablo Bossi, Leticia Brédice                                                                                                                                                                             |United States, Argentina                                                                                                   |August 15, 2017|2015|TV-MA   |94 min  |Comedies, Dramas, Independent Movies                         |Unhappy with his commercial film work, a jaded Hollywood actor moves to Argentina to participate in an experimental thesis on social philosophy.                                                                   |\n",
            "|80114588                                                    |TV Show|Behind Enemy Lines                               |null                                                 |null                                                                                                                                                                                                                                                                                                                      |United States                                                                                                              |August 15, 2016|2001|TV-14   |1 Season|British TV Shows, Docuseries                                 |After dire setbacks in 1940, Winston Churchill commissions a new kind of fighting force: commandos trained to use stealth and audacious tactics.                                                                   |\n",
            "|80078761                                                    |Movie  |Being AP                                         |Anthony Wonke                                        |Tony McCoy                                                                                                                                                                                                                                                                                                                |United Kingdom                                                                                                             |August 15, 2016|2015|TV-14   |99 min  |Documentaries, International Movies, Sports Movies           |With retirement staring him in the face, an all-time-great jump jockey pursues his 20th consecutive title in his unrelenting quest for glory.                                                                      |\n",
            "|80115844                                                    |Movie  |John & Jane                                      |Ashim Ahluwalia                                      |null                                                                                                                                                                                                                                                                                                                      |India                                                                                                                      |August 15, 2016|2005|TV-14   |79 min  |Documentaries, International Movies                          |Truth and fiction blend in this quasi-documentary about six exhausted workers at a Mumbai call center servicing U.S. customers.                                                                                    |\n",
            "|80114111                                                    |Movie  |Louis C.K.: Live at the Comedy Store             |Louis C.K.                                           |Louis C.K.                                                                                                                                                                                                                                                                                                                |United States                                                                                                              |August 15, 2016|2015|null    |66 min  |Movies                                                       |The comic puts his trademark hilarious/thought-provoking spin on finding a bat in his kitchen, seeing rats having sex, Boston accents and dead pets.                                                               |\n",
            "|80108998                                                    |Movie  |Real Crime: Supermarket Heist (Tesco Bomber)     |null                                                 |null                                                                                                                                                                                                                                                                                                                      |United Kingdom                                                                                                             |August 15, 2016|2010|TV-14   |46 min  |Documentaries                                                |In 2000, U.K. detectives spent months tracking a criminal known only as Sally, who was targeting a supermarket chain with extortion and letter bombs.                                                              |\n",
            "|70308278                                                    |Movie  |Mission Blue                                     |Robert Nixon, Fisher Stevens                         |James Cameron, Michael deGruy, Sylvia Earle, Bryce Groark, Jeremy Jackson, Carl Safina                                                                                                                                                                                                                                    |United States, Bermuda, Ecuador                                                                                            |August 15, 2014|2014|TV-Y7   |94 min  |Documentaries                                                |This documentary follows oceanographer Sylvia Earle's campaign to save the world's oceans from threats such as overfishing and toxic waste.                                                                        |\n",
            "|80223113                                                    |TV Show|Happy Jail                                       |null                                                 |null                                                                                                                                                                                                                                                                                                                      |null                                                                                                                       |August 14, 2019|2019|TV-MA   |1 Season|Crime TV Shows, Docuseries                                   |The Philippine jail known for a viral Michael Jackson dance video comes under the management of an ex-convict, sparking controversy and criticism.                                                                 |\n",
            "|81147274                                                    |Movie  |Uyare                                            |Manu Ashokan                                         |Parvathy, Asif Ali, Tovino Thomas, Siddique, Pratap Pothan, Samyuktha Menon, Anarkali Marikar, Prem Prakash                                                                                                                                                                                                               |India                                                                                                                      |August 14, 2019|2019|TV-14   |119 min |Dramas, International Movies                                 |An aspiring pilot fights for her future – and justice – after surviving an acid attack from her abusive boyfriend.                                                                                                 |\n",
            "|80136450                                                    |TV Show|Exclusive Edition                                |James Lee                                            |Berg Lee, Yise Loo, Alvin Wong, Hady, Monday Kang, Ruobing, Wymen Yang, May June, Aenie Wong, Ernest Chong                                                                                                                                                                                                                |null                                                                                                                       |August 14, 2017|2008|TV-14   |1 Season|International TV Shows, TV Dramas                            |Young journalists working for a magazine juggle careers, romance and other challenges while reporting on social issues and news stories in Malaysia.                                                               |\n",
            "|80136453                                                    |TV Show|Glowing Embers                                   |null                                                 |Henley Hii, Debbie Goh, Frederick Lee, Wymen Yang, Melvin Sia, Alvin Wong                                                                                                                                                                                                                                                 |null                                                                                                                       |August 14, 2017|2010|TV-14   |1 Season|International TV Shows, TV Dramas                            |Amid Malaysia's charcoal industry, a woman deftly adapts to her environs as she juggles three men in her life: her husband, her lover and her friend.                                                              |\n",
            "|80163530                                                    |TV Show|Persona                                          |null                                                 |Loo Aye Keng, Kyo, Jojo Goh, Fabian Loo, Emily Chan                                                                                                                                                                                                                                                                       |null                                                                                                                       |August 14, 2017|2015|TV-PG   |1 Season|Crime TV Shows, International TV Shows, TV Dramas            |A private investigation firm takes on sensitive cases while its uniquely skilled agents deal with issues both inside and out of the office.                                                                        |\n",
            "|80136455                                                    |TV Show|The Iron Lady                                    |null                                                 |Yeo Yann Yann, Aenie Wong, Seck Fook Yee, Jacky Kam, Frederick Lee, Jeffery Cheng, Mandy Chen                                                                                                                                                                                                                             |null                                                                                                                       |August 14, 2017|2009|TV-PG   |1 Season|International TV Shows, TV Dramas                            |After business troubles destroy her father, a headstrong young woman does battle with her deeply patriarchal culture to secure her family's legacy.                                                                |\n",
            "|80039439                                                    |Movie  |The Outcasts                                     |Peter Hutchings                                      |Victoria Justice, Eden Sher, Ashley Rickards, Claudia Lee, Katie Chang, Peyton List, Jazmyn Richardson, Avan Jogia, Will Peltz                                                                                                                                                                                            |United States                                                                                                              |August 14, 2017|2017|PG-13   |94 min  |Comedies                                                     |After failing to strike a truce with their school's queen bee, two misfit best friends lead a nerd uprising that turns social hierarchy on its head.                                                               |\n",
            "|80044804                                                    |Movie  |Demetri Martin: Live (At the Time)               |Jay Karas                                            |Demetri Martin                                                                                                                                                                                                                                                                                                            |United States                                                                                                              |August 14, 2015|2015|TV-MA   |62 min  |Stand-Up Comedy                                              |Demetri Martin brings his off-kilter take on acoustic guitar, hairless cats, color schemes, and the word \"nope\" to Washington in his original special.                                                             |\n",
            "|81147278                                                    |Movie  |90 ML                                            |Anita Udeep                                          |Oviya, Masoom Shankar, Bommu Lakshmi, Monisha Ram, Tej Raj, Shree Gopika, Anson Paul, Devadarshini Chetan                                                                                                                                                                                                                 |India                                                                                                                      |August 13, 2019|2019|TV-14   |123 min |Comedies, International Movies, Music & Musicals             |Four friends shake up their lives when they meet a new woman in their apartment complex who encourages them to embrace their wild sides.                                                                           |\n",
            "|81146011                                                    |Movie  |Calum von Moger: Unbroken                        |Vlad Yudin                                           |Calum Von Moger                                                                                                                                                                                                                                                                                                           |United States                                                                                                              |August 13, 2019|2019|TV-MA   |93 min  |Documentaries, Sports Movies                                 |Bodybuilder and two-time Mr. Universe, Calum von Moger, reflects on his rise to fame and battle to come back from a debilitating injury.                                                                           |\n",
            "|81123826                                                    |Movie  |Hasta los dientes                                |Alberto Arnaut Estrada                               |null                                                                                                                                                                                                                                                                                                                      |Mexico                                                                                                                     |August 13, 2019|2018|TV-MA   |109 min |Documentaries, International Movies                          |This documentary follows the controversy surrounding the 2010 murders of two students, who were framed as criminals and killed by the Mexican military.                                                            |\n",
            "|81002933                                                    |TV Show|Tiffany Haddish Presents: They Ready             |null                                                 |Tracey Ashley, Flame Monroe, Aida Rodriguez, Marlo Williams, April Macie, Chaunté Wayans, Tiffany Haddish                                                                                                                                                                                                                 |United States                                                                                                              |August 13, 2019|2019|TV-MA   |1 Season|Stand-Up Comedy & Talk Shows, TV Comedies                    |Hand-picked by Tiffany Haddish, six diverse comedians showcase their raw humor in a series of specials oozing with energy.                                                                                         |\n",
            "|81135868                                                    |Movie  |Woodstock                                        |Barak Goodman                                        |null                                                                                                                                                                                                                                                                                                                      |United States                                                                                                              |August 13, 2019|2019|TV-MA   |97 min  |Documentaries, Music & Musicals                              |For the 50th anniversary of the legendary Woodstock festival, organizers and attendees reminisce about one of the defining moments of the 1960s.                                                                   |\n",
            "|80162142                                                    |Movie  |Hot Property                                     |Max McGill                                           |MyAnna Buring, Tom Rhys Harries, Ella Smith, Sam Phillips, Kate Bracken                                                                                                                                                                                                                                                   |United Kingdom                                                                                                             |August 13, 2017|2016|TV-MA   |82 min  |Comedies, Independent Movies                                 |When a resourceful but flighty Londoner is threatened with eviction, she vows to do whatever it takes to defeat a greedy real estate agent.                                                                        |\n",
            "|80175483                                                    |Movie  |Mission Control: The Unsung Heroes of Apollo     |David Fairhead                                       |null                                                                                                                                                                                                                                                                                                                      |United States, United Kingdom                                                                                              |August 13, 2017|2017|TV-14   |100 min |Documentaries                                                |Combining archive footage with present-day interviews, this documentary explores how Apollo's mission control helped change the course of history.                                                                 |\n",
            "|80100772                                                    |Movie  |13 Cameras                                       |Victor Zarcoff                                       |PJ McCabe, Brianne Moncrief, Sarah Baldwin, Jim Cummings, Heidi Niedermeyer, Neville Archambault                                                                                                                                                                                                                          |United States                                                                                                              |August 13, 2016|2015|NR      |90 min  |Horror Movies, Independent Movies, Thrillers                 |Young parents-to-be Claire and Ryan move into a suburban rental home, unaware that someone is secretly watching their every move via hidden cameras.                                                               |\n",
            "|81145135                                                    |TV Show|DC Super Hero Girls                              |null                                                 |Grey Griffin, Tara Strong, Nicole Sullivan, Kari Wahlgren, Myrna Velasco, Kimberly Brooks                                                                                                                                                                                                                                 |United States                                                                                                              |August 12, 2019|2019|TV-Y7-FV|1 Season|Kids' TV                                                     |As Metropolis High students, super teens Wonder Woman, Supergirl, Bumblebee, Batgirl, Zatanna, and Green Lantern fight crime, classwork and crushes.                                                               |\n",
            "|80188580                                                    |Movie  |Chocolate City: Vegas Strip                      |Jean-Claude La Marre                                 |Robert Ri'chard, Darrin Dewitt Henson, Ginuwine, Gilbert Saldivar, Keith Carlos, Michael Bolwaire, Willie Taylor, Michael Jai White, Vivica A. Fox, Mekhi Phifer                                                                                                                                                          |United States                                                                                                              |August 12, 2017|2017|TV-MA   |90 min  |Dramas                                                       |The exotic dancers from Chocolate City get back together for a trip to Las Vegas and a chance at $500,000 in prize money.                                                                                          |\n",
            "|80106737                                                    |Movie  |Los Herederos                                    |Jorge Hernandez Aldana                               |Máximo Hollander, Sebastián Aguirre, Úrsula Pruneda, Rodrigo Mendoza, Germán Bracco, Tomás Manterola, Regina Soto, Diego Velázquez, Mónica Del Carmen, José Egüez, Pablo Cruz                                                                                                                                             |Mexico                                                                                                                     |August 12, 2017|2015|TV-MA   |71 min  |Dramas, International Movies                                 |Spurred by boredom and peer pressure, a group of suburban teens becomes increasingly violent and find their paths intersecting those of their parents.                                                             |\n",
            "|80142058                                                    |Movie  |Naked                                            |Michael Tiddes                                       |Marlon Wayans, Regina Hall, Dennis Haysbert, Loretta Devine, Eliza Coupe, Scott Foley, J.T. Jackson, Brian McKnight, Cory Hardrict, Neil Brown Jr., David Sheridan, Minka Kelly                                                                                                                                           |United States                                                                                                              |August 11, 2017|2017|TV-14   |97 min  |Comedies, Romantic Movies                                    |Rob's madly in love and about to be married. Unfortunately, he's also naked, stuck in an elevator and caught in a time loop.                                                                                       |\n",
            "|70044256                                                    |Movie  |Jim Gaffigan: Beyond the Pale                    |Michael Drumm                                        |Jim Gaffigan                                                                                                                                                                                                                                                                                                              |United States                                                                                                              |August 11, 2016|2005|TV-14   |72 min  |Stand-Up Comedy                                              |Comedian Jim Gaffigan cuts loose on a variety of topics, including Hot Pockets, holidays, Catholicism and his favorite activity: doing nothing.                                                                    |\n",
            "|70113636                                                    |Movie  |Jim Gaffigan: King Baby                          |Troy Miller                                          |Jim Gaffigan                                                                                                                                                                                                                                                                                                              |United States                                                                                                              |August 11, 2016|2009|TV-PG   |71 min  |Stand-Up Comedy                                              |Jim Gaffigan offers up his take on bacon, bowling and other weighty topics in this stand-up performance filmed live in Austin on his 2008 comedy tour.                                                             |\n",
            "|70237054                                                    |Movie  |Jim Gaffigan: Mr. Universe                       |Jay Karas                                            |Jim Gaffigan                                                                                                                                                                                                                                                                                                              |United States                                                                                                              |August 11, 2016|2012|TV-14   |77 min  |Stand-Up Comedy                                              |Funnyman Jim Gaffigan offers up his unique take on everything from Disney World to overweight whales in this live show from Washington, D.C.                                                                       |\n",
            "|70301469                                                    |Movie  |Jim Gaffigan: Obsessed                           |Jay Chapman                                          |Jim Gaffigan                                                                                                                                                                                                                                                                                                              |United States                                                                                                              |August 11, 2016|2014|TV-14   |70 min  |Stand-Up Comedy                                              |Comic Jim Gaffigan delivers his sardonic take on topics like eating, exercise, weddings and his five kids in this live stand-up special.                                                                           |\n",
            "|80165437                                                    |TV Show|72 Dangerous Animals: Asia                       |null                                                 |Bob Brisbane                                                                                                                                                                                                                                                                                                              |Australia                                                                                                                  |August 10, 2018|2018|TV-14   |1 Season|Docuseries, International TV Shows, Science & Nature TV      |From fangs to claws to venomous stings, they all wield deadly weapons. But which creature will be crowned the fiercest of all?                                                                                     |\n",
            "|80188953                                                    |TV Show|Afflicted                                        |null                                                 |null                                                                                                                                                                                                                                                                                                                      |United States                                                                                                              |August 10, 2018|2018|TV-MA   |1 Season|Docuseries, Reality TV                                       |Baffling symptoms. Controversial diagnoses. Costly treatments. Seven people with chronic illnesses search for answers – and relief.                                                                                |\n",
            "|80211884                                                    |TV Show|All About the Washingtons                        |null                                                 |Joseph Simmons, Justine Simmons, Kiana Ledé, Nathan Anderson, Leah Rose Randall, Maceo Smedley, Quincy Fouse, DJ Ruckus, Adain Bradley, Tim Meadows, Daymond John, Erick Chavarria, Christopher Clarke, Aubrey Cleland, Arsenio Hall, Stephen Schneider, Max Goudsmit, Noah Gerry, Jamie VanDyke, Ashleigh Hairston       |United States                                                                                                              |August 10, 2018|2018|TV-PG   |1 Season|TV Comedies                                                  |Hip-hop icon MC Joe Speed retires from showbiz and finds a new rhythm balancing business, romance and everyday family chaos.                                                                                       |\n",
            "|81005454                                                    |Movie  |Beyond the Clouds                                |Majid Majidi                                         |Ishaan Khattar, Malavika Mohanan, Goutam Ghose, Sharada, Tannishtha Chatterjee, Shashank Shende, Hema Singh, Akash Gopal                                                                                                                                                                                                  |India, Iran                                                                                                                |August 10, 2018|2018|TV-14   |120 min |Dramas, Independent Movies, International Movies             |A youthful drug dealer in Mumbai must change his ways when the sister who raised him is assaulted by her boss and imprisoned for defending herself.                                                                |\n",
            "|80995575                                                    |Movie  |The Birth Reborn                                 |Eduardo Chauvet                                      |null                                                                                                                                                                                                                                                                                                                      |Brazil                                                                                                                     |August 10, 2018|2013|TV-14   |91 min  |Documentaries, International Movies                          |Mothers and medical professionals speak about their experiences with the increasingly controversial practice of Caesarean deliveries in Brazil.                                                                    |\n",
            "|80223371                                                    |Movie  |The Guernsey Literary and Potato Peel Pie Society|Mike Newell                                          |Lily James, Michiel Huisman, Penelope Wilton, Tom Courtenay, Jessica Brown Findlay, Katherine Parkinson, Matthew Goode                                                                                                                                                                                                    |United Kingdom, France, United States                                                                                      |August 10, 2018|2018|TV-14   |124 min |Dramas, Romantic Movies                                      |A London writer bonds with the colorful residents of Guernsey as she learns about the book club they formed during the WWII German occupation.                                                                     |\n",
            "|80175147                                                    |Movie  |The Package                                      |Jake Szymanski                                       |Daniel Doheny, Geraldine Viswanathan, Luke Spencer Roberts, Eduardo Franco, Sadie Calvano                                                                                                                                                                                                                                 |United States                                                                                                              |August 10, 2018|2018|TV-MA   |95 min  |Comedies                                                     |After their buddy suffers an unfortunate accident during spring break, four pals risk everything – including their dignity – to make him whole again.                                                              |\n",
            "|80239831                                                    |Movie  |Zion                                             |Floyd Russ                                           |Zion Clark                                                                                                                                                                                                                                                                                                                |United States                                                                                                              |August 10, 2018|2018|TV-PG   |12 min  |Documentaries, Sports Movies                                 |Born without legs and stuck in foster care for years, teen Zion Clark finds his calling when he pursues competitive wrestling. A documentary short.                                                                |\n",
            "|80105356                                                    |Movie  |Alive and Kicking                                |Susan Glatzer                                        |null                                                                                                                                                                                                                                                                                                                      |Sweden, United States                                                                                                      |August 10, 2017|2016|TV-14   |89 min  |Documentaries                                                |Take an inside look at swing dancing's continued prosperity and the lively and joyous personalities that make the art form so unique.                                                                              |\n",
            "|70296443                                                    |Movie  |Demonic                                          |Will Canon                                           |Maria Bello, Frank Grillo, Cody Horn, Dustin Milligan, Megan Park, Scott Mechlowicz, Aaron Yoo, Alex Goode, Terence Rosemore, Jesse Steccato                                                                                                                                                                              |United States                                                                                                              |August 10, 2017|2015|R       |83 min  |Horror Movies, Independent Movies                            |When amateur ghost hunters visit an abandoned house, their investigation turns into a massacre, leaving questions for a detective and a psychologist.                                                              |\n",
            "|80168033                                                    |Movie  |SHOT! The Psycho-Spiritual Mantra of Rock        |Barney Clay                                          |Mick Rock                                                                                                                                                                                                                                                                                                                 |United Kingdom, United States                                                                                              |August 10, 2017|null|TV-MA   |98 min  |Documentaries, Music & Musicals                              |Aptly named iconic rock photographer Mick Rock reconstructs his journey through the thrilling and murky universe of rock 'n' roll history.                                                                         |\n",
            "|80160346                                                    |Movie  |The Saint                                        |Ernie Barbarash                                      |Adam Rayner, Eliza Dushku, Ian Ogilvy, James Remar, Roger Moore, Enrique Murciano, Thomas Kretschmann, Beatrice Rosen, Greg Grunberg, Yani Gellman                                                                                                                                                                        |United States                                                                                                              |August 10, 2017|2017|TV-14   |92 min  |Action & Adventure                                           |Master thief Simon Templar – also known as the Saint – is hired by a wealthy banker to find his kidnapped daughter, but not all is as it seems.                                                                    |\n",
            "|70121522                                                    |Movie  |3 Idiots                                         |Rajkumar Hirani                                      |Aamir Khan, Kareena Kapoor, Madhavan, Sharman Joshi, Omi Vaidya, Boman Irani, Mona Singh, Javed Jaffrey                                                                                                                                                                                                                   |India                                                                                                                      |August 1, 2019 |2009|PG-13   |164 min |Comedies, Dramas, International Movies                       |While attending one of India's premier colleges, three miserable engineering students and best friends struggle to beat the school's draconian system.                                                             |\n",
            "|81065784                                                    |Movie  |Are We Done Yet?                                 |Khaled El Halafawy                                   |Ahmed Eid, Ayten Amer, Ahmed Fouad Selim, Mohsen Mansour                                                                                                                                                                                                                                                                  |Egypt                                                                                                                      |August 1, 2019 |2018|TV-14   |87 min  |Comedies, Dramas, International Movies                       |When authorities arrest his young son, a taxi driver must convince the courts and rabid media that he's not the criminal they seek.                                                                                |\n",
            "|80124099                                                    |Movie  |Boyka: Undisputed                                |Todor Chapkanov                                      |Scott Adkins, Teodora Duhovnikova, Alon Aboutboul, Julian Vergov, Brahim Achabbakhe, Paul Chahidi, Petio Petkov, Valentin Ganev, Vlado Mihailov                                                                                                                                                                           |Bulgaria, United States                                                                                                    |August 1, 2019 |2016|R       |90 min  |Action & Adventure                                           |The fourth film in the action franchise finds Boyka taking on brutal gangsters to protect the widow of a man he unintentionally killed in the ring.                                                                |\n",
            "|70119812                                                    |Movie  |Clash of the Titans                              |Louis Leterrier                                      |Sam Worthington, Liam Neeson, Ralph Fiennes, Jason Flemyng, Gemma Arterton, Alexa Davalos, Tine Stapelfeldt, Mads Mikkelsen, Luke Evans                                                                                                                                                                                   |United States, United Kingdom, Australia                                                                                   |August 1, 2019 |2010|PG-13   |106 min |Action & Adventure, Sci-Fi & Fantasy                         |If he is to save the life of the beautiful Princess Andromeda, the valiant Perseus must battle a host of powerful, beastly enemies.                                                                                |\n",
            "|60032685                                                    |Movie  |Darna Mana Hai                                   |Prawal Raman                                         |Aftab Shivdasani, Antara Mali, Boman Irani, Isha Koppikar, Nana Patekar, Raghuvir Yadav, Rajpal Yadav, Revathy, Saif Ali Khan, Sameera Reddy, Sanjay Kapoor, Shilpa Shetty, Sohail Khan, Vivek Oberoi                                                                                                                     |India                                                                                                                      |August 1, 2019 |2003|TV-MA   |116 min |Horror Movies, International Movies, Thrillers               |Stranded in a jungle when their car breaks down, six friends pass their time exchanging horror stories, unaware that they may be part of one themselves.                                                           |\n",
            "|70006816                                                    |Movie  |Ek Hasina Thi                                    |Sriram Raghavan                                      |Saif Ali Khan, Urmila Matondkar, Seema Biswas, Pratima Kazmi, Aditya Srivastava, Rasika Joshi, Madan Joshi, Seema Adhikari                                                                                                                                                                                                |India                                                                                                                      |August 1, 2019 |2004|TV-MA   |134 min |Dramas, International Movies, Thrillers                      |Imprisoned for underworld crimes she didn’t commit, a vengeful woman breaks free and goes scorched earth on the smooth-talking suitor who framed her.                                                              |\n",
            "|70236587                                                    |Movie  |Ferrari Ki Sawaari                               |Rajesh Mapuskar                                      |Sharman Joshi, Boman Irani, Ritwik Sahore, Paresh Rawal, Deepak Shirke, Satyadeep Misra, Aakash Dabhade, Nilesh Diwekar, Vidya Balan                                                                                                                                                                                      |India                                                                                                                      |August 1, 2019 |2012|TV-PG   |133 min |Comedies, International Movies, Sports Movies                |A father winds up involved with a stolen Ferrari as he tries to acquire the money to send his son to the leading cricket academy.                                                                                  |\n",
            "|520489                                                      |Movie  |Four Weddings and a Funeral                      |Mike Newell                                          |Hugh Grant, Andie MacDowell, James Fleet, Simon Callow, John Hannah, Kristin Scott Thomas, David Bower, Charlotte Coleman, David Haig, Rowan Atkinson, Sophie Thompson, Anna Chancellor, Corin Redgrave                                                                                                                   |United Kingdom                                                                                                             |August 1, 2019 |1994|R       |118 min |Classic Movies, Comedies, International Movies               |A commitment-phobic Brit tries to reconnect with an alluring American who's about to make a seemingly awful mistake by marrying a wealthy, boring man.                                                             |\n",
            "|70266677                                                    |Movie  |Horns                                            |Alexandre Aja                                        |Daniel Radcliffe, Juno Temple, Max Minghella, Joe Anderson, Kelli Garner, Heather Graham, David Morse, Kathleen Quinlan, James Remar                                                                                                                                                                                      |United States, Canada                                                                                                      |August 1, 2019 |2013|R       |120 min |Dramas, Horror Movies, Sci-Fi & Fantasy                      |Accused of murder, Ig Perish wakes up one day to find he's grown a set of horns – compelling people to confess their sins to him.                                                                                  |\n",
            "|60010514                                                    |Movie  |Jackie Brown                                     |Quentin Tarantino                                    |Pam Grier, Samuel L. Jackson, Robert Forster, Bridget Fonda, Michael Keaton, Robert De Niro, Michael Bowen, Chris Tucker, LisaGay Hamilton, Tommy 'Tiny' Lister, Hattie Winston, Sid Haig                                                                                                                                 |United States                                                                                                              |August 1, 2019 |1997|R       |154 min |Dramas, Thrillers                                            |When an aging flight attendant's caught smuggling cash and forced to help with an investigation, she hatches a clever plan to make off with the dough.                                                             |\n",
            "|70301367                                                    |Movie  |Jupiter Ascending                                |Lana Wachowski, Lilly Wachowski                      |Mila Kunis, Channing Tatum, Sean Bean, Eddie Redmayne, Douglas Booth, Tuppence Middleton, Nikki Amuka-Bird, Christina Cole, James D'Arcy, Gugu Mbatha-Raw                                                                                                                                                                 |United States, Australia                                                                                                   |August 1, 2019 |2015|PG-13   |128 min |Action & Adventure, Sci-Fi & Fantasy                         |A young impoverished woman learns she's been predestined to change the fate of the universe after a genetically engineered hunter tracks her down.                                                                 |\n",
            "|81139317                                                    |TV Show|Khaani                                           |null                                                 |Feroze Khan, Sana Javed, Mehmood Aslam, Saman Ansari, Qavi Khan, Salma Hasan, Rashid Farooqi, Muhammad Mubarik Ali                                                                                                                                                                                                        |Pakistan                                                                                                                   |August 1, 2019 |2017|TV-14   |1 Season|Crime TV Shows, International TV Shows, Romantic TV Shows    |After a rich politician's son kills a young woman's brother, an unlikely romantic connection complicates her pursuit of justice.                                                                                   |\n",
            "|80014727                                                    |Movie  |Last Knights                                     |Kazuaki Kiriya                                       |Clive Owen, Morgan Freeman, Cliff Curtis, Aksel Hennie, Peyman Moaadi, Ayelet Zurer, Shohreh Aghdashloo, Tsuyoshi Ihara, Ahn Sung-kee                                                                                                                                                                                     |United Kingdom, South Korea                                                                                                |August 1, 2019 |2015|R       |115 min |Action & Adventure                                           |A nobleman who values his people's well-being over his emperor's edicts is killed. His knights vow revenge.                                                                                                        |\n",
            "|81050688                                                    |Movie  |Manu                                             |Phanindra Narsetti                                   |Raja Goutham, Chandini Chowdary, Bomma Sreedhar, John Kottoly, Srikanth Mullagiri, Ravi Teja                                                                                                                                                                                                                              |India                                                                                                                      |August 1, 2019 |2018|TV-MA   |177 min |Dramas, Independent Movies, International Movies             |The relationship between a painter and his admirer unfolds as an abstract, twist-filled hide-and-seek game against the backdrop of murder and revenge.                                                             |\n",
            "|80081505                                                    |Movie  |MI-5                                             |Bharat Nalluri                                       |Peter Firth, Kit Harington, Jennifer Ehle, Elyes Gabel, Eleanor Matsuura, Tim McInnerny, Lara Pulver, David Harewood, Tuppence Middleton                                                                                                                                                                                  |United Kingdom                                                                                                             |August 1, 2019 |2015|R       |105 min |Action & Adventure, Dramas, International Movies             |When a terrorist escapes custody, MI-5 director Harry Pearce becomes the scapegoat. But the wily veteran still has some spycraft tricks up his sleeve.                                                             |\n",
            "|60022700                                                    |Movie  |Panic Room                                       |David Fincher                                        |Jodie Foster, Forest Whitaker, Dwight Yoakam, Jared Leto, Kristen Stewart, Ann Magnuson, Ian Buchanan, Patrick Bauchau, Paul Schulze                                                                                                                                                                                      |United States                                                                                                              |August 1, 2019 |2002|R       |112 min |Thrillers                                                    |A woman and her daughter are caught in a game of cat-and-mouse with burglars in their New York City home and are forced to retreat inside a vault.                                                                 |\n",
            "|81155880                                                    |TV Show|Regiment Diaries                                 |null                                                 |null                                                                                                                                                                                                                                                                                                                      |India                                                                                                                      |August 1, 2019 |2018|TV-14   |1 Season|Docuseries, International TV Shows                           |Historical footage and interviews with soldiers showcase war stories, unique traditions and unifying principles of the Indian Army’s various regiments.                                                            |\n",
            "|915927                                                      |Movie  |Rocky                                            |John G. Avildsen                                     |Sylvester Stallone, Talia Shire, Burt Young, Carl Weathers, Burgess Meredith, Thayer David, Joe Spinell, Jimmy Gambina, Bill Baldwin                                                                                                                                                                                      |United States                                                                                                              |August 1, 2019 |1976|PG      |120 min |Action & Adventure, Classic Movies, Dramas                   |Sylvester Stallone shot to fame as Rocky Balboa, an unknown fighter who's given a shot at fighting world champ Apollo Creed as a publicity stunt.                                                                  |\n",
            "|916043                                                      |Movie  |Rocky II                                         |Sylvester Stallone                                   |Sylvester Stallone, Talia Shire, Burt Young, Carl Weathers, Burgess Meredith, Tony Burton, Joe Spinell, Leonard Gaines, John Pleshette, Sylvia Meals                                                                                                                                                                      |United States                                                                                                              |August 1, 2019 |1979|PG      |119 min |Dramas, Sports Movies                                        |Featuring a rousing climax, this engaging sequel finds boxer Rocky Balboa returning to the ring for a rematch against reigning champ Apollo Creed.                                                                 |\n",
            "|60010836                                                    |Movie  |Rocky III                                        |Sylvester Stallone                                   |Sylvester Stallone, Talia Shire, Burt Young, Carl Weathers, Burgess Meredith, Tony Burton, Mr. T, Hulk Hogan, Ian Fried                                                                                                                                                                                                   |United States                                                                                                              |August 1, 2019 |1982|PG      |100 min |Dramas, Sports Movies                                        |After taking a pounding from a powerful young fighter, humbled world champ Rocky Balboa turns to ex-rival Apollo Creed for help in regaining his form.                                                             |\n",
            "|916061                                                      |Movie  |Rocky IV                                         |Sylvester Stallone                                   |Sylvester Stallone, Talia Shire, Burt Young, Carl Weathers, Dolph Lundgren, Brigitte Nielsen, Tony Burton, Michael Pataki                                                                                                                                                                                                 |United States                                                                                                              |August 1, 2019 |1985|PG      |92 min  |Dramas, Sports Movies                                        |Rocky Balboa takes on the Cold War, coming out of retirement to battle a Soviet fighter who pulverized Rocky's friend and former rival, Apollo Creed.                                                              |\n",
            "|60025674                                                    |Movie  |Rocky V                                          |John G. Avildsen                                     |Sylvester Stallone, Talia Shire, Burt Young, Richard Gant, Tommy Morrison, Sage Stallone, Burgess Meredith, Tony Burton                                                                                                                                                                                                   |United States                                                                                                              |August 1, 2019 |1990|PG-13   |104 min |Dramas, Sports Movies                                        |Inspired by the memory of his trainer, a broke and seemingly careerless Rocky finds glory in training and takes on an up-and-coming boxer.                                                                         |\n",
            "|70039168                                                    |Movie  |Rumor Has It                                     |Rob Reiner                                           |Jennifer Aniston, Kevin Costner, Shirley MacLaine, Mark Ruffalo, Richard Jenkins, Christopher McDonald, Steve Sandvoss, Mena Suvari, Mike Vogel                                                                                                                                                                           |United States, Germany, Australia                                                                                          |August 1, 2019 |2005|PG-13   |97 min  |Comedies, Romantic Movies                                    |When Sarah travels to California for her sister's wedding, she hears a rumor that her family was the real-life inspiration for \"The Graduate.\"                                                                     |\n",
            "|81103092                                                    |Movie  |Running Out Of Time                              |Chris Stokes                                         |Tasha Smith, RonReaco Lee, Telma Hopkins, Sydney Elise Johnson, Sean Dominic, Dustin Harnish, Paul Logan, Kearia Schroeder, Michael Toland, Anton Peeples                                                                                                                                                                 |United States                                                                                                              |August 1, 2019 |2018|TV-14   |88 min  |Thrillers                                                    |Held hostage by men searching for a secret her late husband left behind, a recent widow and her family race against time to find a way out.                                                                        |\n",
            "|80242065                                                    |TV Show|Sleepless Society: Nyctophobia                   |null                                                 |Chermarn Boonyasak, Nattapat Nimjirawat, Jason Young, Matthew Deane Chanthavanij, Inthira Charoenpura, Natharinee Kanasoot                                                                                                                                                                                                |Thailand                                                                                                                   |August 1, 2019 |2019|TV-MA   |1 Season|International TV Shows, TV Mysteries, TV Thrillers           |Following the death of her child, a grief-stricken woman struggles to find peace until a mysterious boy appears, claiming to be her reincarnated son.                                                              |\n",
            "|60031278                                                    |Movie  |Something's Gotta Give                           |Nancy Meyers                                         |Jack Nicholson, Diane Keaton, Keanu Reeves, Frances McDormand, Amanda Peet, Jon Favreau, Paul Michael Glaser, Rachel Ticotin                                                                                                                                                                                              |United States                                                                                                              |August 1, 2019 |2003|PG-13   |128 min |Comedies, Romantic Movies                                    |Still sexy at 60, Harry Sanborn wines and dines women half his age. But a getaway with his girlfriend goes awry when her mother drops in unannounced.                                                              |\n",
            "|60001363                                                    |Movie  |Space Cowboys                                    |Clint Eastwood                                       |Clint Eastwood, Tommy Lee Jones, Donald Sutherland, James Garner, James Cromwell, Marcia Gay Harden, William Devane, Loren Dean, Courtney B. Vance, Rade Serbedzija, Barbara Babcock, Blair Brown                                                                                                                         |United States                                                                                                              |August 1, 2019 |2000|PG-13   |130 min |Action & Adventure, Dramas, Sci-Fi & Fantasy                 |A retired engineer agrees to help NASA prevent a Russian satellite from falling to Earth if he and his over-the-hill pals can man the mission.                                                                     |\n",
            "|81103517                                                    |TV Show|The Chefs' Line                                  |null                                                 |Dan Hong, Mark Olive, Melissa Leong, Maeve O'Meara                                                                                                                                                                                                                                                                        |Australia                                                                                                                  |August 1, 2019 |2017|TV-14   |1 Season|International TV Shows, Reality TV                           |Home cooks face off against trained chefs to see if passion can beat profession in the kitchen in this reality competition show.                                                                                   |\n",
            "|60026477                                                    |Movie  |To Wong Foo, Thanks for Everything! Julie Newmar |Beeban Kidron                                        |Patrick Swayze, Wesley Snipes, John Leguizamo, Stockard Channing, Blythe Danner, Arliss Howard, Jason London, Chris Penn, Melinda Dillon, Beth Grant, Alice Drummond, Marceline Hugot, Michael Vartan, RuPaul Charles, Julie Newmar                                                                                       |United States                                                                                                              |August 1, 2019 |1995|PG-13   |108 min |Comedies, Cult Movies, LGBTQ Movies                          |Three New York drag queens on their way to Hollywood for a beauty pageant get stranded in a small Midwestern town when their car breaks down.                                                                      |\n",
            "|80094096                                                    |Movie  |Wazir                                            |Bejoy Nambiar                                        |Amitabh Bachchan, Farhan Akhtar, Aditi Rao Hydari, Manav Kaul, Neil Nitin Mukesh, John Abraham                                                                                                                                                                                                                            |India                                                                                                                      |August 1, 2019 |2016|TV-MA   |98 min  |Dramas, International Movies, Thrillers                      |Helping an amputee grandmaster settle the score for his tragic past, a grieving detective unravels a conspiracy more complicated than he imagined.                                                                 |\n",
            "|81085824                                                    |Movie  |White Chamber                                    |Paul Raschid                                         |Shauna MacDonald, Oded Fehr, Amrita Acharia, Sharon Maughan, Nicholas Farrell, Candis Nergaard, Marcus Griffiths, Adrianna Edwards, Sumit Chakravarti, Lisa Reynolds                                                                                                                                                      |United Kingdom                                                                                                             |August 1, 2019 |2018|TV-MA   |89 min  |Sci-Fi & Fantasy, Thrillers                                  |When a civil war ravages the UK, a scientist awakens in a futuristic cell and is tortured by her captor for information she claims she doesn't possess.                                                            |\n",
            "|1171655                                                     |Movie  |Bean: The Ultimate Disaster Movie                |Mel Smith                                            |Rowan Atkinson, Peter MacNicol, John Mills, Pamela Reed, Harris Yulin, Burt Reynolds, Larry Drake, Danny Goldring, Johnny Galecki, Chris Ellis, Andrew Lawrence, Peter Egan, Peter Capaldi, June Brown, Peter James, Sandra Oh                                                                                            |United Kingdom, United States                                                                                              |August 1, 2018 |1997|PG-13   |89 min  |Comedies, International Movies                               |Disaster-prone Mr. Bean is sent to Los Angeles to guard a famous painting, but as he's unfit for any physical task, everything goes hilariously wrong.                                                             |\n",
            "|80226279                                                    |TV Show|Becoming Champions                               |null                                                 |null                                                                                                                                                                                                                                                                                                                      |Mexico                                                                                                                     |August 1, 2018 |2018|TV-G    |1 Season|Docuseries, International TV Shows                           |This series looks at the stories behind the athletes and countries that have achieved World Cup champion status.                                                                                                   |\n",
            "|80993489                                                    |Movie  |Being Napoleon                                   |Jesse Handsher, Olivier Roland                       |Mark Schneider, Frank Samson                                                                                                                                                                                                                                                                                              |United States                                                                                                              |August 1, 2018 |2018|TV-14   |88 min  |Documentaries                                                |On the 200th anniversary of the Battle of Waterloo, thousands of enthusiasts reenact the epic clash. But there can only be one Napoleon.                                                                           |\n",
            "|70033643                                                    |Movie  |Casino Tycoon                                    |Wong Jing                                            |Wong Jing                                                                                                                                                                                                                                                                                                                 |Hong Kong                                                                                                                  |August 1, 2018 |1992|TV-MA   |125 min |Action & Adventure, Dramas, International Movies             |When Japanese troops invade Hong Kong, young Benny Ho flees to Macau and rises to the top of the city's casino business with pluck, diligence and wit.                                                             |\n",
            "|70233317                                                    |Movie  |Chernobyl Diaries                                |Bradley Parker                                       |Ingrid Bolsø Berdal, Dimitri Diatchenko, Olivia Taylor Dudley, Devin Kelley, Jesse McCartney, Nathan Phillips, Jonathan Sadowski, Alex Feldman, Kristof Konrad, Pasha D. Lychnikoff                                                                                                                                       |United States                                                                                                              |August 1, 2018 |2012|R       |88 min  |Horror Movies, Thrillers                                     |A group of kids takes an illegal tour through an abandoned city near Chernobyl, where mysterious humanoid forms begin to haunt their steps...                                                                      |\n",
            "|80997858                                                    |Movie  |Doubles Cause Troubles                           |Wong Jing                                            |Carol 'Do Do' Cheng, Maggie Cheung, Wilson Lam, Chan Pak-cheung, Charlie Cho, Tom Poon, Kwan Ming-yuk, Hon Yee-Sang, Sherman Wong, Lo Fan                                                                                                                                                                                 |Hong Kong                                                                                                                  |August 1, 2018 |1989|TV-14   |94 min  |Action & Adventure, Comedies, International Movies           |When the tenant in their flat dies under suspicious circumstances, two bickering cousins are forced to navigate both sides of the law.                                                                             |\n",
            "|80238607                                                    |Movie  |Flock of Four                                    |Gregory Caruso                                       |Braeden Lemasters, Isaac Jay, Uriah Shelton, Dylan Riley Snyder, Coco Jones, Shane Harper, Nadji Jeter, Connor Paolo, Gatlin Green, Reg E. Cathey                                                                                                                                                                         |United States                                                                                                              |August 1, 2018 |2018|TV-MA   |83 min  |Dramas, Independent Movies, Music & Musicals                 |One night in 1959, four young musicians venture from Pasadena to South-Central Los Angeles in the hopes of hearing a living jazz legend play.                                                                      |\n",
            "|80039485                                                    |Movie  |Hero                                             |Corey Yuen                                           |Takeshi Kaneshiro, Yuen Biao, Valerie Chow, Jessica Hester Hsuan, Tak Yuen, Wah Yuen, Corey Yuen                                                                                                                                                                                                                          |Hong Kong, China                                                                                                           |August 1, 2018 |1997|TV-MA   |89 min  |Action & Adventure, International Movies                     |A pugilist from Shantung struggles to rise to the top of the Shanghai triad ladder, where his stellar martial arts talents can shine.                                                                              |\n",
            "|80998560                                                    |Movie  |History of Joy                                   |Vishnu Govindhan                                     |Vishnu Vinay, Vinay Forrt, Saikumar, Joju George, Nobi, Sreekumar, Nandu, Sunil Sukhada                                                                                                                                                                                                                                   |India                                                                                                                      |August 1, 2018 |2017|TV-14   |118 min |Dramas, International Movies                                 |The life of a high-flying law student takes a drastic turn when a bout of misfortune changes his status in society for good.                                                                                       |\n",
            "|70043379                                                    |Movie  |Initial D                                        |Andrew Lau Wai-Keung, Alan Mak                       |Jay Chou, Anne Suzuki, Edison Chen, Anthony Wong Chau-Sang, Shawn Yue, Chapman To, Jordan Chan, Kenny Bee                                                                                                                                                                                                                 |China, Hong Kong                                                                                                           |August 1, 2018 |2005|TV-14   |109 min |Action & Adventure, International Movies                     |By day, an 18-year-old delivers tofu for his father, a retired race car driver; but by night, it's the teen's turn to take the wheel.                                                                              |\n",
            "|80232892                                                    |Movie  |Invisible                                        |Pablo Giorgelli                                      |Mora Arenillas, Mara Bestelli, Diego Cremonesi                                                                                                                                                                                                                                                                            |Argentina, France                                                                                                          |August 1, 2018 |2017|TV-MA   |87 min  |Dramas, Independent Movies, International Movies             |After learning she's pregnant, a teen grapples with the consequences while trying to go about her life as if nothing has changed.                                                                                  |\n",
            "|80998562                                                    |Movie  |Kaaliyan                                         |Jijo Pancode                                         |Tini Tom, Meghanathan, Balachandran Chullikadu, Shivaji Guruvayoor, Kottayam Purushan, Nithin George, Grace Antony, Shalu                                                                                                                                                                                                 |null                                                                                                                       |August 1, 2018 |2017|TV-14   |105 min |Dramas, International Movies                                 |An aggressive, wayward fisherman abandons his wife and daughters, who grow up to face the consequences of their father's mistakes.                                                                                 |\n",
            "|70124268                                                    |Movie  |Kung Fu Magoo                                    |Andrés Couturier                                     |Dylan Sprouse, Cole Sprouse, Alyson Stoner, Tom Kenny, Chris Parnell, Rodger Bumpass, Maile Flanagan, Wally Wingert, Candi Milo, Jim Ward                                                                                                                                                                                 |Mexico, United States                                                                                                      |August 1, 2018 |2010|TV-Y7   |79 min  |Children & Family Movies, Comedies                           |Shortsighted curmudgeon Mr. Magoo and his young nephew, Justin, fight such nefarious foes as kung fu villains, robot spiders and teenage mutants.                                                                  |\n",
            "|80998563                                                    |Movie  |Kuppivala                                        |Suresh Pillai                                        |Nandu, Kochu Preman, Jayakrishnan, Mohan Ayroor, M.R. Gopakumar, Shanawas, Adoor Ajayan, Dinesh Panicker                                                                                                                                                                                                                  |null                                                                                                                       |August 1, 2018 |2017|TV-14   |133 min |Dramas, International Movies, Romantic Movies                |A young woman talented at traditional dance finds her life changed when her love for a man clashes with the wishes of her father.                                                                                  |\n",
            "|80998564                                                    |Movie  |Lechmi                                           |B.N. Shajeer Sha                                     |Parvathy Ratheesh, Biju Sopanam, Sethulekshmi Amma, Molly Angamaly                                                                                                                                                                                                                                                        |India                                                                                                                      |August 1, 2018 |2017|TV-14   |147 min |Comedies, Horror Movies, International Movies                |The spirit of a murdered woman contacts four bachelors, enlisting their help to find her killer.                                                                                                                   |\n",
            "|80997864                                                    |Movie  |Little Dragon Maiden                             |Hua Shan                                             |Leslie Cheung, Jing-Jing Yung, Chen Kuan-tai, Leanne Liu, Tanny Tien Ni                                                                                                                                                                                                                                                   |Hong Kong                                                                                                                  |August 1, 2018 |1983|TV-14   |92 min  |Action & Adventure, International Movies, Romantic Movies    |Seeking to improve his combat skills, a young man falls in love with a woman with mystical powers, but his past stands in the way of their union.                                                                  |\n",
            "|80035685                                                    |TV Show|Los tiempos de Pablo Escobar                     |Alessandro Angulo                                    |null                                                                                                                                                                                                                                                                                                                      |Colombia                                                                                                                   |August 1, 2018 |2012|TV-MA   |1 Season|Crime TV Shows, Docuseries, International TV Shows           |Featuring never-before-seen images, personal testimonies and more, this is the story of one of the most notorious drug smugglers of all time.                                                                      |\n",
            "|70142792                                                    |Movie  |Love In A Puff                                   |Pang Ho-cheung                                       |Miriam Chin Wah Yeung, Shawn Yue, Singh Hartihan Bitto, Yat Ning Chan, Tat-Ming Cheung, Matt Chow, Chui Tien-you, Queenie Chu, Charmaine Fong, Vincent Kok                                                                                                                                                                |Hong Kong                                                                                                                  |August 1, 2018 |2010|TV-MA   |103 min |Comedies, Dramas, International Movies                       |When the Hong Kong government enacts a ban on smoking cigarettes indoors, the new law drives hard-core smokers outside, facilitating a meeting between Cherie, a makeup saleswoman, and Jimmy, an advertising exec.|\n",
            "|81002214                                                    |Movie  |Mahabharat                                       |Amaan Khan                                           |Amitabh Bachchan, Ajay Devgn, Vidya Balan, Shatrughan Sinha, Sunny Deol, Anil Kapoor, Manoj Bajpayee, Jackie Shroff, Anupam Kher, Deepti Naval                                                                                                                                                                            |India                                                                                                                      |August 1, 2018 |2013|TV-14   |119 min |Action & Adventure, Dramas, International Movies             |Two young brothers encounter a singing bird who treats them to a musical reinterpretation of one of India’s most epic ancient tales.                                                                               |\n",
            "|80993656                                                    |Movie  |Mater                                            |Pablo D'Alo Abba                                     |Lautaro Perotti, Tamara Kiper, Inda Lavalle, Miriam Odorico, Araceli Dvoskin, Gonzalo Ruiz, Patricio Aranguren, Marina Bellati, Luciana Fuks, Martin Slipak                                                                                                                                                               |Argentina                                                                                                                  |August 1, 2018 |2017|TV-MA   |80 min  |Dramas, Independent Movies, International Movies             |A single man in his 30s overwhelmed by his domineering mother meets a lesbian couple willing to go to extreme lengths to have a child.                                                                             |\n",
            "|80998568                                                    |Movie  |Melle                                            |Binu Ulahhannan                                      |Amith Chakalakkal, Thanuja Karthik, Joy Mathew, Joju George, Krishna Prabha, Ambika Mohan, P. Balachandran, Illikkett Namboothiri                                                                                                                                                                                         |India                                                                                                                      |August 1, 2018 |2017|TV-PG   |110 min |Dramas, International Movies, Romantic Movies                |After recovering from a tragic experience, a young woman makes a journey to her father's homeland and falls in love with a kind-hearted doctor.                                                                    |\n",
            "|80998565                                                    |Movie  |Minnaminugu the FireFly                          |Anil Thomas                                          |Surabhi Lakshmi, Krishnan Balakrishnan, Rebecca Santhosh, Prem Prakash, Archana Padmini                                                                                                                                                                                                                                   |India                                                                                                                      |August 1, 2018 |2017|TV-PG   |128 min |Dramas, International Movies                                 |A nameless widow juggles multiple jobs to support her daughter’s decision to study abroad, only to discover that she has other plans.                                                                              |\n",
            "|80998566                                                    |Movie  |Mythily Veendum Varunnu                          |Sabu Varghese                                        |Udhay, Kiran Raj, I.M. Vijayan, Sandhanam, Shivani Bhai, Sangeetha Balan                                                                                                                                                                                                                                                  |India                                                                                                                      |August 1, 2018 |2017|TV-14   |88 min  |Horror Movies, International Movies                          |After losing her father, a young woman moves to the city to earn money. When she finds a job at a mysterious bungalow, her worst nightmares come true.                                                             |\n",
            "|81001379                                                    |Movie  |Once In A Lifetime Sessions with Moby            |Matt Askem                                           |Moby, Alex Cohen                                                                                                                                                                                                                                                                                                          |null                                                                                                                       |August 1, 2018 |2018|TV-PG   |86 min  |Documentaries, Music & Musicals                              |Through performances and interviews, musician Moby opens up about his unusual childhood, his heroes and the stories behind his songs.                                                                              |\n",
            "|81001381                                                    |Movie  |Once In A Lifetime Sessions with Nile Rodgers    |Charlie Lightening                                   |Nile Rodgers                                                                                                                                                                                                                                                                                                              |null                                                                                                                       |August 1, 2018 |2018|TV-PG   |70 min  |Documentaries, Music & Musicals                              |The career of rhythm guitarist and Chic founder Nile Rodgers is chronicled in this musical blend of documentary and original concert performance.                                                                  |\n",
            "|81001382                                                    |Movie  |Once In A Lifetime Sessions with Noel Gallagher  |Charlie Lightening                                   |Noel Gallagher                                                                                                                                                                                                                                                                                                            |null                                                                                                                       |August 1, 2018 |2018|TV-MA   |66 min  |Documentaries, Music & Musicals                              |Between scenes from an intimate performance, the Oasis legend reflects on his road to stardom and offers insights on his creative process.                                                                         |\n",
            "|81001383                                                    |Movie  |Once In A Lifetime Sessions with TLC             |Matt Askem                                           |null                                                                                                                                                                                                                                                                                                                      |null                                                                                                                       |August 1, 2018 |2018|TV-PG   |72 min  |Documentaries, Music & Musicals                              |One of the most successful female groups in music history, TLC performs in concert while taking a look back at their tumultuous history.                                                                           |\n",
            "|80998567                                                    |Movie  |Oru Vishsheshapetta Biryani Kissa                |Kiran Narayanan                                      |Nedumudi Venu, V.K. Sriraman, Lena, Sunil Sukhada, Mammukoya, Joju George, Bhagath Baby Manuel, Sasi Kalinga                                                                                                                                                                                                              |null                                                                                                                       |August 1, 2018 |2017|TV-14   |122 min |Comedies, Dramas, International Movies                       |When the village's biryani cook unexpectedly passes, a widow steps up to the plate and takes on new delectable challenges.                                                                                         |\n",
            "|81002215                                                    |Movie  |P Se PM Tak                                      |Kundan Shah                                          |Meenakshi Dixit, Indrajeet Soni, Bharat Jadhav, Yashpal Sharma, Anjan Srivastav, Deepak Shirke, Akhilendra Mishra, Mushtaq Khan, Aanand Kale                                                                                                                                                                              |India                                                                                                                      |August 1, 2018 |2015|TV-14   |117 min |Comedies, Independent Movies, International Movies           |A prostitute who is down on her luck gets caught in the middle of an elaborate scheme orchestrated by two local politicians.                                                                                       |\n",
            "|70105338                                                    |Movie  |R.L. Stine's Mostly Ghostly                      |Richard Correll                                      |Madison Pettis, Sterling Beaumon, Luke Benward, Brian Stepanek, David DeLuise, Kim Rhodes, Adam Hicks, Ali Lohan, Sabrina Bryan, Rachel Winfree, Diego Acuña                                                                                                                                                              |United States                                                                                                              |August 1, 2018 |2008|PG      |98 min  |Children & Family Movies, Comedies                           |After discovering a pair of young ghosts, a nebbish 11-year-old agrees to help the sibling spirits solve the mystery surrounding their demise.                                                                     |\n",
            "|81014824                                                    |Movie  |Rangreza                                         |Amir Mohiuddin                                       |Urwa Hocane, Bilal Ashraf, Gohar Rasheed, Saleem Mairaj, Ghana Ali, Shahid Naqvi                                                                                                                                                                                                                                          |Pakistan                                                                                                                   |August 1, 2018 |2017|TV-14   |126 min |Dramas, International Movies, Music & Musicals               |A high-flying rock star and son of a politician falls for a woman from a qawwal family, leading to a love triangle that may consume everyone involved.                                                             |\n",
            "|81013200                                                    |Movie  |Sudani from Nigeria                              |Zakariya                                             |Soubin Shahir, Samuel Abiola Robinson, Savithri Sredharan, Aneesh Menon                                                                                                                                                                                                                                                   |India                                                                                                                      |August 1, 2018 |2018|TV-PG   |115 min |Comedies, Dramas, International Movies                       |When a soccer club manager brings one of his injured foreign players home to recuperate, they form an unlikely bond despite their cultural differences.                                                            |\n",
            "|80230018                                                    |TV Show|Switched                                         |null                                                 |Daiki Shigeoka, Tomohiro Kamiyama, Kaya Kiyohara, Miu Tomita, Reika Kirishima, Shinji Rokkaku, Miu Suzuki, Riko Hisada, Megumi Seki, Shoko Nakajima                                                                                                                                                                       |Japan                                                                                                                      |August 1, 2018 |2018|TV-MA   |1 Season|International TV Shows, TV Dramas, TV Mysteries              |High schooler Ayumi's perfect world evaporates when her envious classmate Zenko somehow steals her body, her boyfriend and her life.                                                                               |\n",
            "|80242916                                                    |TV Show|The Could’ve-Gone-All-the-Way Committee          |null                                                 |Jiro Sato, Mai Shiraishi, Takayuki Yamada, Shotaro Mamiya, Tamotsu Kanshuji, Yuka Ogura, Kenta Hamano, Yuka Kuramochi, Yuki Morinaga, Rena Takeda, Munenori Nagano, Shiori Enatsu, Toru Tezuka, Yosuke Sugino, Maika Yamamoto, Akiyoshi Nakao, Aoi Morikawa, Masato Yano, Mari Yamachi, Megumi, Mayuko Fukuda, Yuta Koseki|Japan                                                                                                                      |August 1, 2018 |2018|TV-14   |1 Season|International TV Shows, Romantic TV Shows, TV Dramas         |People bring their stories of missed lust connections to an objective panel of experts who then judge whether they could have gone all the way or not.                                                             |\n",
            "|80041339                                                    |Movie  |The Diabolical                                   |Alistair Legrand                                     |Ali Larter, Arjun Gupta, Max Rose, Merrin Dungey, Chloe Perrin, Kurt Carley, Patrick Fischler, Wilmer Calderon, Tom Wright                                                                                                                                                                                                |United States                                                                                                              |August 1, 2018 |2015|TV-MA   |86 min  |Horror Movies, Sci-Fi & Fantasy, Thrillers                   |Terrorized by unexplained disturbances and horrific visions in her home, a young widowed mother turns to her scientist boyfriend for help.                                                                         |\n",
            "|70105371                                                    |Movie  |The Informant!                                   |Steven Soderbergh                                    |Matt Damon, Scott Bakula, Joel McHale, Melanie Lynskey, Thomas F. Wilson, Patton Oswalt, Tony Hale, Eddie Jemison, Paul F. Tompkins, Tom Papa                                                                                                                                                                             |United States                                                                                                              |August 1, 2018 |2009|R       |108 min |Comedies, Dramas                                             |While gathering evidence against his employer to help the FBI build a price-fixing case, Mark Whitacre begins to piece together a fantasy world.                                                                   |\n",
            "|60022962                                                    |Movie  |The Parole Officer                               |John Duigan                                          |Steve Coogan, Emma Gilmour, Susan Jane Tanner, Iain Mitchell, James Smith, Om Puri, Steven Waddington, Ben Miller, Lena Headey, Jenny Agutter                                                                                                                                                                             |United Kingdom                                                                                                             |August 1, 2018 |2001|R       |94 min  |Action & Adventure, Comedies                                 |After witnessing a murder, Simon Garden is framed – and the only evidence that proves his innocence is a videotape locked inside a bank vault.                                                                     |\n",
            "|81002213                                                    |Movie  |Tikli and Laxmi Bomb                             |Aditya Kripalani                                     |Vibhawari Deshpande, Chitrangada Chakraborty, Suchitra Pillai, Upendra Limaye, Divya Unny, Kritika Pande, Mayur More, Kamil Shaikh                                                                                                                                                                                        |India                                                                                                                      |August 1, 2018 |2017|TV-MA   |151 min |Dramas, International Movies                                 |Two frustrated sex workers cut out the middlemen from their business affairs and start a cooperative that's run entirely by women.                                                                                 |\n",
            "|80190147                                                    |Movie  |A Sort of Homecoming                             |Maria Burton                                         |Laura Marano, Parker Mack, Katherine McNamara, Marcus Lyle Brown, Shayne Topp, Michelle Clunie, Kathleen Wilhoite                                                                                                                                                                                                         |United States                                                                                                              |August 1, 2017 |2015|TV-PG   |89 min  |Dramas, Independent Movies                                   |Ace news producer Amy is called back to her Louisiana hometown where memories of what used to be – and what might have been – come flooding back.                                                                  |\n",
            "|80190149                                                    |Movie  |All Hallows' Eve                                 |Charlie Vaughn                                       |Lexi Giovagnoli, Ashley Argota, John DeLuca, Diane Salinger, Martin Klebba, Tracey Gold, Dee Wallace, Pilot Paisley-Rose, Daniel Cooksley, Vincent Giovagnoli, Dillon Cavitt                                                                                                                                              |United States                                                                                                              |August 1, 2017 |2016|TV-G    |92 min  |Children & Family Movies, Independent Movies                 |Instead of summoning the spirit of her dearly departed mother, a charming teen accidentally awakens a vengeful witch who wants to destroy her town.                                                                |\n",
            "|80195886                                                    |Movie  |Anarkali of Aarah                                |Avinash Das                                          |Swara Bhaskar, Sanjay Mishra, Vijay Kumar, Pankaj Tripathi, Mayur More, Ishtiyak Khan                                                                                                                                                                                                                                     |India                                                                                                                      |August 1, 2017 |2017|TV-MA   |111 min |Dramas, Independent Movies, International Movies             |After being sexually harassed by a drunken politician while performing at a public event, a village dancer plots revenge to clear her name.                                                                        |\n",
            "|80190148                                                    |Movie  |Annabelle Hooper and the Ghosts of Nantucket     |Paul Serafini                                        |Bailee Madison, Robert Capron, Rachel Resheff, Mavrick Moreno, Whitney Goin, Gary Weeks, Juliana Harkavy, Kevin B. McGlynn, Jamison Stern, Mia Matthews, Bianca Matthews                                                                                                                                                  |United States                                                                                                              |August 1, 2017 |2016|TV-PG   |92 min  |Children & Family Movies                                     |While vacationing on picturesque Nantucket, a crafty teenage mystery writer contends with two thieves as she tries to solve a ghostly conundrum.                                                                   |\n",
            "|80185803                                                    |TV Show|Aussie Gold Hunters                              |null                                                 |null                                                                                                                                                                                                                                                                                                                      |Australia                                                                                                                  |August 1, 2017 |2016|TV-MA   |1 Season|Docuseries, International TV Shows, Reality TV               |Three teams of gold hunters battle all manner of challenges while pursuing their dreams in the Australian Outback.                                                                                                 |\n",
            "|80147321                                                    |Movie  |Below Her Mouth                                  |April Mullen                                         |Erika Linder, Natalie Krill, Sebastian Pigott, Mayko Nguyen, Tommie-Amber Pirie, Melanie Leishman, Andrea Stefancikova, Daniela Barbosa                                                                                                                                                                                   |Canada                                                                                                                     |August 1, 2017 |2016|TV-MA   |91 min  |Dramas, Independent Movies, International Movies             |An engaged fashion editor begins a torrid affair with a female roofer that threatens to turn both of their lives upside down.                                                                                      |\n",
            "|80157177                                                    |TV Show|Bountiful Blessings                              |null                                                 |Jessica Hsuan, Tay Ping Hui, Thomas Ong, Jeffrey Xu, Ya Hui, Ann Kok, Zhu Houren, Yao Wenlong                                                                                                                                                                                                                             |null                                                                                                                       |August 1, 2017 |2011|TV-14   |1 Season|International TV Shows, TV Dramas, TV Sci-Fi & Fantasy       |A former mortal who is now the Kitchen God cooks up celestial turmoil when he impregnates and opens a restaurant with his beloved, reincarnated wife.                                                              |\n",
            "|80185369                                                    |TV Show|Close Your Eyes Before It’s Dark                 |null                                                 |Bryan Shu-Hao Chang, Jian Man-shu, Yen Tsao, Sun Ke-fang, Allen Chen, Jake Hsu, Chu Sheng-ping, Blue Lan                                                                                                                                                                                                                  |Taiwan                                                                                                                     |August 1, 2017 |2016|TV-14   |1 Season|Crime TV Shows, International TV Shows, TV Dramas            |While vacationing at a mountain cabin, a group of longtime friends uncovers an old scandal that could have deadly consequences.                                                                                    |\n",
            "|70248183                                                    |Movie  |Cloud Atlas                                      |Lilly Wachowski, Lana Wachowski, Tom Tykwer          |Tom Hanks, Halle Berry, Jim Broadbent, Hugo Weaving, Jim Sturgess, Doona Bae, Ben Whishaw, Keith David, James D'Arcy, Zhou Xun                                                                                                                                                                                            |Germany, United States, Hong Kong, Singapore                                                                               |August 1, 2017 |2012|R       |172 min |Action & Adventure, Cult Movies, Dramas                      |In this star-studded drama, six seemingly disparate stories explore the complicated links that humanity shares through the generations.                                                                            |\n",
            "|80185723                                                    |Movie  |Cop Watchers                                     |Ben Steele                                           |null                                                                                                                                                                                                                                                                                                                      |null                                                                                                                       |August 1, 2017 |2016|TV-MA   |45 min  |Documentaries, International Movies                          |Explore the stories of the citizens who seek to deter police brutality by observing and videotaping arrests made by the New York Police Department.                                                                |\n",
            "|80159897                                                    |TV Show|Entangled                                        |null                                                 |Thomas Ong, Jack Tan, Margaret Wang, Kate Pang, Huang Qi Ming, Aileen Tan, Rayson Tan, Zhang Shui Fa                                                                                                                                                                                                                      |South Korea                                                                                                                |August 1, 2017 |2014|TV-MA   |1 Season|International TV Shows, TV Dramas                            |When the children of two families become friends, they begin to unravel a horrific crime in the past that already linked their fathers to each other.                                                              |\n",
            "|# The wave for issues such as semantic network and computing|null   |null                                             |null                                                 |null                                                                                                                                                                                                                                                                                                                      |null                                                                                                                       |null           |null|null    |null    |null                                                         |null                                                                                                                                                                                                               |\n",
            "|80166472                                                    |TV Show|Fartsa                                           |null                                                 |Alexander Petrov, Fillip Gorenshtein, Maksim Emelyanov, Aleksey Vesyolkin, Zoya Berber, Ieva Andrejevaite                                                                                                                                                                                                                 |Russia                                                                                                                     |August 1, 2017 |2015|TV-MA   |1 Season|Crime TV Shows, International TV Shows, TV Dramas            |As four Russian friends grow up in the early '60s, life, love and the curse of success threaten to derail their dreams.                                                                                            |\n",
            "|80185801                                                    |TV Show|Genius of the Ancient World                      |null                                                 |Bettany Hughes                                                                                                                                                                                                                                                                                                            |United Kingdom                                                                                                             |August 1, 2017 |2015|TV-PG   |1 Season|British TV Shows, Docuseries, International TV Shows         |Historian Bettany Hughes travels to India, Greece and China to explore the lives and times of Buddha, Socrates and Confucius.                                                                                      |\n",
            "|80186252                                                    |TV Show|Genius of the Modern World                       |null                                                 |Bettany Hughes                                                                                                                                                                                                                                                                                                            |United Kingdom                                                                                                             |August 1, 2017 |2016|TV-14   |1 Season|British TV Shows, Docuseries, International TV Shows         |Historian Bettany Hughes explores the intellectual landscapes that helped shape the work of Karl Marx, Friedrich Nietzsche and Sigmund Freud.                                                                      |\n",
            "|80151962                                                    |Movie  |Handsome Devil                                   |John Butler                                          |Fionn O'Shea, Nicholas Galitzine, Andrew Scott, Michael McElhatton, Moe Dunford, Ruairí O'Connor, Jay Duffy, Mark Lavery, Jamie Hallahan, Ardal O'Hanlon, Amy Huberman                                                                                                                                                    |Ireland                                                                                                                    |August 1, 2017 |2016|TV-MA   |95 min  |Comedies, Dramas, International Movies                       |A self-described outsider is sent to a rugby-obsessed boarding school, where he forms an unexpected bond with the star player.                                                                                     |\n",
            "|80185427                                                    |TV Show|Have You Ever Fallen in Love, Miss Jiang?        |null                                                 |Lan Cheng-lung, Esther Yeh, He Yu-chen, Greg Han                                                                                                                                                                                                                                                                          |null                                                                                                                       |August 1, 2017 |2016|TV-MA   |1 Season|Crime TV Shows, International TV Shows, TV Dramas            |A new teacher finds herself in an unenviable situation after witnessing a troubling interaction between an administrator and a student.                                                                            |\n",
            "|80176179                                                    |TV Show|Hogie the Globehopper                            |null                                                 |Mae Elliessa                                                                                                                                                                                                                                                                                                              |United States                                                                                                              |August 1, 2017 |2016|TV-Y    |1 Season|Kids' TV                                                     |Hogie and his friends travel the world, exploring far-flung locales like Buenos Aires, Cairo, Hawaii and the Galapagos Islands.                                                                                    |\n",
            "|80190146                                                    |Movie  |Jessica Darling's It List                        |Ali Scher                                            |Chloe East, Emma Rayne Lyle, Jane Widdop, Jane Sibbett, Eric Lutes, Blair Fowler, Ashley Liao, Eva Bella, Kimrie Lewis-Davis, Abraham Benrubi                                                                                                                                                                             |United States                                                                                                              |August 1, 2017 |2016|TV-G    |80 min  |Children & Family Movies, Comedies                           |Armed with popularity tips from her beautiful older sister, precocious Jessica Darling prepares to navigate the treacherous world of seventh grade.                                                                |\n",
            "|80184595                                                    |TV Show|Life Plan A and B                                |null                                                 |Rainie Yang, Yan Yu-lin, Johnny Lu, Chang Fu-chien, Chen Chi-hsia                                                                                                                                                                                                                                                         |Taiwan                                                                                                                     |August 1, 2017 |2016|TV-PG   |1 Season|International TV Shows, Romantic TV Shows, TV Dramas         |Two parallel life paths begin for a man and woman in love after she is offered a lucrative promotion far away and must choose between love and career.                                                             |\n",
            "|80166481                                                    |TV Show|Locust                                           |null                                                 |Pyotr Fyodorov, Paulina Andreeva, Dmitry Shevchenko, Aleksey Gorbunov, Evgeniya Dmitrieva, Maksim Pinsker                                                                                                                                                                                                                 |Russia                                                                                                                     |August 1, 2017 |2014|TV-MA   |1 Season|Crime TV Shows, International TV Shows, Romantic TV Shows    |A torrid affair between a passionate lowborn poet and a wealthy Moscow heiress is engulfed by class difference, criminality and, eventually, murder.                                                               |\n",
            "|80184684                                                    |TV Show|Love Storm                                       |null                                                 |Chris Wu, Chen Yu, Greg Han, Esther Yeh, Yeh Chen-Ting, Deng Yu-kai                                                                                                                                                                                                                                                       |null                                                                                                                       |August 1, 2017 |2016|TV-PG   |1 Season|International TV Shows, Romantic TV Shows, TV Comedies       |Three grown siblings must rethink their idea of family when they learn their parents are getting divorced and have their eyes on new partners.                                                                     |\n",
            "|80179433                                                    |Movie  |Maz Jobrani: Immigrant                           |Maz Jobrani                                          |Maz Jobrani                                                                                                                                                                                                                                                                                                               |null                                                                                                                       |August 1, 2017 |2017|TV-MA   |67 min  |Stand-Up Comedy                                              |Iranian American comic Maz Jobrani lights up the Kennedy Center with riffs on immigrant life in the Trump era, modern parenting pitfalls and more.                                                                 |\n",
            "|80185622                                                    |TV Show|Nurses Who Kill                                  |null                                                 |null                                                                                                                                                                                                                                                                                                                      |United Kingdom                                                                                                             |August 1, 2017 |2016|TV-14   |1 Season|British TV Shows, Crime TV Shows, Docuseries                 |Top medical, criminal and psychological experts analyze the motives and methods of nurses who use their positions to kill rather than heal.                                                                        |\n",
            "+------------------------------------------------------------+-------+-------------------------------------------------+-----------------------------------------------------+--------------------------------------------------------------------------------------------------------------------------------------------------------------------------------------------------------------------------------------------------------------------------------------------------------------------------+---------------------------------------------------------------------------------------------------------------------------+---------------+----+--------+--------+-------------------------------------------------------------+-------------------------------------------------------------------------------------------------------------------------------------------------------------------------------------------------------------------+\n",
            "only showing top 150 rows\n",
            "\n"
          ],
          "name": "stdout"
        }
      ]
    },
    {
      "cell_type": "markdown",
      "metadata": {
        "id": "LGzPDicW4zUo",
        "colab_type": "text"
      },
      "source": [
        "If we start by looking at the first column of data, we see that most of the entries are numeric IDs. If we scroll through the data we do see at least one random text entry. Let's make a note of this and browse through the rest of the data, looking for anything that might be out of the ordinary.\n",
        "\n",
        "We can also use the `.printSchema()` method to print the inferred schema associated with the data. Notice that we have 12 columns (which is expected based on our format information) but there are no column names, incorrect datatypes, and each field is nullable."
      ]
    },
    {
      "cell_type": "code",
      "metadata": {
        "id": "THf1tctucd9h",
        "colab_type": "code",
        "outputId": "7eb8a39c-990c-4dae-bdef-ea10c5233976",
        "colab": {
          "base_uri": "https://localhost:8080/",
          "height": 255
        }
      },
      "source": [
        "titles_df.printSchema()"
      ],
      "execution_count": 14,
      "outputs": [
        {
          "output_type": "stream",
          "text": [
            "root\n",
            " |-- _c0: string (nullable = true)\n",
            " |-- _c1: string (nullable = true)\n",
            " |-- _c2: string (nullable = true)\n",
            " |-- _c3: string (nullable = true)\n",
            " |-- _c4: string (nullable = true)\n",
            " |-- _c5: string (nullable = true)\n",
            " |-- _c6: string (nullable = true)\n",
            " |-- _c7: string (nullable = true)\n",
            " |-- _c8: string (nullable = true)\n",
            " |-- _c9: string (nullable = true)\n",
            " |-- _c10: string (nullable = true)\n",
            " |-- _c11: string (nullable = true)\n",
            "\n"
          ],
          "name": "stdout"
        }
      ]
    },
    {
      "cell_type": "markdown",
      "metadata": {
        "id": "RXGTHdV75wUi",
        "colab_type": "text"
      },
      "source": [
        "## Bypassing the CSV interpeter\n",
        "\n",
        "Our data on initial pass looks ok, but we can see that we have a few random rows even in our small sample. We know the first column should be an integer value but it looks like there are some that do not meet this requirement. Let's run a quick select statement on the DataFrame to determine the makeup of the content."
      ]
    },
    {
      "cell_type": "code",
      "metadata": {
        "id": "uznFuRdDcwTM",
        "colab_type": "code",
        "outputId": "5d9b0a81-264b-43a9-e9ae-764a419e7fce",
        "colab": {
          "base_uri": "https://localhost:8080/",
          "height": 34
        }
      },
      "source": [
        "# Import the Pyspark SQL helper functions\n",
        "from pyspark.sql import functions as F\n",
        "\n",
        "# Determine how many rows have a column that converts properly to an integer value\n",
        "titles_df.filter(F.col(\"_c0\").cast(\"int\").isNotNull()).count()\n"
      ],
      "execution_count": 18,
      "outputs": [
        {
          "output_type": "execute_result",
          "data": {
            "text/plain": [
              "6173"
            ]
          },
          "metadata": {
            "tags": []
          },
          "execution_count": 18
        }
      ]
    },
    {
      "cell_type": "code",
      "metadata": {
        "id": "FM8wY72J7qnC",
        "colab_type": "code",
        "outputId": "24a88c32-2f4a-47af-8179-88c563b3eab1",
        "colab": {
          "base_uri": "https://localhost:8080/",
          "height": 479
        }
      },
      "source": [
        "# Look at rows that don't convert properly\n",
        "titles_df.filter(F.col(\"_c0\").cast(\"int\").isNull()).show(truncate=False)"
      ],
      "execution_count": 20,
      "outputs": [
        {
          "output_type": "stream",
          "text": [
            "+------------------------------------------------------------------------------------------------------+-------------------------------------------------+-----------------------------------------------------------------------------------+----+-----+----+----+----+----+----+----+----+\n",
            "|_c0                                                                                                   |_c1                                              |_c2                                                                                |_c3 |_c4  |_c5 |_c6 |_c7 |_c8 |_c9 |_c10|_c11|\n",
            "+------------------------------------------------------------------------------------------------------+-------------------------------------------------+-----------------------------------------------------------------------------------+----+-----+----+----+----+----+----+----+----+\n",
            "|# The wave for issues such as semantic network and computing                                          |null                                             |null                                                                               |null|null |null|null|null|null|null|null|null|\n",
            "|TV Show                                                                                               |TV-MA                                            |Crime TV Shows, International TV Shows, Spanish-Language TV Shows                  |null|null |null|null|null|null|null|null|null|\n",
            "|# Which was, Change Performance Index (EPI) with an electrode at                                      |null                                             |null                                                                               |null|null |null|null|null|null|null|null|null|\n",
            "|# Five 40 dangerous. A more direct connection came                                                    |null                                             |null                                                                               |null|null |null|null|null|null|null|null|null|\n",
            "|# Heisei Hyakkei fishing village with very low                                                        |null                                             |null                                                                               |null|null |null|null|null|null|null|null|null|\n",
            "|# (or will advanced stage. There are                                                                  |null                                             |null                                                                               |null|null |null|null|null|null|null|null|null|\n",
            "|The Miracle                                                                                           |Donghyun Kim, Nahyun, Yang Hak Jin, Yoon Hwa Hong|International TV Shows, Korean TV Shows, TV Dramas                                 |null|null |null|null|null|null|null|null|null|\n",
            "|Movie                                                                                                 |Harold and Lillian: A Hollywood Love Story       |Harold Michelson, Lillian Michelson, Mel Brooks, Francis Ford Coppola, Danny DeVito|2015|TV-14|null|null|null|null|null|null|null|\n",
            "|# Site Montana energies. Like                                                                         |null                                             |null                                                                               |null|null |null|null|null|null|null|null|null|\n",
            "|Black Snake Moan                                                                                      |null                                             |null                                                                               |null|null |null|null|null|null|null|null|null|\n",
            "|# To improving example, unclear and badly stated directions                                           |null                                             |null                                                                               |null|null |null|null|null|null|null|null|null|\n",
            "|# Stanford Linear new ocean. He called it simply the most                                             |null                                             |null                                                                               |null|null |null|null|null|null|null|null|null|\n",
            "|# Europeans. Carl 2003. Regional Oceanography: an Introduction. (see                                  |null                                             |null                                                                               |null|null |null|null|null|null|null|null|null|\n",
            "|# Offer international anarchist thinkers, but as soon as possible.                                    |null                                             |null                                                                               |null|null |null|null|null|null|null|null|null|\n",
            "|Jen Kirkman                                                                                           |May 22, 2015                                     |null                                                                               |null|null |null|null|null|null|null|null|null|\n",
            "|# Hundred Views Some can get a Nobel Prize in physics World of                                        |null                                             |null                                                                               |null|null |null|null|null|null|null|null|null|\n",
            "|# Filipino American the 2010s expansion of the year, within the state                                 |null                                             |null                                                                               |null|null |null|null|null|null|null|null|null|\n",
            "|# West Side descendants, and most of northern California are dammed as part                           |null                                             |null                                                                               |null|null |null|null|null|null|null|null|null|\n",
            "|# To British colonial New Spain in the European Union. The EU established a legal document            |null                                             |null                                                                               |null|null |null|null|null|null|null|null|null|\n",
            "|# Rates than laws usually states that some historians call the creatures laboři (\"workers\", from Latin|null                                             |null                                                                               |null|null |null|null|null|null|null|null|null|\n",
            "+------------------------------------------------------------------------------------------------------+-------------------------------------------------+-----------------------------------------------------------------------------------+----+-----+----+----+----+----+----+----+----+\n",
            "only showing top 20 rows\n",
            "\n"
          ],
          "name": "stdout"
        }
      ]
    },
    {
      "cell_type": "code",
      "metadata": {
        "id": "3Y0v5Clo8Rcf",
        "colab_type": "code",
        "outputId": "4143198c-e1e0-43af-c53c-1c48ca821949",
        "colab": {
          "base_uri": "https://localhost:8080/",
          "height": 34
        }
      },
      "source": [
        "# Look at the full count of rows\n",
        "titles_df.count()"
      ],
      "execution_count": 21,
      "outputs": [
        {
          "output_type": "execute_result",
          "data": {
            "text/plain": [
              "6238"
            ]
          },
          "metadata": {
            "tags": []
          },
          "execution_count": 21
        }
      ]
    },
    {
      "cell_type": "markdown",
      "metadata": {
        "id": "jw0aLgc19Qok",
        "colab_type": "text"
      },
      "source": [
        "Looking at our content, we notice we have several types of problems:\n",
        "\n",
        "- Comment rows: These begin with a `#` character in the first column, and all other columns are null\n",
        "- Missing first column: We have few rows that reference `TV Show` or `Movie`, which should be the 2nd column.\n",
        "- Odd columns: There are a few rows included where the columns seem out of sync (ie, a content type in the ID field, dates in the wrong column, etc).\n",
        "\n",
        "We could fairly easily remove rows that match this pattern, but we're not entirely sure what to expect here. This is a common issue when trying to parse a large amount of data, be it in native Python, in Spark, or even with command-line tools. \n",
        "\n",
        "What we need to do is bypass most of the CSV parser's intelligence, but still load the content into a DataFrame. One way to do this is to modify an option on the CSV loader.\n",
        "\n",
        "# CSV loading\n",
        "\n",
        "Our initial import relies on the defaults for the CSV import mechanism. This typically assumes an actual comma-separated value file using `,` between fields and a normal row level terminator (ie, `\\r\\n`, `\\r`, `\\n`). While this often works well, it doesn't always handle ever data cleaning process you'd like, especially if you want to save the errant data for later examination.\n",
        "\n",
        "One way we can trick our CSV load is to specify a custom separator that we know does not exist within our dataset. As we used above, the option to do this is called `sep` and takes a single character to be used as the column separator. The separator cannot be an empty string so depending on your data, you may need to determine a character that is not used. For our purposes, let's use a curly brace, `{`, which is most likely not present in our data."
      ]
    },
    {
      "cell_type": "code",
      "metadata": {
        "id": "Vme6VYgc8UP7",
        "colab_type": "code",
        "colab": {}
      },
      "source": [
        "# Load the files into a DataFrame with a single column\n",
        "\n",
        "titles_single_df = spark.read.csv('/tmp/netflix_titles_dirty*.csv.gz', sep='{')"
      ],
      "execution_count": 0,
      "outputs": []
    },
    {
      "cell_type": "code",
      "metadata": {
        "id": "CyTxTDhXART2",
        "colab_type": "code",
        "outputId": "71043d4b-2fb7-4036-c26e-fda4d79ac9e2",
        "colab": {
          "base_uri": "https://localhost:8080/",
          "height": 34
        }
      },
      "source": [
        "titles_single_df.count()"
      ],
      "execution_count": 23,
      "outputs": [
        {
          "output_type": "execute_result",
          "data": {
            "text/plain": [
              "6238"
            ]
          },
          "metadata": {
            "tags": []
          },
          "execution_count": 23
        }
      ]
    },
    {
      "cell_type": "code",
      "metadata": {
        "id": "JcsIM-2KBMzP",
        "colab_type": "code",
        "outputId": "4d9c60ef-ca9a-4223-f539-23bc8b9af66d",
        "colab": {
          "base_uri": "https://localhost:8080/",
          "height": 479
        }
      },
      "source": [
        "titles_single_df.show(truncate=False)"
      ],
      "execution_count": 24,
      "outputs": [
        {
          "output_type": "stream",
          "text": [
            "+---------------------------------------------------------------------------------------------------------------------------------------------------------------------------------------------------------------------------------------------------------------------------------------------------------------------------------------------------------------------------------------------------------------------------------------------------------------------------------------------------------------------------+\n",
            "|_c0                                                                                                                                                                                                                                                                                                                                                                                                                                                                                                                        |\n",
            "+---------------------------------------------------------------------------------------------------------------------------------------------------------------------------------------------------------------------------------------------------------------------------------------------------------------------------------------------------------------------------------------------------------------------------------------------------------------------------------------------------------------------------+\n",
            "|81002212\tMovie\tBioscope\tGajendra Ahire, Viju Mane, Girish Mohite, Ravi Jadhav\tNina Kulkarni, Suhas Palshikar, Kushal Badrike, Spruha Joshi, Mangesh Desai, Smita Tambe, Veena Jamkar, Sandeep Khare\tIndia\tAugust 15, 2018\t2015\tTV-14\t131 min\tDramas, International Movies, LGBTQ Movies\tInspired by classic and contemporary literature, four renowned Marathi directors create four individual stories in this anthology of short films.                                                                                  |\n",
            "|80176707\tMovie\tFor Here or to Go?\tRucha Humnabadkar\tAli Fazal, Melanie Chandra, Rajit Kapoor, Amitosh Nagpal, Omi Vaidya, Samrat Chakrabarti, Keith Stevenson\tUnited States, India\tAugust 15, 2018\t2015\tTV-MA\t105 min\tComedies, Dramas, Independent Movies\tA software engineer must decide if he'd rather navigate America's frustrating visa renewal process or simply return to his home country of India.                                                                                                               |\n",
            "|80199381\tMovie\tHostiles\tScott Cooper\tChristian Bale, Rosamund Pike, Wes Studi, Jesse Plemons, Timothée Chalamet, Ben Foster, Adam Beach, Rory Cochrane, Peter Mullan, Scott Wilson, Paul Anderson, Jonathan Majors, John Benjamin Hickey, Q'orianka Kilcher, Ryan Bingham\tUnited States\tAugust 15, 2018\t2017\tR\t134 min\tDramas\tAfter a long career battling the Cheyenne, a U.S. Army captain is ordered to safely escort the tribe's most influential chief to his Montana homeland.                                       |\n",
            "|80202176\tMovie\tHurricane Bianca: From Russia With Hate\tMatt Kugelman\tRoy Haylock, Rachel Dratch, Brian McCook, D.J. \"Shangela\" Pierce, Doug Plaut, Cheyenne Jackson, Kristen Johnston, Heather McDonald, Wanda Sykes, Janeane Garofalo\tUnited States\tAugust 15, 2018\t2018\tTV-MA\t85 min\tComedies, Independent Movies, LGBTQ Movies\tWhen Texas teacher Richard is lured to Russia under false pretenses by his enemy Deb, his drag alter ego Bianca soon turns the country upside down.                                      |\n",
            "|81014293\tTV Show\tNuestra Lucha Libre\t\t\t\tAugust 15, 2018\t2018\tTV-MA\t1 Season\tDocuseries, International TV Shows, Spanish-Language TV Shows\tThis documentary series lifts the mask on Mexican wrestling, diving into the daily lives of its stars, examining the sport’s cultural impact and more.                                                                                                                                                                                                                           |\n",
            "|81014811\tTV Show\tThe Creative Indians\t\t\t\tAugust 15, 2018\t2017\tNR\t1 Season\tDocuseries, International TV Shows\tFrom chefs and comedians to filmmakers and fashion designers, India’s most notable imaginative minds share their artistic journeys.                                                                                                                                                                                                                                                                           |\n",
            "|70123118\tMovie\tWhat's Your Raashee?\tAshutosh Gowariker\tPriyanka Chopra, Harman Baweja, Suzy Brack, Gene Fojtik, Anjan Srivastav, Darshan Jariwala, Dilip Joshi, Daya Shankar Pandey, Yuri Suri, Rajesh Vivek, Geeta Tyagi\tIndia\tAugust 15, 2018\t2009\tTV-PG\t203 min\tComedies, International Movies, Music & Musicals\tTo protect his family from ruin, Yogesh must marry his dream girl in only ten days, so he rushes into dating women with different astrological signs.                                                  |\n",
            "|80175913\tTV Show\t20 Minutes\t\tTuba Büyüküstün, Ilker Aksum, Bülent Emin Yarar, İpek Bilgin, Müjde Uzman, Firat Çelik, Ayten Uncuoglu, Cihat Tamer\tTurkey\tAugust 15, 2017\t2013\tTV-MA\t1 Season\tCrime TV Shows, International TV Shows, TV Dramas\tWhen his wife is convicted of murder, a horrified family man races to prove her innocence while a dogged investigator sets out to uncover the truth.                                                                                                                         |\n",
            "|80182274\tMovie\tBarbecue\tMatthew Salleh\t\tAustralia, Armenia, Japan, Jordan, Mexico, Mongolia, New Zealand, Philippines, South Africa, Sweden, United States, Uruguay\tAugust 15, 2017\t2017\tTV-MA\t101 min\tDocumentaries, International Movies\tA blend of cultural nuance and mesmerizing techniques adds flavor to this globe-hopping celebration of cooking, tradition and community.                                                                                                                                        |\n",
            "|80185166\tMovie\tBrad Paisley's Comedy Rodeo\tJay Chapman\tBrad Paisley, Nate Bargatze, John Heffron, Jon Reep, Sarah Tiana, Mike E. Winfield\tUnited States\tAugust 15, 2017\t2017\tTV-MA\t63 min\tStand-Up Comedy\tCountry music star Brad Paisley hosts a night of music and laughs with comics Nate Bargatze, John Heffron, Jon Reep, Sarah Tiana and Mike E. Winfield.                                                                                                                                                           |\n",
            "|80068219\tMovie\tColin Quinn: Unconstitutional\tJay Chapman\tColin Quinn\tUnited States\tAugust 15, 2017\t2015\tTV-MA\t56 min\tStand-Up Comedy\tNew York comedian Colin Quinn writes and stars in this live one-man stage show that dissects and deconstructs U.S. constitutional history.                                                                                                                                                                                                                                            |\n",
            "|70209163\tMovie\tGoon\tMichael Dowse\tSeann William Scott, Jay Baruchel, Liev Schreiber, Alison Pill, Marc-André Grondin, Kim Coates, Eugene Levy, Nicholas Campbell, Richard Clarkin, Jonathan Cherry\tUnited States, Canada\tAugust 15, 2017\t2011\tR\t92 min\tComedies, Sports Movies\tWhen he's seen dispatching a rude opposing hockey player in the stands, Doug Glatt is hired by a rival team ... for his fighting skills.                                                                                                    |\n",
            "|80170687\tTV Show\tMillion Yen Women\t\tYojiro Noda, Rila Fukushima, Rena Matsui, Miwako Wagatsuma, Rena Takeda, Yuko Araki, Yuya Endo, Kaito Yoshimura, Moeka Hoshi, Juri Ihata, Mariko Tsutsui, Kanji Furutachi, Tetsuhiro Ikeda, Takashi Yamanaka, Tomoya Nakamura, Lily Franky\tJapan\tAugust 15, 2017\t2017\tTV-MA\t1 Season\tCrime TV Shows, International TV Shows, TV Dramas\tFive beautiful but mysterious women move in with unsuccessful novelist Shin, who manages their odd household in exchange for a tidy monthly sum.|\n",
            "|80163191\tMovie\tMy Ex-Ex\tNathaniel Warsh\tAndré Bharti, Katherine Barrell, Ray Galletti, Emily Alatalo, Tamara Duarte, Randal Edwards, Alastair Forbes, Jesse Camacho\tCanada\tAugust 15, 2017\t2015\tTV-MA\t91 min\tComedies, Romantic Movies\tA recently dumped attorney hires a psychic to help her win back her boyfriend. Things take an unexpected turn when another ex re-enters the picture.                                                                                                                                |\n",
            "|80184661\tMovie\tWe're No Animals\tAlejandro Agresti\tJohn Cusack, Paul Hipp, Kevin Morris, Alejandro Agresti, Mario Alarcón, Norman Briski, Lucila Solá, Juana Viale, Pablo Bossi, Leticia Brédice\tUnited States, Argentina\tAugust 15, 2017\t2015\tTV-MA\t94 min\tComedies, Dramas, Independent Movies\tUnhappy with his commercial film work, a jaded Hollywood actor moves to Argentina to participate in an experimental thesis on social philosophy.                                                                           |\n",
            "|80114588\tTV Show\tBehind Enemy Lines\t\t\tUnited States\tAugust 15, 2016\t2001\tTV-14\t1 Season\tBritish TV Shows, Docuseries\tAfter dire setbacks in 1940, Winston Churchill commissions a new kind of fighting force: commandos trained to use stealth and audacious tactics.                                                                                                                                                                                                                                                      |\n",
            "|80078761\tMovie\tBeing AP\tAnthony Wonke\tTony McCoy\tUnited Kingdom\tAugust 15, 2016\t2015\tTV-14\t99 min\tDocumentaries, International Movies, Sports Movies\tWith retirement staring him in the face, an all-time-great jump jockey pursues his 20th consecutive title in his unrelenting quest for glory.                                                                                                                                                                                                                         |\n",
            "|80115844\tMovie\tJohn & Jane\tAshim Ahluwalia\t\tIndia\tAugust 15, 2016\t2005\tTV-14\t79 min\tDocumentaries, International Movies\tTruth and fiction blend in this quasi-documentary about six exhausted workers at a Mumbai call center servicing U.S. customers.                                                                                                                                                                                                                                                                    |\n",
            "|80114111\tMovie\tLouis C.K.: Live at the Comedy Store\tLouis C.K.\tLouis C.K.\tUnited States\tAugust 15, 2016\t2015\t\t66 min\tMovies\tThe comic puts his trademark hilarious/thought-provoking spin on finding a bat in his kitchen, seeing rats having sex, Boston accents and dead pets.                                                                                                                                                                                                                                           |\n",
            "|80108998\tMovie\tReal Crime: Supermarket Heist (Tesco Bomber)\t\t\tUnited Kingdom\tAugust 15, 2016\t2010\tTV-14\t46 min\tDocumentaries\tIn 2000, U.K. detectives spent months tracking a criminal known only as Sally, who was targeting a supermarket chain with extortion and letter bombs.                                                                                                                                                                                                                                         |\n",
            "+---------------------------------------------------------------------------------------------------------------------------------------------------------------------------------------------------------------------------------------------------------------------------------------------------------------------------------------------------------------------------------------------------------------------------------------------------------------------------------------------------------------------------+\n",
            "only showing top 20 rows\n",
            "\n"
          ],
          "name": "stdout"
        }
      ]
    },
    {
      "cell_type": "code",
      "metadata": {
        "id": "P0HJfU--BRm1",
        "colab_type": "code",
        "outputId": "fc1e707e-0621-467b-9012-7e1450a20ef0",
        "colab": {
          "base_uri": "https://localhost:8080/",
          "height": 68
        }
      },
      "source": [
        "titles_single_df.printSchema()"
      ],
      "execution_count": 25,
      "outputs": [
        {
          "output_type": "stream",
          "text": [
            "root\n",
            " |-- _c0: string (nullable = true)\n",
            "\n"
          ],
          "name": "stdout"
        }
      ]
    },
    {
      "cell_type": "markdown",
      "metadata": {
        "id": "Uyelt4SeaiHe",
        "colab_type": "text"
      },
      "source": [
        "# Q&A?"
      ]
    },
    {
      "cell_type": "markdown",
      "metadata": {
        "id": "hSTcSJgEB-YK",
        "colab_type": "text"
      },
      "source": [
        "# Cleaning up our data\n",
        "\n",
        "We know from some earlier analysis that we have comment rows in place (ie, rows that begin with a `#`). While Spark provides a DataFrame option to handle this automatically, let's consider what it would take to remove comment rows.\n",
        "\n",
        "We need to:\n",
        "\n",
        "- Determine if the column / line starts with a `#`\n",
        "- If so, filter these out to a new DataFrame\n",
        "\n",
        "There are many ways to accomplish this in Spark, but let's use a conceptually straight-forward option, `.startsWith()`."
      ]
    },
    {
      "cell_type": "code",
      "metadata": {
        "id": "Pny8lhMnBVsv",
        "colab_type": "code",
        "outputId": "d6e0ac13-1546-4338-ac3d-9d9e3e702919",
        "colab": {
          "base_uri": "https://localhost:8080/",
          "height": 459
        }
      },
      "source": [
        "titles_single_new_df = titles_single_df.filter(F.col('_c0').startswith('#'))\n",
        "titles_single_new_df.show()"
      ],
      "execution_count": 26,
      "outputs": [
        {
          "output_type": "stream",
          "text": [
            "+--------------------+\n",
            "|                 _c0|\n",
            "+--------------------+\n",
            "|# The wave for is...|\n",
            "|# Which was, Chan...|\n",
            "|# Five 40 dangero...|\n",
            "|# Heisei Hyakkei ...|\n",
            "|# (or will advanc...|\n",
            "|# Site Montana en...|\n",
            "|# To improving ex...|\n",
            "|# Stanford Linear...|\n",
            "|# Europeans. Carl...|\n",
            "|# Offer internati...|\n",
            "|# Hundred Views S...|\n",
            "|# Filipino Americ...|\n",
            "|# West Side desce...|\n",
            "|# To British colo...|\n",
            "|# Rates than laws...|\n",
            "|# (87.8 percent B...|\n",
            "|# On exteriority,...|\n",
            "|# Roosevelt Unive...|\n",
            "|# An \"or\". a conv...|\n",
            "|# 1611–1613 Kalma...|\n",
            "+--------------------+\n",
            "only showing top 20 rows\n",
            "\n"
          ],
          "name": "stdout"
        }
      ]
    },
    {
      "cell_type": "code",
      "metadata": {
        "id": "8GOHWXvmDhtu",
        "colab_type": "code",
        "outputId": "f3fc247a-a3bc-4a86-9bee-8afcd119a7c5",
        "colab": {
          "base_uri": "https://localhost:8080/",
          "height": 34
        }
      },
      "source": [
        "titles_single_new_df.count()"
      ],
      "execution_count": 27,
      "outputs": [
        {
          "output_type": "execute_result",
          "data": {
            "text/plain": [
              "47"
            ]
          },
          "metadata": {
            "tags": []
          },
          "execution_count": 27
        }
      ]
    },
    {
      "cell_type": "markdown",
      "metadata": {
        "id": "MurSx_92YsGv",
        "colab_type": "text"
      },
      "source": [
        "We've determined that we have 47 rows that begin with a comment character. We can now easily filter these from our DataFrame as we do below.\n",
        "\n",
        "*Note*: We're doing things in a more difficult fashion than is absolutely necessary to illustrate options. The Spark CSV reader has an option for a `comment` property, which actually defaults to skipping all rows starting with a `#` character. That said, it only supports a single character - consider if you were looking for multi-character options (ie, a // or /* from C-style syntax). This feature is also only available in newer versions of Spark, where our method works in any of the 2.x Spark releases."
      ]
    },
    {
      "cell_type": "code",
      "metadata": {
        "id": "FnKLL42OXtkx",
        "colab_type": "code",
        "colab": {}
      },
      "source": [
        "# Filter out comments\n",
        "\n",
        "titles_single_df = titles_single_df.filter(~ F.col('_c0').startswith('#'))"
      ],
      "execution_count": 0,
      "outputs": []
    },
    {
      "cell_type": "code",
      "metadata": {
        "id": "MHbyFQt4aUag",
        "colab_type": "code",
        "outputId": "2778c3fb-8657-498e-9d96-7a594e509eb1",
        "colab": {
          "base_uri": "https://localhost:8080/",
          "height": 34
        }
      },
      "source": [
        "titles_single_df.count()"
      ],
      "execution_count": 29,
      "outputs": [
        {
          "output_type": "execute_result",
          "data": {
            "text/plain": [
              "6191"
            ]
          },
          "metadata": {
            "tags": []
          },
          "execution_count": 29
        }
      ]
    },
    {
      "cell_type": "markdown",
      "metadata": {
        "id": "2NRGmdeqa2L3",
        "colab_type": "text"
      },
      "source": [
        "# Checking column counts\n",
        "\n",
        "Our next step for cleaning this dataset in Pyspark involves determining how many columns we should have in our dataset and take care of any outliers. We know from our earlier examination that the dataset should have 12 usable columns per row.\n",
        "\n",
        "First, let's determine how many columns are present in the data and add that as a column. We'll do this with a combination of the `split` and `size` functions, along with the `.withColumn()` method."
      ]
    },
    {
      "cell_type": "code",
      "metadata": {
        "id": "0mNCitULaWL7",
        "colab_type": "code",
        "colab": {}
      },
      "source": [
        "# Add a column representing the total number of fields / columns\n",
        "\n",
        "titles_single_df = titles_single_df.withColumn('fieldCount', F.size(F.split(titles_single_df['_c0'], '\\t')))"
      ],
      "execution_count": 0,
      "outputs": []
    },
    {
      "cell_type": "code",
      "metadata": {
        "id": "Lv5MOxL_tuyw",
        "colab_type": "code",
        "colab": {
          "base_uri": "https://localhost:8080/",
          "height": 459
        },
        "outputId": "bc9b1212-d84b-4fed-e66e-5f42085c6e53"
      },
      "source": [
        "# Show rows with a fieldcount > 12 (Note, select statement here isn't necessarily required - used to reorder the columns for easier viewing)\n",
        "titles_single_df.select('fieldcount', '_c0').where('fieldCount > 12').show(truncate=False)"
      ],
      "execution_count": 40,
      "outputs": [
        {
          "output_type": "stream",
          "text": [
            "+----------+\n",
            "|fieldcount|\n",
            "+----------+\n",
            "|        32|\n",
            "|        30|\n",
            "|        34|\n",
            "|        35|\n",
            "|        35|\n",
            "|        21|\n",
            "|        30|\n",
            "|        32|\n",
            "|        33|\n",
            "|        31|\n",
            "|        33|\n",
            "|        23|\n",
            "|        28|\n",
            "|        17|\n",
            "|        20|\n",
            "|        26|\n",
            "|        23|\n",
            "|        27|\n",
            "|        35|\n",
            "|        15|\n",
            "+----------+\n",
            "only showing top 20 rows\n",
            "\n"
          ],
          "name": "stdout"
        }
      ]
    },
    {
      "cell_type": "code",
      "metadata": {
        "id": "Pl3Tz5rht5OC",
        "colab_type": "code",
        "colab": {
          "base_uri": "https://localhost:8080/",
          "height": 459
        },
        "outputId": "65b38796-7028-4ce4-f1ea-a4fd5b843801"
      },
      "source": [
        "# Check for any rows with fewer than 12 columns\n",
        "\n",
        "titles_single_df.select('fieldcount', '_c0').where('fieldcount < 12').show(truncate=False)"
      ],
      "execution_count": 42,
      "outputs": [
        {
          "output_type": "stream",
          "text": [
            "+----------+--------------------+\n",
            "|fieldcount|                 _c0|\n",
            "+----------+--------------------+\n",
            "|         3|TV Show\tTV-MA\tCri...|\n",
            "|        11|80109038\tTV Show\t...|\n",
            "|        11|80227114\tMovie\tKü...|\n",
            "|         8|80108518\tAnthony ...|\n",
            "|         3|The Miracle\tDongh...|\n",
            "|        11|80179762\tShe-Ra a...|\n",
            "|         5|Movie\tHarold and ...|\n",
            "|         1|    Black Snake Moan|\n",
            "|        10|70178618\tShark Ni...|\n",
            "|        10|80160504\tLa Doña\t...|\n",
            "|         5|80195049\tMovie\tIb...|\n",
            "|         2|Jen Kirkman\tMay 2...|\n",
            "|        10|81077597\tMovie\tI ...|\n",
            "|         3|Movie\t\tThis fun, ...|\n",
            "|        10|81047677\tMovie\tI ...|\n",
            "|         9|\tKaycie Chase, Da...|\n",
            "|        10|80223136\tMovie\tMa...|\n",
            "|         8|80020131\tKate Hig...|\n",
            "|         1|            70213078|\n",
            "|         5|The 2000s\t\tUnited...|\n",
            "+----------+--------------------+\n",
            "only showing top 20 rows\n",
            "\n"
          ],
          "name": "stdout"
        }
      ]
    },
    {
      "cell_type": "code",
      "metadata": {
        "id": "YmqGCyxi7peV",
        "colab_type": "code",
        "colab": {}
      },
      "source": [
        "# Save these to a separate dataframe for later analysis\n",
        "\n",
        "titles_badrows_df = titles_single_df.where('fieldcount != 12')"
      ],
      "execution_count": 0,
      "outputs": []
    },
    {
      "cell_type": "code",
      "metadata": {
        "id": "Ag8tZcQ68gzr",
        "colab_type": "code",
        "colab": {
          "base_uri": "https://localhost:8080/",
          "height": 34
        },
        "outputId": "de971596-3e21-4e79-b720-c537728fd2a6"
      },
      "source": [
        "# Determine total number of \"bad\" rows\n",
        "titles_badrows_df.count()"
      ],
      "execution_count": 44,
      "outputs": [
        {
          "output_type": "execute_result",
          "data": {
            "text/plain": [
              "78"
            ]
          },
          "metadata": {
            "tags": []
          },
          "execution_count": 44
        }
      ]
    },
    {
      "cell_type": "code",
      "metadata": {
        "id": "jR_BbSWA8ila",
        "colab_type": "code",
        "colab": {}
      },
      "source": [
        "# Set the dataframe without the bad rows\n",
        "titles_single_df = titles_single_df.where('fieldcount == 12')"
      ],
      "execution_count": 0,
      "outputs": []
    },
    {
      "cell_type": "code",
      "metadata": {
        "id": "VkyXBTyv8phE",
        "colab_type": "code",
        "colab": {
          "base_uri": "https://localhost:8080/",
          "height": 34
        },
        "outputId": "2a6a85f2-4b33-4241-bef6-da4d490b795a"
      },
      "source": [
        "# How many current rows in dataframe?\n",
        "\n",
        "titles_single_df.count()"
      ],
      "execution_count": 46,
      "outputs": [
        {
          "output_type": "execute_result",
          "data": {
            "text/plain": [
              "6113"
            ]
          },
          "metadata": {
            "tags": []
          },
          "execution_count": 46
        }
      ]
    },
    {
      "cell_type": "markdown",
      "metadata": {
        "id": "L_QN8__l81xh",
        "colab_type": "text"
      },
      "source": [
        "# Q&A"
      ]
    },
    {
      "cell_type": "markdown",
      "metadata": {
        "id": "eYMSHgfk9ukp",
        "colab_type": "text"
      },
      "source": [
        "# More cleaning / prep\n",
        "\n",
        "Now that we've removed rows that don't fit our basic formatting, let's continue on with making our dataframe more useful.\n",
        "\n",
        "First, let's create a new column that is a list of all \"columns\" using the `pyspark.sql.functions.split` method. We'll call this `splitcolumn`."
      ]
    },
    {
      "cell_type": "code",
      "metadata": {
        "id": "FdV-yNUpAkr3",
        "colab_type": "code",
        "colab": {}
      },
      "source": [
        "# Create a list of split strings as a new column named splitcolumn\n",
        "titles_cleaned_df = titles_single_df.select(F.split('_c0', '\\t').alias('splitcolumn'))\n"
      ],
      "execution_count": 0,
      "outputs": []
    },
    {
      "cell_type": "code",
      "metadata": {
        "id": "5ku9EWddB8Su",
        "colab_type": "code",
        "colab": {
          "base_uri": "https://localhost:8080/",
          "height": 479
        },
        "outputId": "c191728e-36e0-4e2c-a0ce-d17b3284d994"
      },
      "source": [
        "# View the contents\n",
        "titles_cleaned_df.show(truncate=False)"
      ],
      "execution_count": 102,
      "outputs": [
        {
          "output_type": "stream",
          "text": [
            "+----------------------------------------------------------------------------------------------------------------------------------------------------------------------------------------------------------------------------------------------------------------------------------------------------------------------------------------------------------------------------------------------------------------------------------------------------------------------------------------------------------------------------------------+\n",
            "|splitcolumn                                                                                                                                                                                                                                                                                                                                                                                                                                                                                                                             |\n",
            "+----------------------------------------------------------------------------------------------------------------------------------------------------------------------------------------------------------------------------------------------------------------------------------------------------------------------------------------------------------------------------------------------------------------------------------------------------------------------------------------------------------------------------------------+\n",
            "|[81002212, Movie, Bioscope, Gajendra Ahire, Viju Mane, Girish Mohite, Ravi Jadhav, Nina Kulkarni, Suhas Palshikar, Kushal Badrike, Spruha Joshi, Mangesh Desai, Smita Tambe, Veena Jamkar, Sandeep Khare, India, August 15, 2018, 2015, TV-14, 131 min, Dramas, International Movies, LGBTQ Movies, Inspired by classic and contemporary literature, four renowned Marathi directors create four individual stories in this anthology of short films.]                                                                                  |\n",
            "|[80176707, Movie, For Here or to Go?, Rucha Humnabadkar, Ali Fazal, Melanie Chandra, Rajit Kapoor, Amitosh Nagpal, Omi Vaidya, Samrat Chakrabarti, Keith Stevenson, United States, India, August 15, 2018, 2015, TV-MA, 105 min, Comedies, Dramas, Independent Movies, A software engineer must decide if he'd rather navigate America's frustrating visa renewal process or simply return to his home country of India.]                                                                                                               |\n",
            "|[80199381, Movie, Hostiles, Scott Cooper, Christian Bale, Rosamund Pike, Wes Studi, Jesse Plemons, Timothée Chalamet, Ben Foster, Adam Beach, Rory Cochrane, Peter Mullan, Scott Wilson, Paul Anderson, Jonathan Majors, John Benjamin Hickey, Q'orianka Kilcher, Ryan Bingham, United States, August 15, 2018, 2017, R, 134 min, Dramas, After a long career battling the Cheyenne, a U.S. Army captain is ordered to safely escort the tribe's most influential chief to his Montana homeland.]                                       |\n",
            "|[80202176, Movie, Hurricane Bianca: From Russia With Hate, Matt Kugelman, Roy Haylock, Rachel Dratch, Brian McCook, D.J. \"Shangela\" Pierce, Doug Plaut, Cheyenne Jackson, Kristen Johnston, Heather McDonald, Wanda Sykes, Janeane Garofalo, United States, August 15, 2018, 2018, TV-MA, 85 min, Comedies, Independent Movies, LGBTQ Movies, When Texas teacher Richard is lured to Russia under false pretenses by his enemy Deb, his drag alter ego Bianca soon turns the country upside down.]                                      |\n",
            "|[81014293, TV Show, Nuestra Lucha Libre, , , , August 15, 2018, 2018, TV-MA, 1 Season, Docuseries, International TV Shows, Spanish-Language TV Shows, This documentary series lifts the mask on Mexican wrestling, diving into the daily lives of its stars, examining the sport’s cultural impact and more.]                                                                                                                                                                                                                           |\n",
            "|[81014811, TV Show, The Creative Indians, , , , August 15, 2018, 2017, NR, 1 Season, Docuseries, International TV Shows, From chefs and comedians to filmmakers and fashion designers, India’s most notable imaginative minds share their artistic journeys.]                                                                                                                                                                                                                                                                           |\n",
            "|[70123118, Movie, What's Your Raashee?, Ashutosh Gowariker, Priyanka Chopra, Harman Baweja, Suzy Brack, Gene Fojtik, Anjan Srivastav, Darshan Jariwala, Dilip Joshi, Daya Shankar Pandey, Yuri Suri, Rajesh Vivek, Geeta Tyagi, India, August 15, 2018, 2009, TV-PG, 203 min, Comedies, International Movies, Music & Musicals, To protect his family from ruin, Yogesh must marry his dream girl in only ten days, so he rushes into dating women with different astrological signs.]                                                  |\n",
            "|[80175913, TV Show, 20 Minutes, , Tuba Büyüküstün, Ilker Aksum, Bülent Emin Yarar, İpek Bilgin, Müjde Uzman, Firat Çelik, Ayten Uncuoglu, Cihat Tamer, Turkey, August 15, 2017, 2013, TV-MA, 1 Season, Crime TV Shows, International TV Shows, TV Dramas, When his wife is convicted of murder, a horrified family man races to prove her innocence while a dogged investigator sets out to uncover the truth.]                                                                                                                         |\n",
            "|[80182274, Movie, Barbecue, Matthew Salleh, , Australia, Armenia, Japan, Jordan, Mexico, Mongolia, New Zealand, Philippines, South Africa, Sweden, United States, Uruguay, August 15, 2017, 2017, TV-MA, 101 min, Documentaries, International Movies, A blend of cultural nuance and mesmerizing techniques adds flavor to this globe-hopping celebration of cooking, tradition and community.]                                                                                                                                        |\n",
            "|[80185166, Movie, Brad Paisley's Comedy Rodeo, Jay Chapman, Brad Paisley, Nate Bargatze, John Heffron, Jon Reep, Sarah Tiana, Mike E. Winfield, United States, August 15, 2017, 2017, TV-MA, 63 min, Stand-Up Comedy, Country music star Brad Paisley hosts a night of music and laughs with comics Nate Bargatze, John Heffron, Jon Reep, Sarah Tiana and Mike E. Winfield.]                                                                                                                                                           |\n",
            "|[80068219, Movie, Colin Quinn: Unconstitutional, Jay Chapman, Colin Quinn, United States, August 15, 2017, 2015, TV-MA, 56 min, Stand-Up Comedy, New York comedian Colin Quinn writes and stars in this live one-man stage show that dissects and deconstructs U.S. constitutional history.]                                                                                                                                                                                                                                            |\n",
            "|[70209163, Movie, Goon, Michael Dowse, Seann William Scott, Jay Baruchel, Liev Schreiber, Alison Pill, Marc-André Grondin, Kim Coates, Eugene Levy, Nicholas Campbell, Richard Clarkin, Jonathan Cherry, United States, Canada, August 15, 2017, 2011, R, 92 min, Comedies, Sports Movies, When he's seen dispatching a rude opposing hockey player in the stands, Doug Glatt is hired by a rival team ... for his fighting skills.]                                                                                                    |\n",
            "|[80170687, TV Show, Million Yen Women, , Yojiro Noda, Rila Fukushima, Rena Matsui, Miwako Wagatsuma, Rena Takeda, Yuko Araki, Yuya Endo, Kaito Yoshimura, Moeka Hoshi, Juri Ihata, Mariko Tsutsui, Kanji Furutachi, Tetsuhiro Ikeda, Takashi Yamanaka, Tomoya Nakamura, Lily Franky, Japan, August 15, 2017, 2017, TV-MA, 1 Season, Crime TV Shows, International TV Shows, TV Dramas, Five beautiful but mysterious women move in with unsuccessful novelist Shin, who manages their odd household in exchange for a tidy monthly sum.]|\n",
            "|[80163191, Movie, My Ex-Ex, Nathaniel Warsh, André Bharti, Katherine Barrell, Ray Galletti, Emily Alatalo, Tamara Duarte, Randal Edwards, Alastair Forbes, Jesse Camacho, Canada, August 15, 2017, 2015, TV-MA, 91 min, Comedies, Romantic Movies, A recently dumped attorney hires a psychic to help her win back her boyfriend. Things take an unexpected turn when another ex re-enters the picture.]                                                                                                                                |\n",
            "|[80184661, Movie, We're No Animals, Alejandro Agresti, John Cusack, Paul Hipp, Kevin Morris, Alejandro Agresti, Mario Alarcón, Norman Briski, Lucila Solá, Juana Viale, Pablo Bossi, Leticia Brédice, United States, Argentina, August 15, 2017, 2015, TV-MA, 94 min, Comedies, Dramas, Independent Movies, Unhappy with his commercial film work, a jaded Hollywood actor moves to Argentina to participate in an experimental thesis on social philosophy.]                                                                           |\n",
            "|[80114588, TV Show, Behind Enemy Lines, , , United States, August 15, 2016, 2001, TV-14, 1 Season, British TV Shows, Docuseries, After dire setbacks in 1940, Winston Churchill commissions a new kind of fighting force: commandos trained to use stealth and audacious tactics.]                                                                                                                                                                                                                                                      |\n",
            "|[80078761, Movie, Being AP, Anthony Wonke, Tony McCoy, United Kingdom, August 15, 2016, 2015, TV-14, 99 min, Documentaries, International Movies, Sports Movies, With retirement staring him in the face, an all-time-great jump jockey pursues his 20th consecutive title in his unrelenting quest for glory.]                                                                                                                                                                                                                         |\n",
            "|[80115844, Movie, John & Jane, Ashim Ahluwalia, , India, August 15, 2016, 2005, TV-14, 79 min, Documentaries, International Movies, Truth and fiction blend in this quasi-documentary about six exhausted workers at a Mumbai call center servicing U.S. customers.]                                                                                                                                                                                                                                                                    |\n",
            "|[80114111, Movie, Louis C.K.: Live at the Comedy Store, Louis C.K., Louis C.K., United States, August 15, 2016, 2015, , 66 min, Movies, The comic puts his trademark hilarious/thought-provoking spin on finding a bat in his kitchen, seeing rats having sex, Boston accents and dead pets.]                                                                                                                                                                                                                                           |\n",
            "|[80108998, Movie, Real Crime: Supermarket Heist (Tesco Bomber), , , United Kingdom, August 15, 2016, 2010, TV-14, 46 min, Documentaries, In 2000, U.K. detectives spent months tracking a criminal known only as Sally, who was targeting a supermarket chain with extortion and letter bombs.]                                                                                                                                                                                                                                         |\n",
            "+----------------------------------------------------------------------------------------------------------------------------------------------------------------------------------------------------------------------------------------------------------------------------------------------------------------------------------------------------------------------------------------------------------------------------------------------------------------------------------------------------------------------------------------+\n",
            "only showing top 20 rows\n",
            "\n"
          ],
          "name": "stdout"
        }
      ]
    },
    {
      "cell_type": "markdown",
      "metadata": {
        "id": "BwUcLor4IggD",
        "colab_type": "text"
      },
      "source": [
        "# Creating typed columns\n",
        "\n",
        "There are several ways to do this operation depending on your needs, but for this dataset we'll explicitly convert the strings in the listcolumn to actual dataframe columns. The `.getItem()` method returns the value at the specified index of the listcolumn (ie, of `splitcolumn`). \n",
        "\n",
        "Note that for `show_id` and `release_year`, we'll also use `.cast()` to specify them as integers rather than just strings."
      ]
    },
    {
      "cell_type": "code",
      "metadata": {
        "id": "Roo0kxtlB-hz",
        "colab_type": "code",
        "colab": {}
      },
      "source": [
        "titles_cleaned_df = titles_cleaned_df.withColumn('show_id', titles_cleaned_df.splitcolumn.getItem(0).cast(IntegerType()))\n",
        "titles_cleaned_df = titles_cleaned_df.withColumn('type', titles_cleaned_df.splitcolumn.getItem(1))\n",
        "titles_cleaned_df = titles_cleaned_df.withColumn('title', titles_cleaned_df.splitcolumn.getItem(2))\n",
        "titles_cleaned_df = titles_cleaned_df.withColumn('director', titles_cleaned_df.splitcolumn.getItem(3))\n",
        "titles_cleaned_df = titles_cleaned_df.withColumn('cast', titles_cleaned_df.splitcolumn.getItem(4))\n",
        "titles_cleaned_df = titles_cleaned_df.withColumn('country', titles_cleaned_df.splitcolumn.getItem(5))\n",
        "titles_cleaned_df = titles_cleaned_df.withColumn('date_added', titles_cleaned_df.splitcolumn.getItem(6))\n",
        "titles_cleaned_df = titles_cleaned_df.withColumn('release_year', titles_cleaned_df.splitcolumn.getItem(7).cast(IntegerType()))\n",
        "titles_cleaned_df = titles_cleaned_df.withColumn('rating', titles_cleaned_df.splitcolumn.getItem(8))\n",
        "titles_cleaned_df = titles_cleaned_df.withColumn('duration', titles_cleaned_df.splitcolumn.getItem(9))\n",
        "titles_cleaned_df = titles_cleaned_df.withColumn('listed_in', titles_cleaned_df.splitcolumn.getItem(10))\n",
        "titles_cleaned_df = titles_cleaned_df.withColumn('description', titles_cleaned_df.splitcolumn.getItem(11))"
      ],
      "execution_count": 0,
      "outputs": []
    },
    {
      "cell_type": "markdown",
      "metadata": {
        "id": "LytioBfiJLvr",
        "colab_type": "text"
      },
      "source": [
        "Let's now drop our columns that aren't needed anymore. These are `_c0` (the original single line string), `fieldcount`, and `splitcolumn`. You can drop these as a single column per entry, or a comma-separated set of column names."
      ]
    },
    {
      "cell_type": "code",
      "metadata": {
        "id": "feZwxQ8rC1MJ",
        "colab_type": "code",
        "colab": {}
      },
      "source": [
        "titles_cleaned_df = titles_cleaned_df.drop('_c0', 'fieldcount', 'splitcolumn')"
      ],
      "execution_count": 0,
      "outputs": []
    },
    {
      "cell_type": "markdown",
      "metadata": {
        "id": "7G_Zdg7EJq-i",
        "colab_type": "text"
      },
      "source": [
        "Let's verify our content, check the row count, and then look at our schema."
      ]
    },
    {
      "cell_type": "code",
      "metadata": {
        "id": "eL_ewudgDKKt",
        "colab_type": "code",
        "colab": {
          "base_uri": "https://localhost:8080/",
          "height": 479
        },
        "outputId": "e4b63049-122c-493b-f0f3-e6d4520c37c3"
      },
      "source": [
        "titles_cleaned_df.show()"
      ],
      "execution_count": 105,
      "outputs": [
        {
          "output_type": "stream",
          "text": [
            "+--------+-------+--------------------+--------------------+--------------------+--------------------+---------------+------------+------+--------+--------------------+--------------------+\n",
            "| show_id|   type|               title|            director|                cast|             country|     date_added|release_year|rating|duration|           listed_in|         description|\n",
            "+--------+-------+--------------------+--------------------+--------------------+--------------------+---------------+------------+------+--------+--------------------+--------------------+\n",
            "|81002212|  Movie|            Bioscope|Gajendra Ahire, V...|Nina Kulkarni, Su...|               India|August 15, 2018|        2015| TV-14| 131 min|Dramas, Internati...|Inspired by class...|\n",
            "|80176707|  Movie|  For Here or to Go?|   Rucha Humnabadkar|Ali Fazal, Melani...|United States, India|August 15, 2018|        2015| TV-MA| 105 min|Comedies, Dramas,...|A software engine...|\n",
            "|80199381|  Movie|            Hostiles|        Scott Cooper|Christian Bale, R...|       United States|August 15, 2018|        2017|     R| 134 min|              Dramas|After a long care...|\n",
            "|80202176|  Movie|Hurricane Bianca:...|       Matt Kugelman|Roy Haylock, Rach...|       United States|August 15, 2018|        2018| TV-MA|  85 min|Comedies, Indepen...|When Texas teache...|\n",
            "|81014293|TV Show| Nuestra Lucha Libre|                    |                    |                    |August 15, 2018|        2018| TV-MA|1 Season|Docuseries, Inter...|This documentary ...|\n",
            "|81014811|TV Show|The Creative Indians|                    |                    |                    |August 15, 2018|        2017|    NR|1 Season|Docuseries, Inter...|From chefs and co...|\n",
            "|70123118|  Movie|What's Your Raashee?|  Ashutosh Gowariker|Priyanka Chopra, ...|               India|August 15, 2018|        2009| TV-PG| 203 min|Comedies, Interna...|To protect his fa...|\n",
            "|80175913|TV Show|          20 Minutes|                    |Tuba Büyüküstün, ...|              Turkey|August 15, 2017|        2013| TV-MA|1 Season|Crime TV Shows, I...|When his wife is ...|\n",
            "|80182274|  Movie|            Barbecue|      Matthew Salleh|                    |Australia, Armeni...|August 15, 2017|        2017| TV-MA| 101 min|Documentaries, In...|A blend of cultur...|\n",
            "|80185166|  Movie|Brad Paisley's Co...|         Jay Chapman|Brad Paisley, Nat...|       United States|August 15, 2017|        2017| TV-MA|  63 min|     Stand-Up Comedy|Country music sta...|\n",
            "|80068219|  Movie|Colin Quinn: Unco...|         Jay Chapman|         Colin Quinn|       United States|August 15, 2017|        2015| TV-MA|  56 min|     Stand-Up Comedy|New York comedian...|\n",
            "|70209163|  Movie|                Goon|       Michael Dowse|Seann William Sco...|United States, Ca...|August 15, 2017|        2011|     R|  92 min|Comedies, Sports ...|When he's seen di...|\n",
            "|80170687|TV Show|   Million Yen Women|                    |Yojiro Noda, Rila...|               Japan|August 15, 2017|        2017| TV-MA|1 Season|Crime TV Shows, I...|Five beautiful bu...|\n",
            "|80163191|  Movie|            My Ex-Ex|     Nathaniel Warsh|André Bharti, Kat...|              Canada|August 15, 2017|        2015| TV-MA|  91 min|Comedies, Romanti...|A recently dumped...|\n",
            "|80184661|  Movie|    We're No Animals|   Alejandro Agresti|John Cusack, Paul...|United States, Ar...|August 15, 2017|        2015| TV-MA|  94 min|Comedies, Dramas,...|Unhappy with his ...|\n",
            "|80114588|TV Show|  Behind Enemy Lines|                    |                    |       United States|August 15, 2016|        2001| TV-14|1 Season|British TV Shows,...|After dire setbac...|\n",
            "|80078761|  Movie|            Being AP|       Anthony Wonke|          Tony McCoy|      United Kingdom|August 15, 2016|        2015| TV-14|  99 min|Documentaries, In...|With retirement s...|\n",
            "|80115844|  Movie|         John & Jane|     Ashim Ahluwalia|                    |               India|August 15, 2016|        2005| TV-14|  79 min|Documentaries, In...|Truth and fiction...|\n",
            "|80114111|  Movie|Louis C.K.: Live ...|          Louis C.K.|          Louis C.K.|       United States|August 15, 2016|        2015|      |  66 min|              Movies|The comic puts hi...|\n",
            "|80108998|  Movie|Real Crime: Super...|                    |                    |      United Kingdom|August 15, 2016|        2010| TV-14|  46 min|       Documentaries|In 2000, U.K. det...|\n",
            "+--------+-------+--------------------+--------------------+--------------------+--------------------+---------------+------------+------+--------+--------------------+--------------------+\n",
            "only showing top 20 rows\n",
            "\n"
          ],
          "name": "stdout"
        }
      ]
    },
    {
      "cell_type": "code",
      "metadata": {
        "id": "l-C2jZOZEnnr",
        "colab_type": "code",
        "colab": {
          "base_uri": "https://localhost:8080/",
          "height": 34
        },
        "outputId": "911535c1-fe5d-4f5e-ee9e-c27778c4edb2"
      },
      "source": [
        "titles_cleaned_df.count()"
      ],
      "execution_count": 106,
      "outputs": [
        {
          "output_type": "execute_result",
          "data": {
            "text/plain": [
              "6113"
            ]
          },
          "metadata": {
            "tags": []
          },
          "execution_count": 106
        }
      ]
    },
    {
      "cell_type": "code",
      "metadata": {
        "id": "fti0um-RDRVp",
        "colab_type": "code",
        "colab": {
          "base_uri": "https://localhost:8080/",
          "height": 255
        },
        "outputId": "a2a293a7-9633-4639-90f7-d099d2304aef"
      },
      "source": [
        "titles_cleaned_df.printSchema()"
      ],
      "execution_count": 107,
      "outputs": [
        {
          "output_type": "stream",
          "text": [
            "root\n",
            " |-- show_id: integer (nullable = true)\n",
            " |-- type: string (nullable = true)\n",
            " |-- title: string (nullable = true)\n",
            " |-- director: string (nullable = true)\n",
            " |-- cast: string (nullable = true)\n",
            " |-- country: string (nullable = true)\n",
            " |-- date_added: string (nullable = true)\n",
            " |-- release_year: integer (nullable = true)\n",
            " |-- rating: string (nullable = true)\n",
            " |-- duration: string (nullable = true)\n",
            " |-- listed_in: string (nullable = true)\n",
            " |-- description: string (nullable = true)\n",
            "\n"
          ],
          "name": "stdout"
        }
      ]
    },
    {
      "cell_type": "markdown",
      "metadata": {
        "id": "d2W5ImNkJ3f8",
        "colab_type": "text"
      },
      "source": [
        "# Even more cleanup\n",
        "\n",
        "While we've successfully removed a lot of problem rows, let's look at fixing an issue remaining with the dataset. \n",
        "\n",
        "Let's look at the distinct values available in the show `type` column. "
      ]
    },
    {
      "cell_type": "code",
      "metadata": {
        "id": "YP9IzxLPFwBS",
        "colab_type": "code",
        "colab": {
          "base_uri": "https://localhost:8080/",
          "height": 153
        },
        "outputId": "d82ee044-96f1-4bb0-eac7-1b22e2444b6b"
      },
      "source": [
        "titles_cleaned_df.select('type').distinct().show()"
      ],
      "execution_count": 108,
      "outputs": [
        {
          "output_type": "stream",
          "text": [
            "+-------+\n",
            "|   type|\n",
            "+-------+\n",
            "|TV Show|\n",
            "|  Movie|\n",
            "|       |\n",
            "+-------+\n",
            "\n"
          ],
          "name": "stdout"
        }
      ]
    },
    {
      "cell_type": "code",
      "metadata": {
        "id": "Nx7weVd1G33o",
        "colab_type": "code",
        "colab": {
          "base_uri": "https://localhost:8080/",
          "height": 207
        },
        "outputId": "4fa38978-afd3-4ef2-a707-5bda1404893e"
      },
      "source": [
        "titles_cleaned_df.where('type == \"\"').show()"
      ],
      "execution_count": 109,
      "outputs": [
        {
          "output_type": "stream",
          "text": [
            "+--------+----+--------------------+--------------+--------------------+----------------+----------------+------------+------+--------+--------------------+--------------------+\n",
            "| show_id|type|               title|      director|                cast|         country|      date_added|release_year|rating|duration|           listed_in|         description|\n",
            "+--------+----+--------------------+--------------+--------------------+----------------+----------------+------------+------+--------+--------------------+--------------------+\n",
            "|80032097|    |        Romeo Ranjha|Navaniat Singh|Jazzy B, Garry Sa...|   India, Canada|November 1, 2017|        2014| TV-14| 122 min|Action & Adventur...|Two common boys t...|\n",
            "|81039410|    |         Dry Martina|  Che Sandoval|Antonella Costa, ...|Chile, Argentina|    May 11, 2019|        2018| TV-MA| 100 min|Dramas, Independe...|An odd encounter ...|\n",
            "|80156212|    |           Wakefield| Robin Swicord|Bryan Cranston, J...|   United States|   March 2, 2019|        2016|     R| 109 min|              Dramas|An unhappy father...|\n",
            "|80219180|    |Darr Sabko Lagta Hai|              |        Bipasha Basu|           India|   March 1, 2018|        2015| TV-MA|1 Season|International TV ...|In this chilling ...|\n",
            "|80204730|    |       The Last O.G.|              |Tracy Morgan, Tif...|   United States|December 5, 2018|        2018| TV-MA|1 Season|         TV Comedies|After 15 years be...|\n",
            "+--------+----+--------------------+--------------+--------------------+----------------+----------------+------------+------+--------+--------------------+--------------------+\n",
            "\n"
          ],
          "name": "stdout"
        }
      ]
    },
    {
      "cell_type": "markdown",
      "metadata": {
        "id": "TW4sUhBMKt9v",
        "colab_type": "text"
      },
      "source": [
        "You'll notice that we have 5 rows where the type is not specified. We have a couple of options:\n",
        "\n",
        "- Drop the rows\n",
        "- Infer what the `type` is based on other content available in the dataset\n",
        "\n",
        "You could remove the problem rows using something like:\n",
        "\n",
        "```\n",
        "titles_cleaned_df = titles_cleaned_df.where('type == \"TV Show\" or type == \"Movie\"')\n",
        "```\n",
        "\n",
        "That feels a bit like cheating though - let's consider how else we could determine this largely automatically.\n",
        "\n",
        "If you look at the `duration` column, you'll notice that there are different meanings behind the entries. We have durations that contain the word *min* (minutes) or the word `Season` for seasons of the show. We can try to use these to properly set the `type` value for these rows.\n",
        "\n",
        "This problem is a bit tricky though as Spark does not have the concept of updating data within a column without jumping through several hoops. We can however work through this issue using a User Defined Function, or UDF.\n",
        "\n",
        "## UDF\n",
        "\n",
        "If you haven't worked with them before, a UDF is a Python function that gets applied to every row of a DataFrame. They are extremely flexible and can help us work through issues such as our current one.\n",
        "\n",
        "First, let's define our Python function that takes two arguments, a showtype (ie, *Movie*, *TV Show*, or other) and the showduration. Note that these are strings in this case. We'll check if the showtype is already a Movie or TV Show - if so, just return that value. Otherwise, we'll check if the showduration ends with *min*, indicating a Movie. If not, we'll specify it as a TV Show.\n"
      ]
    },
    {
      "cell_type": "code",
      "metadata": {
        "id": "m97hs-7qPCus",
        "colab_type": "code",
        "colab": {}
      },
      "source": [
        "# Define the UDF callable\n",
        "\n",
        "def deriveType(showtype, showduration):\n",
        "  if showtype == 'Movie' or showtype == 'TV Show':\n",
        "    return showtype\n",
        "  else:\n",
        "    if showduration.endswith('min'):\n",
        "      return \"Movie\"\n",
        "    else:\n",
        "      return \"TV Show\""
      ],
      "execution_count": 0,
      "outputs": []
    },
    {
      "cell_type": "markdown",
      "metadata": {
        "id": "PW5L773xQCfy",
        "colab_type": "text"
      },
      "source": [
        "# Define the UDF for Spark\n",
        "\n",
        "Now we need to configure the UDF for Spark to access it accordingly."
      ]
    },
    {
      "cell_type": "code",
      "metadata": {
        "id": "3y7TpzkAQb8x",
        "colab_type": "code",
        "colab": {}
      },
      "source": [
        "from pyspark.sql.functions import udf\n",
        "\n",
        "udfDeriveType = udf(deriveType, StringType())"
      ],
      "execution_count": 0,
      "outputs": []
    },
    {
      "cell_type": "code",
      "metadata": {
        "id": "0sE7GaRVR7Tv",
        "colab_type": "code",
        "colab": {}
      },
      "source": [
        "# Create a new derived column, passing in the appropriate values\n",
        "\n",
        "titles_cleaned_df = titles_cleaned_df.withColumn('derivedType', udfDeriveType(F.col('type'), F.col('duration')))"
      ],
      "execution_count": 0,
      "outputs": []
    },
    {
      "cell_type": "code",
      "metadata": {
        "id": "-eGdUm5ZSojy",
        "colab_type": "code",
        "colab": {
          "base_uri": "https://localhost:8080/",
          "height": 207
        },
        "outputId": "af723e70-dc92-4087-8098-7d9ee71d8dee"
      },
      "source": [
        "# Show the rows where type is an empty string again, examining the derivedType\n",
        "titles_cleaned_df.where('type == \"\"').show()"
      ],
      "execution_count": 116,
      "outputs": [
        {
          "output_type": "stream",
          "text": [
            "+--------+----+--------------------+--------------+--------------------+----------------+----------------+------------+------+--------+--------------------+--------------------+-----------+\n",
            "| show_id|type|               title|      director|                cast|         country|      date_added|release_year|rating|duration|           listed_in|         description|derivedType|\n",
            "+--------+----+--------------------+--------------+--------------------+----------------+----------------+------------+------+--------+--------------------+--------------------+-----------+\n",
            "|80032097|    |        Romeo Ranjha|Navaniat Singh|Jazzy B, Garry Sa...|   India, Canada|November 1, 2017|        2014| TV-14| 122 min|Action & Adventur...|Two common boys t...|      Movie|\n",
            "|81039410|    |         Dry Martina|  Che Sandoval|Antonella Costa, ...|Chile, Argentina|    May 11, 2019|        2018| TV-MA| 100 min|Dramas, Independe...|An odd encounter ...|      Movie|\n",
            "|80156212|    |           Wakefield| Robin Swicord|Bryan Cranston, J...|   United States|   March 2, 2019|        2016|     R| 109 min|              Dramas|An unhappy father...|      Movie|\n",
            "|80219180|    |Darr Sabko Lagta Hai|              |        Bipasha Basu|           India|   March 1, 2018|        2015| TV-MA|1 Season|International TV ...|In this chilling ...|    TV Show|\n",
            "|80204730|    |       The Last O.G.|              |Tracy Morgan, Tif...|   United States|December 5, 2018|        2018| TV-MA|1 Season|         TV Comedies|After 15 years be...|    TV Show|\n",
            "+--------+----+--------------------+--------------+--------------------+----------------+----------------+------------+------+--------+--------------------+--------------------+-----------+\n",
            "\n"
          ],
          "name": "stdout"
        }
      ]
    },
    {
      "cell_type": "code",
      "metadata": {
        "id": "w1Z923yGSt2q",
        "colab_type": "code",
        "colab": {}
      },
      "source": [
        "# Drop the original type column and rename derviedType to type\n",
        "titles_cleaned_df = titles_cleaned_df.drop('type').withColumnRenamed('derivedType', 'type')"
      ],
      "execution_count": 0,
      "outputs": []
    },
    {
      "cell_type": "code",
      "metadata": {
        "id": "JW7Dtb-wHfs5",
        "colab_type": "code",
        "colab": {
          "base_uri": "https://localhost:8080/",
          "height": 136
        },
        "outputId": "636339f4-6942-4163-dc46-0f428b6aaa82"
      },
      "source": [
        "# Verify we only have two types available\n",
        "titles_cleaned_df.select('type').distinct().show()"
      ],
      "execution_count": 118,
      "outputs": [
        {
          "output_type": "stream",
          "text": [
            "+-------+\n",
            "|   type|\n",
            "+-------+\n",
            "|TV Show|\n",
            "|  Movie|\n",
            "+-------+\n",
            "\n"
          ],
          "name": "stdout"
        }
      ]
    },
    {
      "cell_type": "code",
      "metadata": {
        "id": "rXr5D8-4HkSR",
        "colab_type": "code",
        "colab": {
          "base_uri": "https://localhost:8080/",
          "height": 34
        },
        "outputId": "399b68a4-8a07-47bc-ce31-30594cada140"
      },
      "source": [
        "# Verify our row count is the same\n",
        "titles_cleaned_df.count()"
      ],
      "execution_count": 119,
      "outputs": [
        {
          "output_type": "execute_result",
          "data": {
            "text/plain": [
              "6113"
            ]
          },
          "metadata": {
            "tags": []
          },
          "execution_count": 119
        }
      ]
    },
    {
      "cell_type": "markdown",
      "metadata": {
        "id": "0KUVyBzLTZgN",
        "colab_type": "text"
      },
      "source": [
        "# Saving data for analysis / further processing\n",
        "\n",
        "The last step of our data cleaning is to save the cleaned dataframe out to a file type. If you plan to do any further analysis or processing using Spark, it's highly recommended you use Parquet. Other options are available per your needs, but Spark is optimized to take advantage of Parquet."
      ]
    },
    {
      "cell_type": "code",
      "metadata": {
        "id": "inKlmeIfHnw9",
        "colab_type": "code",
        "colab": {}
      },
      "source": [
        "# Save the data\n",
        "\n",
        "titles_cleaned_df.write.parquet('/tmp/cleaned_data.parquet', mode='overwrite')"
      ],
      "execution_count": 0,
      "outputs": []
    },
    {
      "cell_type": "markdown",
      "metadata": {
        "id": "LMJO9w_xUDAh",
        "colab_type": "text"
      },
      "source": [
        "# Challenges\n",
        "\n",
        "We've looked at several data cleaning operations using Spark. Here are some other challenges to consider within the dataset:\n",
        "\n",
        "1) *Splitting names* - \n",
        "  You may have noticed that the names are combined for the cast and directors into a list. Consider how you would turn that data into a list / array column to easily access more detailed information (which shows have the largest cast, etc?)\n",
        "\n",
        "2) *Splitting names further* - Consider taking any of the name fields and splitting it into first name, last name, etc. Take special consideration about how you would handle initials, names with more than 3 components, etc.\n",
        "\n",
        "3) *Parsing dates* - Look at the `date_added` field and determine if and how you could reliably convert this to an actual datetime field.\n",
        "\n",
        "# Last Q&A"
      ]
    }
  ]
}