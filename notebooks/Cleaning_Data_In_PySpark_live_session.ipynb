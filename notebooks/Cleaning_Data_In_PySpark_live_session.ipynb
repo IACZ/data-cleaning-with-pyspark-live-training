{
  "nbformat": 4,
  "nbformat_minor": 0,
  "metadata": {
    "colab": {
      "name": "Cleaning Data in Python live session.ipynb",
      "provenance": []
    },
    "kernelspec": {
      "display_name": "Python 3",
      "language": "python",
      "name": "python3"
    },
    "language_info": {
      "codemirror_mode": {
        "name": "ipython",
        "version": 3
      },
      "file_extension": ".py",
      "mimetype": "text/x-python",
      "name": "python",
      "nbconvert_exporter": "python",
      "pygments_lexer": "ipython3",
      "version": "3.7.1"
    }
  },
  "cells": [
    {
      "cell_type": "markdown",
      "metadata": {
        "colab_type": "text",
        "id": "6Ijg5wUCTQYG"
      },
      "source": [
        "<p align=\"center\">\n",
        "<img src=\"https://github.com/datacamp/python-live-training-template/blob/master/assets/datacamp.svg?raw=True\" alt = \"DataCamp icon\" width=\"50%\">\n",
        "</p>\n",
        "<br><br>\n",
        "\n",
        "## **Cleaning Data with Pyspark**\n",
        "\n",
        "Welcome to this hands-on training where we will investigate cleaning a dataset using Python and Apache Spark! During this training, we will cover:\n",
        "\n",
        "* Efficiently loading data into a Spark DataFrame\n",
        "* Handling errant rows / columns from the dataset, including comments, missing data, combined or misinterpreted columns, etc.\n",
        "* Using Python UDFs to run advanced transformations on data\n",
        "\n",
        "\n",
        "## **The Dataset**\n",
        "\n",
        "The dataset used in this webinar is a set of CSV files named `netflix_titles_raw*.csv`. These contain information related to the movies and television shows available on Netflix. These are the *dirty* versions of the dataset - we will cover the individual problems as we work through the notebook.\n",
        "\n",
        "Given that this is a data cleaning webinar, let's look at our intended result.  The dataset will contain the follwing information:\n",
        "\n",
        "- `show_id`: A unique identifier for the show\n",
        "- `type`: The type of content, `Movie` or `TV Show`\n",
        "- `title`: The title of the content\n",
        "- `director`: The director (or directors)\n",
        "- `cast`: The cast\n",
        "- `country`: Country (or countries) where the content is available\n",
        "- `date_added`: Date added to Netflix\n",
        "- `release_year`: Year of content release\n",
        "- `rating`: Content rating\n",
        "- `duration`: The duration\n",
        "- `listed_in`: The genres the content is listed in\n",
        "- `description`: A description of the content\n",
        "\n"
      ]
    },
    {
      "cell_type": "markdown",
      "metadata": {
        "id": "KLi6HZeKbiG4",
        "colab_type": "text"
      },
      "source": [
        "## **Setting up a PySpark session**\n",
        "\n",
        "Before we can start processing our data, we need to configure a Pyspark session for Google Colab. Note that this is specific for using Spark and Python in Colab and likely is not required for other environments. "
      ]
    },
    {
      "cell_type": "code",
      "metadata": {
        "id": "O86xE8hXbiG5",
        "colab_type": "code",
        "colab": {}
      },
      "source": [
        "# Run this code as is to install Spark in Colab\n",
        "!apt-get install openjdk-8-jdk-headless -qq > /dev/null\n",
        "!wget -q https://downloads.apache.org/spark/spark-2.4.5/spark-2.4.5-bin-hadoop2.7.tgz\n",
        "!tar xf spark-2.4.5-bin-hadoop2.7.tgz\n",
        "!pip install -q findspark"
      ],
      "execution_count": 0,
      "outputs": []
    },
    {
      "cell_type": "code",
      "metadata": {
        "id": "ZMaqiRkBbiG7",
        "colab_type": "code",
        "colab": {}
      },
      "source": [
        "# Run this code to setup the environment\n",
        "import os\n",
        "os.environ[\"JAVA_HOME\"] = \"/usr/lib/jvm/java-8-openjdk-amd64\"\n",
        "os.environ[\"SPARK_HOME\"] = \"/content/spark-2.4.5-bin-hadoop2.7\""
      ],
      "execution_count": 0,
      "outputs": []
    },
    {
      "cell_type": "code",
      "metadata": {
        "id": "qKvFmTnQbiG9",
        "colab_type": "code",
        "colab": {}
      },
      "source": [
        "# Finally, setup our Spark session\n",
        "import findspark\n",
        "findspark.init()\n",
        "from pyspark.sql import SparkSession\n",
        "spark = SparkSession.builder.master(\"local[*]\").getOrCreate()"
      ],
      "execution_count": 0,
      "outputs": []
    },
    {
      "cell_type": "markdown",
      "metadata": {
        "colab_type": "text",
        "id": "BMYfcKeDY85K"
      },
      "source": [
        "## **Getting started**"
      ]
    },
    {
      "cell_type": "code",
      "metadata": {
        "colab_type": "code",
        "id": "IAfz_jiu0NjN",
        "colab": {
          "base_uri": "https://localhost:8080/",
          "height": 357
        },
        "outputId": "5072f7c0-27b4-4740-e0b3-220813b2b4b5"
      },
      "source": [
        "# Get dataset into local environment\n",
        "!wget -O /tmp/airbnb.csv 'https://github.com/datacamp/python-live-training-template/blob/master/data/airbnb.csv?raw=True'\n",
        "airbnb = spark.read.csv('/tmp/airbnb.csv', inferSchema=True, header =True)"
      ],
      "execution_count": 5,
      "outputs": [
        {
          "output_type": "stream",
          "text": [
            "--2020-06-02 05:09:48--  https://github.com/datacamp/python-live-training-template/blob/master/data/airbnb.csv?raw=True\n",
            "Resolving github.com (github.com)... 140.82.112.4\n",
            "Connecting to github.com (github.com)|140.82.112.4|:443... connected.\n",
            "HTTP request sent, awaiting response... 302 Found\n",
            "Location: https://github.com/datacamp/python-live-training-template/raw/master/data/airbnb.csv [following]\n",
            "--2020-06-02 05:09:49--  https://github.com/datacamp/python-live-training-template/raw/master/data/airbnb.csv\n",
            "Reusing existing connection to github.com:443.\n",
            "HTTP request sent, awaiting response... 302 Found\n",
            "Location: https://raw.githubusercontent.com/datacamp/python-live-training-template/master/data/airbnb.csv [following]\n",
            "--2020-06-02 05:09:49--  https://raw.githubusercontent.com/datacamp/python-live-training-template/master/data/airbnb.csv\n",
            "Resolving raw.githubusercontent.com (raw.githubusercontent.com)... 151.101.0.133, 151.101.64.133, 151.101.128.133, ...\n",
            "Connecting to raw.githubusercontent.com (raw.githubusercontent.com)|151.101.0.133|:443... connected.\n",
            "HTTP request sent, awaiting response... 200 OK\n",
            "Length: 2022986 (1.9M) [text/plain]\n",
            "Saving to: ‘/tmp/airbnb.csv’\n",
            "\n",
            "/tmp/airbnb.csv     100%[===================>]   1.93M  --.-KB/s    in 0.09s   \n",
            "\n",
            "2020-06-02 05:09:49 (22.0 MB/s) - ‘/tmp/airbnb.csv’ saved [2022986/2022986]\n",
            "\n"
          ],
          "name": "stdout"
        }
      ]
    },
    {
      "cell_type": "code",
      "metadata": {
        "id": "8QjJ77UpeS1N",
        "colab_type": "code",
        "colab": {
          "base_uri": "https://localhost:8080/",
          "height": 207
        },
        "outputId": "3cba313d-04bf-4c34-808f-537a491b74cd"
      },
      "source": [
        "!head /tmp/airbnb.csv"
      ],
      "execution_count": 17,
      "outputs": [
        {
          "output_type": "stream",
          "text": [
            ",listing_id,name,host_id,host_name,neighbourhood_full,coordinates,room_type,price,number_of_reviews,last_review,reviews_per_month,availability_365,rating,number_of_stays,5_stars,listing_added\n",
            "0,13740704,\"Cozy,budget friendly, cable inc, private entrance!\",20583125,Michel,\"Brooklyn, Flatlands\",\"(40.63222, -73.93398)\",Private room,45$,10,2018-12-12,0.7,85,4.100953568650489,12.0,0.6094315047128488,2018-06-08\n",
            "1,22005115,Two floor apartment near Central Park,82746113,Cecilia,\"Manhattan, Upper West Side\",\"(40.78761, -73.96862)\",Entire home/apt,135$,1,2019-06-30,1.0,145,3.36759984148828,1.2,0.7461345904105886,2018-12-25\n",
            "2,21667615,Beautiful 1BR in Brooklyn Heights,78251,Leslie,\"Brooklyn, Brooklyn Heights\",\"(40.7007, -73.99517)\",Entire home/apt,150$,0,,,65,,,,2018-08-15\n",
            "3,6425850,\"Spacious, charming studio\",32715865,Yelena,\"Manhattan, Upper West Side\",\"(40.79169, -73.97498)\",Entire home/apt,86$,5,2017-09-23,0.13,0,4.76320299429773,6.0,0.7699470781766179,2017-03-20\n",
            "4,22986519,Bedroom on the lively Lower East Side,154262349,Brooke,\"Manhattan, Lower East Side\",\"(40.71884, -73.98354)\",Private room,160$,23,2019-06-12,2.29,102,3.8225906280422346,27.6,0.6493830693571124,2020-10-23\n",
            "5,271954,Beautiful brownstone apartment,1423798,Aj,\"Manhattan, Greenwich Village\",\"(40.73388, -73.99452)\",Entire home/apt,150$,203,2019-06-20,2.22,300,4.478396485337809,243.6,0.7434996994088457,2018-12-15\n",
            "6,33473567,Hamilton Heights Full Floor Garden Apt,33388853,Christine,\"Manhattan, Harlem\",\"(40.8309, -73.94308000000002)\",Entire home/apt,200$,0,,,219,,,,2018-05-05\n",
            "7,14218742,Luxury/3bedroom/3bthrm/Privateprkng/beach/rstrnts,78824908,Ilona,\"Brooklyn, Sheepshead Bay\",\"(40.58531, -73.93811)\",Entire home/apt,224$,2,2018-06-22,0.08,353,4.091228407624987,2.4,0.6903933143043651,2017-12-17\n",
            "8,15125599,Beautiful One Bedroom Apartment Near Central Park,3191545,Kyle,\"Manhattan, Theater District\",\"(40.761, -73.98522)\",Entire home/apt,169$,5,2017-06-25,0.15,365,3.5629466794544493,6.0,0.7045379867783288,2016-12-20\n"
          ],
          "name": "stdout"
        }
      ]
    },
    {
      "cell_type": "code",
      "metadata": {
        "id": "45574aapb4eX",
        "colab_type": "code",
        "colab": {
          "base_uri": "https://localhost:8080/",
          "height": 207
        },
        "outputId": "f0e4559c-6249-4c3e-d268-748ccb6b1463"
      },
      "source": [
        "airbnb.describe().show()"
      ],
      "execution_count": 16,
      "outputs": [
        {
          "output_type": "stream",
          "text": [
            "+-------+--------------------+--------------------+--------------------+-------------------+--------------------+--------------------+--------------------+--------------------+-------------------+------------------+------------------+--------------------+------------------+------------------+------------------+-------------------+-------------+\n",
            "|summary|                 _c0|          listing_id|                name|            host_id|           host_name|  neighbourhood_full|         coordinates|           room_type|              price| number_of_reviews|       last_review|   reviews_per_month|  availability_365|            rating|   number_of_stays|            5_stars|listing_added|\n",
            "+-------+--------------------+--------------------+--------------------+-------------------+--------------------+--------------------+--------------------+--------------------+-------------------+------------------+------------------+--------------------+------------------+------------------+------------------+-------------------+-------------+\n",
            "|  count|               10067|               10063|               10058|              10019|               10017|               10019|               10017|               10019|               9780|             10016|              7947|                7944|             10016|              7944|              7947|               7905|         9976|\n",
            "|   mean|              5009.0|1.9610222541894443E7|         1.5675847E8|6.782286126887219E7|               123.0|                null|                 2.0|   36.57142857142857|         1.245321E7|22.319550629119234|183.81790697674418|   1.364213638172635|111.70600790717823|  4.00036381403554|33.922290566376695| 0.7185464864982791|         2.26|\n",
            "| stddev|  2892.3805074713114|1.3134786777124116E7|                 NaN|7.860189027132541E7|                 NaN|                null|                 NaN|  52.323171594564926|1.761147443544969E7|43.062411027730526|  125.316397960905|  1.6261706385077974|131.45303485330757| 0.644890665513455| 56.04510520419567|0.07988975077540555|          NaN|\n",
            "|    min| 5 bedrooms 3 ful...|    NYU & Bellevue.\"| 2-3 bedroom UWS ...|            1000014|(40.63761, -73.89...|   Shared room      |(40.50868, -74.23...|   Shared room      |                 0$|                 0|                 0|(40.8180000000000...|                 0|0.6007960240883727|0.7069272044055936| 0.6000262780807892|         2.26|\n",
            "|    max|        •SUPERHOST•\"|                 M/A|                靓房|              Sibel|                현선|Staten Island, We...|         Shared room|                home|               999$|            Howard| Manhattan, Harlem|                9.85|      Private room|               60$|              99.6|         2019-07-05|   2020-10-23|\n",
            "+-------+--------------------+--------------------+--------------------+-------------------+--------------------+--------------------+--------------------+--------------------+-------------------+------------------+------------------+--------------------+------------------+------------------+------------------+-------------------+-------------+\n",
            "\n"
          ],
          "name": "stdout"
        }
      ]
    },
    {
      "cell_type": "code",
      "metadata": {
        "id": "uQ_z1ZFYb9AX",
        "colab_type": "code",
        "colab": {
          "base_uri": "https://localhost:8080/",
          "height": 479
        },
        "outputId": "6912591e-8e08-4a85-bce2-3e4c3263b2a9"
      },
      "source": [
        "airbnb.show(truncate=False)"
      ],
      "execution_count": 8,
      "outputs": [
        {
          "output_type": "stream",
          "text": [
            "+---+----------+--------------------------------------------------+---------+------------+-----------------------------+------------------------------+---------------+-----+-----------------+-----------+-----------------+----------------+------------------+------------------+------------------+-------------+\n",
            "|_c0|listing_id|name                                              |host_id  |host_name   |neighbourhood_full           |coordinates                   |room_type      |price|number_of_reviews|last_review|reviews_per_month|availability_365|rating            |number_of_stays   |5_stars           |listing_added|\n",
            "+---+----------+--------------------------------------------------+---------+------------+-----------------------------+------------------------------+---------------+-----+-----------------+-----------+-----------------+----------------+------------------+------------------+------------------+-------------+\n",
            "|0  |13740704  |Cozy,budget friendly, cable inc, private entrance!|20583125 |Michel      |Brooklyn, Flatlands          |(40.63222, -73.93398)         |Private room   |45$  |10               |2018-12-12 |0.7              |85              |4.100953568650489 |12.0              |0.6094315047128488|2018-06-08   |\n",
            "|1  |22005115  |Two floor apartment near Central Park             |82746113 |Cecilia     |Manhattan, Upper West Side   |(40.78761, -73.96862)         |Entire home/apt|135$ |1                |2019-06-30 |1.0              |145             |3.36759984148828  |1.2               |0.7461345904105886|2018-12-25   |\n",
            "|2  |21667615  |Beautiful 1BR in Brooklyn Heights                 |78251    |Leslie      |Brooklyn, Brooklyn Heights   |(40.7007, -73.99517)          |Entire home/apt|150$ |0                |null       |null             |65              |null              |null              |null              |2018-08-15   |\n",
            "|3  |6425850   |Spacious, charming studio                         |32715865 |Yelena      |Manhattan, Upper West Side   |(40.79169, -73.97498)         |Entire home/apt|86$  |5                |2017-09-23 |0.13             |0               |4.76320299429773  |6.0               |0.7699470781766179|2017-03-20   |\n",
            "|4  |22986519  |Bedroom on the lively Lower East Side             |154262349|Brooke      |Manhattan, Lower East Side   |(40.71884, -73.98354)         |Private room   |160$ |23               |2019-06-12 |2.29             |102             |3.8225906280422346|27.6              |0.6493830693571124|2020-10-23   |\n",
            "|5  |271954    |Beautiful brownstone apartment                    |1423798  |Aj          |Manhattan, Greenwich Village |(40.73388, -73.99452)         |Entire home/apt|150$ |203              |2019-06-20 |2.22             |300             |4.478396485337809 |243.6             |0.7434996994088457|2018-12-15   |\n",
            "|6  |33473567  |Hamilton Heights Full Floor Garden Apt            |33388853 |Christine   |Manhattan, Harlem            |(40.8309, -73.94308000000002) |Entire home/apt|200$ |0                |null       |null             |219             |null              |null              |null              |2018-05-05   |\n",
            "|7  |14218742  |Luxury/3bedroom/3bthrm/Privateprkng/beach/rstrnts |78824908 |Ilona       |Brooklyn, Sheepshead Bay     |(40.58531, -73.93811)         |Entire home/apt|224$ |2                |2018-06-22 |0.08             |353             |4.091228407624987 |2.4               |0.6903933143043651|2017-12-17   |\n",
            "|8  |15125599  |Beautiful One Bedroom Apartment Near Central Park |3191545  |Kyle        |Manhattan, Theater District  |(40.761, -73.98522)           |Entire home/apt|169$ |5                |2017-06-25 |0.15             |365             |3.5629466794544493|6.0               |0.7045379867783288|2016-12-20   |\n",
            "|9  |24553891  |Enjoy all of Manhattan. Big Apple! A Mini-MOMA!   |68557372 |Shannon     |Manhattan, Harlem            |(40.80667, -73.95182)         |Entire home/apt|75$  |8                |2019-04-24 |0.66             |9               |4.695768785868397 |9.6               |0.7500734156026541|2018-10-19   |\n",
            "|10 |26386759  |Cozy and extremely well located Bushwick room     |86892036 |Michael     |Brooklyn, Bushwick           |(40.70103, -73.91901)         |Private room   |50$  |5                |2018-07-29 |0.41             |0               |3.260108207082263 |6.0               |0.6951741847337894|2018-01-23   |\n",
            "|11 |34446664  |Home away from home                               |260038086|Kimberly    |Queens, Laurelton            |(40.6688, -73.74384)          |Entire home/apt|254$ |2                |2019-06-03 |1.46             |24              |3.750804246731366 |2.4               |0.7732288615453616|2018-11-28   |\n",
            "|12 |18048473  |#3 Private  Quadruple  Room  20mnts from Manhattan|42093468 |Tsotne (Tut)|Bronx, Mott Haven            |(40.81217, -73.91776999999998)|Private room   |41$  |21               |2019-06-20 |0.78             |334             |4.315454829613187 |25.2              |0.6373132777240915|2018-12-15   |\n",
            "|13 |6336480   |Available in August only. One room with twin bed. |12459436 |Zena        |Queens, Flushing             |(40.73627000000001, -73.81305)|Private room   |49$  |0                |null       |null             |27              |null              |null              |null              |2018-06-01   |\n",
            "|14 |20572019  |Brooklyn home available                           |145219249|Dovber      |Brooklyn, Crown Heights      |(40.66592, -73.94266)         |Entire home/apt|350$ |0                |null       |null             |0               |null              |null              |null              |2018-07-20   |\n",
            "|15 |35831474  |Large Apt with Patio, walking to Times Square!!!!!|79008205 |Josh        |Manhattan, Midtown           |(40.75225, -73.97107)         |Entire home/apt|165$ |0                |null       |null             |330             |null              |null              |null              |2018-10-14   |\n",
            "|16 |21698446  |Private Room In Manhattan!                        |32798079 |Mike & Kevin|Manhattan, Harlem            |(40.81691, -73.93735)         |Private room   |98$  |94               |2019-07-03 |4.65             |117             |3.0350458522936288|112.8             |0.6494435574641232|2018-12-28   |\n",
            "|17 |33635065  |Sonder | Stock Exchange | Cozy 1BR + Laundry      |219517861|Sonder (NYC)|Manhattan, Financial District|(40.7071, -74.01194)          |Entire home/apt|230$ |6                |2019-06-20 |2.28             |327             |4.203225120946259 |7.1999999999999975|0.6904391703617351|2018-12-15   |\n",
            "|18 |1479113   |Spacious, quiet room with private full bathroom.  |176836   |Gil         |Manhattan, Lower East Side   |(40.71501, -73.98061)         |Private room   |49$  |90               |2019-01-01 |1.29             |0               |3.3476103317230566|108.0             |0.7058617338328939|2018-06-28   |\n",
            "|19 |14817574  |Spacious Room in the heart of Greenwich Village!  |88398053 |Colleen     |Manhattan, Greenwich Village |(40.72807, -73.99925)         |Private        |99$  |5                |2017-08-20 |0.15             |0               |4.847748651809394 |6.0               |0.6377123075954432|2017-02-14   |\n",
            "+---+----------+--------------------------------------------------+---------+------------+-----------------------------+------------------------------+---------------+-----+-----------------+-----------+-----------------+----------------+------------------+------------------+------------------+-------------+\n",
            "only showing top 20 rows\n",
            "\n"
          ],
          "name": "stdout"
        }
      ]
    },
    {
      "cell_type": "code",
      "metadata": {
        "id": "0LjdckdCcCQR",
        "colab_type": "code",
        "colab": {}
      },
      "source": [
        "airbnb.createOrReplaceTempView(\"airbnb\")"
      ],
      "execution_count": 0,
      "outputs": []
    },
    {
      "cell_type": "code",
      "metadata": {
        "id": "THf1tctucd9h",
        "colab_type": "code",
        "colab": {
          "base_uri": "https://localhost:8080/",
          "height": 34
        },
        "outputId": "b3124ea3-38a9-480e-e7fc-4b4ac3c440c5"
      },
      "source": [
        "spark.sql(\"select distinct host_name from airbnb\").count()"
      ],
      "execution_count": 11,
      "outputs": [
        {
          "output_type": "execute_result",
          "data": {
            "text/plain": [
              "4109"
            ]
          },
          "metadata": {
            "tags": []
          },
          "execution_count": 11
        }
      ]
    },
    {
      "cell_type": "code",
      "metadata": {
        "id": "XzOmnWS8ckdP",
        "colab_type": "code",
        "colab": {
          "base_uri": "https://localhost:8080/",
          "height": 34
        },
        "outputId": "f0de5c94-2581-473f-a1a3-93f34a16d373"
      },
      "source": [
        "spark.sparkContext.uiWebUrl"
      ],
      "execution_count": 14,
      "outputs": [
        {
          "output_type": "execute_result",
          "data": {
            "text/plain": [
              "'http://fab795d401eb:4040'"
            ]
          },
          "metadata": {
            "tags": []
          },
          "execution_count": 14
        }
      ]
    },
    {
      "cell_type": "code",
      "metadata": {
        "id": "uznFuRdDcwTM",
        "colab_type": "code",
        "colab": {}
      },
      "source": [
        ""
      ],
      "execution_count": 0,
      "outputs": []
    }
  ]
}