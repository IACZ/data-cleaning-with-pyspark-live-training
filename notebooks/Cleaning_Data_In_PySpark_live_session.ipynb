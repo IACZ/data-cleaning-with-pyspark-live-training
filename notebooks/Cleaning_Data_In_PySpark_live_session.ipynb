{
  "nbformat": 4,
  "nbformat_minor": 0,
  "metadata": {
    "colab": {
      "name": "Cleaning Data in Python live session.ipynb",
      "provenance": []
    },
    "kernelspec": {
      "display_name": "Python 3",
      "language": "python",
      "name": "python3"
    },
    "language_info": {
      "codemirror_mode": {
        "name": "ipython",
        "version": 3
      },
      "file_extension": ".py",
      "mimetype": "text/x-python",
      "name": "python",
      "nbconvert_exporter": "python",
      "pygments_lexer": "ipython3",
      "version": "3.7.1"
    }
  },
  "cells": [
    {
      "cell_type": "markdown",
      "metadata": {
        "colab_type": "text",
        "id": "6Ijg5wUCTQYG"
      },
      "source": [
        "<p align=\"center\">\n",
        "<img src=\"https://github.com/datacamp/python-live-training-template/blob/master/assets/datacamp.svg?raw=True\" alt = \"DataCamp icon\" width=\"50%\">\n",
        "</p>\n",
        "<br><br>\n",
        "\n",
        "## **Cleaning Data with Pyspark**\n",
        "\n",
        "Welcome to this hands-on training where we will investigate cleaning a dataset using Python and Apache Spark! During this training, we will cover:\n",
        "\n",
        "* Efficiently loading data into a Spark DataFrame\n",
        "* Handling errant rows / columns from the dataset, including comments, missing data, combined or misinterpreted columns, etc.\n",
        "* Using Python UDFs to run advanced transformations on data\n",
        "\n",
        "\n",
        "## **The Dataset**\n",
        "\n",
        "The dataset used in this webinar is a set of CSV files named `netflix_titles_raw*.csv`. These contain information related to the movies and television shows available on Netflix. These are the *dirty* versions of the dataset - we will cover the individual problems as we work through the notebook.\n",
        "\n",
        "Given that this is a data cleaning webinar, let's look at our intended result.  The dataset will contain the follwing information:\n",
        "\n",
        "- `show_id`: A unique identifier for the show\n",
        "- `type`: The type of content, `Movie` or `TV Show`\n",
        "- `title`: The title of the content\n",
        "- `director`: The director (or directors)\n",
        "- `cast`: The cast\n",
        "- `country`: Country (or countries) where the content is available\n",
        "- `date_added`: Date added to Netflix\n",
        "- `release_year`: Year of content release\n",
        "- `rating`: Content rating\n",
        "- `duration`: The duration\n",
        "- `listed_in`: The genres the content is listed in\n",
        "- `description`: A description of the content\n",
        "\n"
      ]
    },
    {
      "cell_type": "markdown",
      "metadata": {
        "id": "KLi6HZeKbiG4",
        "colab_type": "text"
      },
      "source": [
        "## **Setting up a PySpark session**\n",
        "\n",
        "Before we can start processing our data, we need to configure a Pyspark session for Google Colab. Note that this is specific for using Spark and Python in Colab and likely is not required for other environments. "
      ]
    },
    {
      "cell_type": "code",
      "metadata": {
        "id": "O86xE8hXbiG5",
        "colab_type": "code",
        "colab": {}
      },
      "source": [
        "# Run this code as is to install Spark in Colab\n",
        "!apt-get install openjdk-8-jdk-headless -qq > /dev/null\n",
        "!wget -q https://downloads.apache.org/spark/spark-2.4.5/spark-2.4.5-bin-hadoop2.7.tgz\n",
        "!tar xf spark-2.4.5-bin-hadoop2.7.tgz\n",
        "!pip install -q findspark"
      ],
      "execution_count": 0,
      "outputs": []
    },
    {
      "cell_type": "code",
      "metadata": {
        "id": "ZMaqiRkBbiG7",
        "colab_type": "code",
        "colab": {}
      },
      "source": [
        "# Run this code to setup the environment\n",
        "import os\n",
        "os.environ[\"JAVA_HOME\"] = \"/usr/lib/jvm/java-8-openjdk-amd64\"\n",
        "os.environ[\"SPARK_HOME\"] = \"/content/spark-2.4.5-bin-hadoop2.7\""
      ],
      "execution_count": 0,
      "outputs": []
    },
    {
      "cell_type": "code",
      "metadata": {
        "id": "qKvFmTnQbiG9",
        "colab_type": "code",
        "colab": {}
      },
      "source": [
        "# Finally, setup our Spark session\n",
        "import findspark\n",
        "findspark.init()\n",
        "from pyspark.sql import SparkSession\n",
        "spark = SparkSession.builder.master(\"local[*]\").getOrCreate()"
      ],
      "execution_count": 0,
      "outputs": []
    },
    {
      "cell_type": "markdown",
      "metadata": {
        "colab_type": "text",
        "id": "BMYfcKeDY85K"
      },
      "source": [
        "## **Getting started**\n",
        "\n",
        "Before doing anything else, lets copy our data files locally. Run the follwing cell to pull the *dirty* files locally."
      ]
    },
    {
      "cell_type": "code",
      "metadata": {
        "colab_type": "code",
        "id": "IAfz_jiu0NjN",
        "outputId": "529909d5-5711-443c-b9d9-b92a62933038",
        "colab": {
          "base_uri": "https://localhost:8080/",
          "height": 1000
        }
      },
      "source": [
        "# Copy our dataset locally\n",
        "\n",
        "!wget -O /tmp/netflix_titles_dirty_01.csv.gz 'https://github.com/datacamp/data-cleaning-with-pyspark-live-training/blob/master/data/netflix_titles_dirty_01.csv.gz?raw=True'\n",
        "!wget -O /tmp/netflix_titles_dirty_02.csv.gz 'https://github.com/datacamp/data-cleaning-with-pyspark-live-training/blob/master/data/netflix_titles_dirty_02.csv.gz?raw=True'\n",
        "!wget -O /tmp/netflix_titles_dirty_03.csv.gz 'https://github.com/datacamp/data-cleaning-with-pyspark-live-training/blob/master/data/netflix_titles_dirty_03.csv.gz?raw=True'\n",
        "!wget -O /tmp/netflix_titles_dirty_04.csv.gz 'https://github.com/datacamp/data-cleaning-with-pyspark-live-training/blob/master/data/netflix_titles_dirty_04.csv.gz?raw=True'\n",
        "!wget -O /tmp/netflix_titles_dirty_05.csv.gz 'https://github.com/datacamp/data-cleaning-with-pyspark-live-training/blob/master/data/netflix_titles_dirty_05.csv.gz?raw=True'\n",
        "!wget -O /tmp/netflix_titles_dirty_06.csv.gz 'https://github.com/datacamp/data-cleaning-with-pyspark-live-training/blob/master/data/netflix_titles_dirty_06.csv.gz?raw=True'\n",
        "!wget -O /tmp/netflix_titles_dirty_07.csv.gz 'https://github.com/datacamp/data-cleaning-with-pyspark-live-training/blob/master/data/netflix_titles_dirty_07.csv.gz?raw=True'\n",
        "\n"
      ],
      "execution_count": 5,
      "outputs": [
        {
          "output_type": "stream",
          "text": [
            "--2020-06-12 02:32:58--  https://github.com/datacamp/data-cleaning-with-pyspark-live-training/blob/master/data/netflix_titles_dirty_01.csv.gz?raw=True\n",
            "Resolving github.com (github.com)... 140.82.118.4\n",
            "Connecting to github.com (github.com)|140.82.118.4|:443... connected.\n",
            "HTTP request sent, awaiting response... 302 Found\n",
            "Location: https://github.com/datacamp/data-cleaning-with-pyspark-live-training/raw/master/data/netflix_titles_dirty_01.csv.gz [following]\n",
            "--2020-06-12 02:32:58--  https://github.com/datacamp/data-cleaning-with-pyspark-live-training/raw/master/data/netflix_titles_dirty_01.csv.gz\n",
            "Reusing existing connection to github.com:443.\n",
            "HTTP request sent, awaiting response... 302 Found\n",
            "Location: https://raw.githubusercontent.com/datacamp/data-cleaning-with-pyspark-live-training/master/data/netflix_titles_dirty_01.csv.gz [following]\n",
            "--2020-06-12 02:32:58--  https://raw.githubusercontent.com/datacamp/data-cleaning-with-pyspark-live-training/master/data/netflix_titles_dirty_01.csv.gz\n",
            "Resolving raw.githubusercontent.com (raw.githubusercontent.com)... 151.101.0.133, 151.101.64.133, 151.101.128.133, ...\n",
            "Connecting to raw.githubusercontent.com (raw.githubusercontent.com)|151.101.0.133|:443... connected.\n",
            "HTTP request sent, awaiting response... 200 OK\n",
            "Length: 157172 (153K) [application/octet-stream]\n",
            "Saving to: ‘/tmp/netflix_titles_dirty_01.csv.gz’\n",
            "\n",
            "/tmp/netflix_titles 100%[===================>] 153.49K  --.-KB/s    in 0.01s   \n",
            "\n",
            "2020-06-12 02:32:59 (10.8 MB/s) - ‘/tmp/netflix_titles_dirty_01.csv.gz’ saved [157172/157172]\n",
            "\n",
            "--2020-06-12 02:33:00--  https://github.com/datacamp/data-cleaning-with-pyspark-live-training/blob/master/data/netflix_titles_dirty_02.csv.gz?raw=True\n",
            "Resolving github.com (github.com)... 140.82.118.3\n",
            "Connecting to github.com (github.com)|140.82.118.3|:443... connected.\n",
            "HTTP request sent, awaiting response... 302 Found\n",
            "Location: https://github.com/datacamp/data-cleaning-with-pyspark-live-training/raw/master/data/netflix_titles_dirty_02.csv.gz [following]\n",
            "--2020-06-12 02:33:00--  https://github.com/datacamp/data-cleaning-with-pyspark-live-training/raw/master/data/netflix_titles_dirty_02.csv.gz\n",
            "Reusing existing connection to github.com:443.\n",
            "HTTP request sent, awaiting response... 302 Found\n",
            "Location: https://raw.githubusercontent.com/datacamp/data-cleaning-with-pyspark-live-training/master/data/netflix_titles_dirty_02.csv.gz [following]\n",
            "--2020-06-12 02:33:00--  https://raw.githubusercontent.com/datacamp/data-cleaning-with-pyspark-live-training/master/data/netflix_titles_dirty_02.csv.gz\n",
            "Resolving raw.githubusercontent.com (raw.githubusercontent.com)... 151.101.0.133, 151.101.64.133, 151.101.128.133, ...\n",
            "Connecting to raw.githubusercontent.com (raw.githubusercontent.com)|151.101.0.133|:443... connected.\n",
            "HTTP request sent, awaiting response... 200 OK\n",
            "Length: 159012 (155K) [application/octet-stream]\n",
            "Saving to: ‘/tmp/netflix_titles_dirty_02.csv.gz’\n",
            "\n",
            "/tmp/netflix_titles 100%[===================>] 155.29K  --.-KB/s    in 0.01s   \n",
            "\n",
            "2020-06-12 02:33:02 (11.8 MB/s) - ‘/tmp/netflix_titles_dirty_02.csv.gz’ saved [159012/159012]\n",
            "\n",
            "--2020-06-12 02:33:03--  https://github.com/datacamp/data-cleaning-with-pyspark-live-training/blob/master/data/netflix_titles_dirty_03.csv.gz?raw=True\n",
            "Resolving github.com (github.com)... 140.82.118.3\n",
            "Connecting to github.com (github.com)|140.82.118.3|:443... connected.\n",
            "HTTP request sent, awaiting response... 302 Found\n",
            "Location: https://github.com/datacamp/data-cleaning-with-pyspark-live-training/raw/master/data/netflix_titles_dirty_03.csv.gz [following]\n",
            "--2020-06-12 02:33:03--  https://github.com/datacamp/data-cleaning-with-pyspark-live-training/raw/master/data/netflix_titles_dirty_03.csv.gz\n",
            "Reusing existing connection to github.com:443.\n",
            "HTTP request sent, awaiting response... 302 Found\n",
            "Location: https://raw.githubusercontent.com/datacamp/data-cleaning-with-pyspark-live-training/master/data/netflix_titles_dirty_03.csv.gz [following]\n",
            "--2020-06-12 02:33:03--  https://raw.githubusercontent.com/datacamp/data-cleaning-with-pyspark-live-training/master/data/netflix_titles_dirty_03.csv.gz\n",
            "Resolving raw.githubusercontent.com (raw.githubusercontent.com)... 151.101.0.133, 151.101.64.133, 151.101.128.133, ...\n",
            "Connecting to raw.githubusercontent.com (raw.githubusercontent.com)|151.101.0.133|:443... connected.\n",
            "HTTP request sent, awaiting response... 200 OK\n",
            "Length: 159024 (155K) [application/octet-stream]\n",
            "Saving to: ‘/tmp/netflix_titles_dirty_03.csv.gz’\n",
            "\n",
            "/tmp/netflix_titles 100%[===================>] 155.30K  --.-KB/s    in 0.02s   \n",
            "\n",
            "2020-06-12 02:33:04 (9.42 MB/s) - ‘/tmp/netflix_titles_dirty_03.csv.gz’ saved [159024/159024]\n",
            "\n",
            "--2020-06-12 02:33:05--  https://github.com/datacamp/data-cleaning-with-pyspark-live-training/blob/master/data/netflix_titles_dirty_04.csv.gz?raw=True\n",
            "Resolving github.com (github.com)... 140.82.118.4\n",
            "Connecting to github.com (github.com)|140.82.118.4|:443... connected.\n",
            "HTTP request sent, awaiting response... 302 Found\n",
            "Location: https://github.com/datacamp/data-cleaning-with-pyspark-live-training/raw/master/data/netflix_titles_dirty_04.csv.gz [following]\n",
            "--2020-06-12 02:33:05--  https://github.com/datacamp/data-cleaning-with-pyspark-live-training/raw/master/data/netflix_titles_dirty_04.csv.gz\n",
            "Reusing existing connection to github.com:443.\n",
            "HTTP request sent, awaiting response... 302 Found\n",
            "Location: https://raw.githubusercontent.com/datacamp/data-cleaning-with-pyspark-live-training/master/data/netflix_titles_dirty_04.csv.gz [following]\n",
            "--2020-06-12 02:33:05--  https://raw.githubusercontent.com/datacamp/data-cleaning-with-pyspark-live-training/master/data/netflix_titles_dirty_04.csv.gz\n",
            "Resolving raw.githubusercontent.com (raw.githubusercontent.com)... 151.101.0.133, 151.101.64.133, 151.101.128.133, ...\n",
            "Connecting to raw.githubusercontent.com (raw.githubusercontent.com)|151.101.0.133|:443... connected.\n",
            "HTTP request sent, awaiting response... 200 OK\n",
            "Length: 158471 (155K) [application/octet-stream]\n",
            "Saving to: ‘/tmp/netflix_titles_dirty_04.csv.gz’\n",
            "\n",
            "/tmp/netflix_titles 100%[===================>] 154.76K  --.-KB/s    in 0.01s   \n",
            "\n",
            "2020-06-12 02:33:06 (10.2 MB/s) - ‘/tmp/netflix_titles_dirty_04.csv.gz’ saved [158471/158471]\n",
            "\n",
            "--2020-06-12 02:33:07--  https://github.com/datacamp/data-cleaning-with-pyspark-live-training/blob/master/data/netflix_titles_dirty_05.csv.gz?raw=True\n",
            "Resolving github.com (github.com)... 140.82.118.3\n",
            "Connecting to github.com (github.com)|140.82.118.3|:443... connected.\n",
            "HTTP request sent, awaiting response... 302 Found\n",
            "Location: https://github.com/datacamp/data-cleaning-with-pyspark-live-training/raw/master/data/netflix_titles_dirty_05.csv.gz [following]\n",
            "--2020-06-12 02:33:07--  https://github.com/datacamp/data-cleaning-with-pyspark-live-training/raw/master/data/netflix_titles_dirty_05.csv.gz\n",
            "Reusing existing connection to github.com:443.\n",
            "HTTP request sent, awaiting response... 302 Found\n",
            "Location: https://raw.githubusercontent.com/datacamp/data-cleaning-with-pyspark-live-training/master/data/netflix_titles_dirty_05.csv.gz [following]\n",
            "--2020-06-12 02:33:08--  https://raw.githubusercontent.com/datacamp/data-cleaning-with-pyspark-live-training/master/data/netflix_titles_dirty_05.csv.gz\n",
            "Resolving raw.githubusercontent.com (raw.githubusercontent.com)... 151.101.0.133, 151.101.64.133, 151.101.128.133, ...\n",
            "Connecting to raw.githubusercontent.com (raw.githubusercontent.com)|151.101.0.133|:443... connected.\n",
            "HTTP request sent, awaiting response... 200 OK\n",
            "Length: 158295 (155K) [application/octet-stream]\n",
            "Saving to: ‘/tmp/netflix_titles_dirty_05.csv.gz’\n",
            "\n",
            "/tmp/netflix_titles 100%[===================>] 154.58K  --.-KB/s    in 0.02s   \n",
            "\n",
            "2020-06-12 02:33:08 (8.37 MB/s) - ‘/tmp/netflix_titles_dirty_05.csv.gz’ saved [158295/158295]\n",
            "\n",
            "--2020-06-12 02:33:09--  https://github.com/datacamp/data-cleaning-with-pyspark-live-training/blob/master/data/netflix_titles_dirty_06.csv.gz?raw=True\n",
            "Resolving github.com (github.com)... 140.82.118.3\n",
            "Connecting to github.com (github.com)|140.82.118.3|:443... connected.\n",
            "HTTP request sent, awaiting response... 302 Found\n",
            "Location: https://github.com/datacamp/data-cleaning-with-pyspark-live-training/raw/master/data/netflix_titles_dirty_06.csv.gz [following]\n",
            "--2020-06-12 02:33:09--  https://github.com/datacamp/data-cleaning-with-pyspark-live-training/raw/master/data/netflix_titles_dirty_06.csv.gz\n",
            "Reusing existing connection to github.com:443.\n",
            "HTTP request sent, awaiting response... 302 Found\n",
            "Location: https://raw.githubusercontent.com/datacamp/data-cleaning-with-pyspark-live-training/master/data/netflix_titles_dirty_06.csv.gz [following]\n",
            "--2020-06-12 02:33:09--  https://raw.githubusercontent.com/datacamp/data-cleaning-with-pyspark-live-training/master/data/netflix_titles_dirty_06.csv.gz\n",
            "Resolving raw.githubusercontent.com (raw.githubusercontent.com)... 151.101.0.133, 151.101.64.133, 151.101.128.133, ...\n",
            "Connecting to raw.githubusercontent.com (raw.githubusercontent.com)|151.101.0.133|:443... connected.\n",
            "HTTP request sent, awaiting response... 200 OK\n",
            "Length: 158041 (154K) [application/octet-stream]\n",
            "Saving to: ‘/tmp/netflix_titles_dirty_06.csv.gz’\n",
            "\n",
            "/tmp/netflix_titles 100%[===================>] 154.34K  --.-KB/s    in 0.01s   \n",
            "\n",
            "2020-06-12 02:33:10 (10.5 MB/s) - ‘/tmp/netflix_titles_dirty_06.csv.gz’ saved [158041/158041]\n",
            "\n",
            "--2020-06-12 02:33:10--  https://github.com/datacamp/data-cleaning-with-pyspark-live-training/blob/master/data/netflix_titles_dirty_07.csv.gz?raw=True\n",
            "Resolving github.com (github.com)... 140.82.114.4\n",
            "Connecting to github.com (github.com)|140.82.114.4|:443... connected.\n",
            "HTTP request sent, awaiting response... 302 Found\n",
            "Location: https://github.com/datacamp/data-cleaning-with-pyspark-live-training/raw/master/data/netflix_titles_dirty_07.csv.gz [following]\n",
            "--2020-06-12 02:33:11--  https://github.com/datacamp/data-cleaning-with-pyspark-live-training/raw/master/data/netflix_titles_dirty_07.csv.gz\n",
            "Reusing existing connection to github.com:443.\n",
            "HTTP request sent, awaiting response... 302 Found\n",
            "Location: https://raw.githubusercontent.com/datacamp/data-cleaning-with-pyspark-live-training/master/data/netflix_titles_dirty_07.csv.gz [following]\n",
            "--2020-06-12 02:33:11--  https://raw.githubusercontent.com/datacamp/data-cleaning-with-pyspark-live-training/master/data/netflix_titles_dirty_07.csv.gz\n",
            "Resolving raw.githubusercontent.com (raw.githubusercontent.com)... 151.101.0.133, 151.101.64.133, 151.101.128.133, ...\n",
            "Connecting to raw.githubusercontent.com (raw.githubusercontent.com)|151.101.0.133|:443... connected.\n",
            "HTTP request sent, awaiting response... 200 OK\n",
            "Length: 40873 (40K) [application/octet-stream]\n",
            "Saving to: ‘/tmp/netflix_titles_dirty_07.csv.gz’\n",
            "\n",
            "/tmp/netflix_titles 100%[===================>]  39.92K  --.-KB/s    in 0.005s  \n",
            "\n",
            "2020-06-12 02:33:12 (8.39 MB/s) - ‘/tmp/netflix_titles_dirty_07.csv.gz’ saved [40873/40873]\n",
            "\n"
          ],
          "name": "stdout"
        }
      ]
    },
    {
      "cell_type": "markdown",
      "metadata": {
        "id": "Wo5BjsTS3nmy",
        "colab_type": "text"
      },
      "source": [
        "## Now, let's verify that we have all 7 files we expect"
      ]
    },
    {
      "cell_type": "code",
      "metadata": {
        "id": "8QjJ77UpeS1N",
        "colab_type": "code",
        "outputId": "655aecaa-cbe0-44c3-e959-8c2abd65be4f",
        "colab": {
          "base_uri": "https://localhost:8080/",
          "height": 85
        }
      },
      "source": [
        "!ls /tmp/netflix_titles*"
      ],
      "execution_count": 6,
      "outputs": [
        {
          "output_type": "stream",
          "text": [
            "/tmp/netflix_titles_dirty_01.csv.gz  /tmp/netflix_titles_dirty_05.csv.gz\n",
            "/tmp/netflix_titles_dirty_02.csv.gz  /tmp/netflix_titles_dirty_06.csv.gz\n",
            "/tmp/netflix_titles_dirty_03.csv.gz  /tmp/netflix_titles_dirty_07.csv.gz\n",
            "/tmp/netflix_titles_dirty_04.csv.gz\n"
          ],
          "name": "stdout"
        }
      ]
    },
    {
      "cell_type": "markdown",
      "metadata": {
        "id": "5NLnNIcR3z3G",
        "colab_type": "text"
      },
      "source": [
        "## And then, we'll take a look at the first 20 rows of one of the files"
      ]
    },
    {
      "cell_type": "code",
      "metadata": {
        "id": "45574aapb4eX",
        "colab_type": "code",
        "outputId": "c54e1958-3799-44e3-aa2c-f04b6eaf42ee",
        "colab": {
          "base_uri": "https://localhost:8080/",
          "height": 377
        }
      },
      "source": [
        "!gunzip -c /tmp/netflix_titles_dirty_03.csv.gz | head -20"
      ],
      "execution_count": 7,
      "outputs": [
        {
          "output_type": "stream",
          "text": [
            "80142103,Movie,Bottom of the World,Richard Sears,\"Jena Malone, Douglas Smith, Ted Levine, Tamara Duarte, Kelly Pendygraft, Mark Sivertsen, Jon McLaren\",\"Canada, United States\",\"March 31, 2017\",2017,TV-MA,84 min,\"Dramas, Independent Movies, Thrillers\",\"En route to a fresh start in Los Angeles, young couple Alex and Scarlett stop over in a sleepy Southwestern town that loosens their grip on reality.\"\n",
            "80179907,Movie,Bridget Christie: Stand Up for Her,,Bridget Christie,United Kingdom,\"March 31, 2017\",2016,TV-MA,51 min,Stand-Up Comedy,\"Performing stand-up for a packed house in London's Hoxton Hall, comedian Bridget Christie dives into the politics of gender, sex and equality.\"\n",
            "80152842,Movie,FirstBorn,Nirpal Bhogal,\"Antonia Thomas, Luke Norris, Thea Petrie, Eileen Davies, Jonathan Hyde\",United Kingdom,\"March 31, 2017\",2016,TV-MA,90 min,\"Horror Movies, International Movies\",A young couple fights supernatural foes in an attempt to save their daughter from the dark and mysterious forces that follow her every move.\n",
            "80049928,TV Show,Five Came Back,Laurent Bouzereau,\"Steven Spielberg, Guillermo del Toro, Lawrence Kasdan, Francis Ford Coppola, Paul Greengrass, Meryl Streep\",United States,\"March 31, 2017\",2017,TV-MA,1 Season,Docuseries,Five acclaimed contemporary directors tell the story of five legendary Hollywood filmmakers who enlisted in the armed forces to document World War II.\n",
            "70296765,Movie,GLOW: The Story of the Gorgeous Ladies of Wrestling,Brett Whitcomb,,United States,\"March 31, 2017\",2012,NR,77 min,\"Documentaries, Sports Movies\",\"This engaging documentary chronicles the 1980s phenomenon \"\"The Gorgeous Ladies of Wrestling,\"\" which elevated its female grapplers to star status.\"\n",
            "80131168,Movie,Hiroshima: The Real History,Lucy van Beek,John Sessions,United Kingdom,\"March 31, 2017\",2015,TV-PG,95 min,Documentaries,This detailed examination of the 1945 Hiroshima bombing includes the prelude to and aftermath of history's controversial first use of atomic weapons.\n",
            "80119190,Movie,Know Your Enemy - Japan,\"Frank Capra, Joris Ivens\",\"Walter Huston, Dana Andrews\",United States,\"March 31, 2017\",1945,TV-14,63 min,\"Classic Movies, Documentaries\",\"Though culturally insensitive by modern standards, this propaganda film examines the history of Japan from the 16th century through the 1930s.\"\n",
            "80119187,Movie,Let There Be Light,John Huston,Walter Huston,United States,\"March 31, 2017\",1946,TV-PG,58 min,\"Classic Movies, Documentaries\",Some returning combat veterans suffer scars that are more psychological than physical. This film follows patients and staff during their treatment.\n",
            "80048568,TV Show,London Spy,Jakob Verbruggen,\"Ben Whishaw, Jim Broadbent, Edward Holcroft, Samantha Spiro, Charlotte Rampling, Lorraine Ashbourne, David Hayman, Clarke Peters, Adrian Lester, Harriet Walter\",United Kingdom,\"March 31, 2017\",2015,TV-MA,1 Season,\"British TV Shows, Crime TV Shows, International TV Shows\",\"When his reclusive-banker lover disappears, a hard-partying young British hedonist plunges into the dangerous world of espionage to find the truth.\"\n",
            "80178464,TV Show,Monkey Planet,,George McGavin,United Kingdom,\"March 31, 2017\",2014,TV-PG,1 Season,\"British TV Shows, Docuseries, Science & Nature TV\",\"Join zoologist Dr. George McGavin for a fascinating, up-close look at the habits and behaviors of primates, our closest animal relatives.\"\n",
            "80119192,Movie,Nazi Concentration Camps,George Stevens,,United States,\"March 31, 2017\",1945,TV-MA,59 min,\"Classic Movies, Documentaries\",\"Shocking footage shows Nazi concentration camps after liberation, including Buchenwald and Ohrdruf, where Gen. Eisenhower ordered local Nazis to tour.\"\n",
            "70202593,TV Show,North & South,,\"Daniela Denby-Ashe, Richard Armitage, Tim Pigott-Smith, Sinéad Cusack, Lesley Manville, Brendan Coyle, Anna Maxwell Martin, Jo Joyner, Pauline Quirke, Kay Lyon\",United Kingdom,\"March 31, 2017\",2004,NR,1 Season,\"British TV Shows, Romantic TV Shows, TV Dramas\",\"When her father moves his family to an industrial mill town, the parson's daughter, Margaret Hale, struggles to adapt to her harsh new surroundings.\"\n",
            "60027945,Movie,Prelude to War,Frank Capra,,United States,\"March 31, 2017\",1942,TV-PG,52 min,\"Classic Movies, Documentaries\",\"Frank Capra's documentary chronicles the rise of authoritarianism in Germany, Italy and Japan as America prepares for a defense of liberty.\"\n",
            "80119188,Movie,San Pietro,John Huston,,United States,\"March 31, 2017\",1945,TV-14,32 min,\"Classic Movies, Documentaries\",\"After the Allies invade Italy, the Liri Valley town of San Pietro becomes an example of the brutal effects of combat, both for soldiers and civilians.\"\n",
            "60027942,Movie,The Battle of Midway,John Ford,\"Henry Fonda, Jane Darwell\",United States,\"March 31, 2017\",1942,TV-G,18 min,\"Classic Movies, Documentaries\",\"Director John Ford captures combat footage of the Battle of Midway, an air and sea campaign that was a turning point in the war in the Pacific.\"\n",
            "80115857,Movie,The Discovery,Charlie McDowell,\"Jason Segel, Rooney Mara, Robert Redford, Riley Keough, Jesse Plemons, Ron Canada\",United States,\"March 31, 2017\",2017,TV-MA,102 min,\"Dramas, Independent Movies, Romantic Movies\",\"A scientist whose proof of an afterlife caused a rash of suicides forges ahead with his research, while his disapproving son falls for a troubled woman.\"\n",
            "70281026,TV Show,The Fear,Michael Samuels,\"Peter Mullan, Anastasia Hille, Harry Lloyd, Paul Nicholls, Demosthenes Chrysan, Dragos Bucur, Shaban Arifi, Julia Ragnarsson, Danny Sapani, Nigel Lindsay, Osy Ikhile, Sidney Kean, Lisa McAllister, Catherine Winter, Amarildo Kola, Julius Peter Wells\",United Kingdom,\"March 31, 2017\",2012,TV-MA,1 Season,\"British TV Shows, Crime TV Shows, TV Dramas\",\"Richie Beckett is an aging Brighton crime boss who's struggling with the onset of dementia, just as a rival gang is trying to take over his territory.\"\n",
            "70304244,TV Show,The Great Train Robbery,,\"Luke Evans, Jim Broadbent, Paul Anderson, Martin Compston, Neil Maskell, Jack Roth, George Costigan, Robert Glenister, Nick Moran, Tim Pigott-Smith, James Fox, James Wilby, Jack Gordon, Nicholas Murchie, Del Synnott, Richard Hope, John Salthouse\",United Kingdom,\"March 31, 2017\",2013,NR,1 Season,\"British TV Shows, Crime TV Shows, International TV Shows\",\"This two-part tale delivers the true story of the Great Train Robbery of 1963, the biggest one in England's history.\"\n",
            "80119194,Movie,\"The Memphis Belle: A Story of a\n",
            "Flying Fortress\",William Wyler,,United States,\"March 31, 2017\",1944,TV-PG,40 min,\"Classic Movies, Documentaries\",This documentary centers on the crew of the B-17 Flying Fortress Memphis Belle as it prepares to execute a strategic bombing mission over Germany.\n"
          ],
          "name": "stdout"
        }
      ]
    },
    {
      "cell_type": "markdown",
      "metadata": {
        "id": "tlIBIjOM39AS",
        "colab_type": "text"
      },
      "source": [
        "# Loading our initial DataFrame\n",
        "\n",
        "Let's take a look at what Spark does with our data and see if it can properly parse the output. To do this, we'll first load the content into a DataFrame using the `spark.read.csv()` method. We'll pass in two arguments - the path to the file(s) and an entry for `header=False`. Our files do not have a header row, so we must specify this or risk a data row being interpreted as a header."
      ]
    },
    {
      "cell_type": "code",
      "metadata": {
        "id": "uQ_z1ZFYb9AX",
        "colab_type": "code",
        "colab": {}
      },
      "source": [
        "titles_df = spark.read.csv('/tmp/netflix_titles_dirty*.csv.gz', header=False)"
      ],
      "execution_count": 0,
      "outputs": []
    },
    {
      "cell_type": "markdown",
      "metadata": {
        "id": "lUFy-nit4fmP",
        "colab_type": "text"
      },
      "source": [
        "## Initial analysis\n",
        "\n",
        "Let's look at the first 100 rows using the `.show()` method on the DataFrame, and we'll pass in the number of rows to display and send set the `truncate` option to False so we can see all the DataFrame content."
      ]
    },
    {
      "cell_type": "code",
      "metadata": {
        "id": "0LjdckdCcCQR",
        "colab_type": "code",
        "colab": {
          "base_uri": "https://localhost:8080/",
          "height": 1000
        },
        "outputId": "c4eb839b-3765-4fe6-f1c5-98eb6be1aaf4"
      },
      "source": [
        "titles_df.show(100, truncate=False)"
      ],
      "execution_count": 10,
      "outputs": [
        {
          "output_type": "stream",
          "text": [
            "+-----------------------------------------------+-------------+---------------------------------------------------+---------------------------------------------------------------------+--------------------------------------------------------------------------------------------------------------------------------------------------------------------------------------------------------------------------------------------------------+---------------------------------------------+--------------+------------+-----------------------------+--------------------------------------------------------------------------------------------------------------------------------------------------+----------------------------------------------------------------------+----------------------------------------------------------------------------------------------------------------------------------------------------------+\n",
            "|_c0                                            |_c1          |_c2                                                |_c3                                                                  |_c4                                                                                                                                                                                                                                                     |_c5                                          |_c6           |_c7         |_c8                          |_c9                                                                                                                                               |_c10                                                                  |_c11                                                                                                                                                      |\n",
            "+-----------------------------------------------+-------------+---------------------------------------------------+---------------------------------------------------------------------+--------------------------------------------------------------------------------------------------------------------------------------------------------------------------------------------------------------------------------------------------------+---------------------------------------------+--------------+------------+-----------------------------+--------------------------------------------------------------------------------------------------------------------------------------------------+----------------------------------------------------------------------+----------------------------------------------------------------------------------------------------------------------------------------------------------+\n",
            "|80142103                                       |Movie        |Bottom of the World                                |Richard Sears                                                        |Jena Malone, Douglas Smith, Ted Levine, Tamara Duarte, Kelly Pendygraft, Mark Sivertsen, Jon McLaren                                                                                                                                                    |Canada, United States                        |March 31, 2017|2017        |TV-MA                        |84 min                                                                                                                                            |Dramas, Independent Movies, Thrillers                                 |En route to a fresh start in Los Angeles, young couple Alex and Scarlett stop over in a sleepy Southwestern town that loosens their grip on reality.      |\n",
            "|80179907                                       |Movie        |Bridget Christie: Stand Up for Her                 |null                                                                 |Bridget Christie                                                                                                                                                                                                                                        |United Kingdom                               |March 31, 2017|2016        |TV-MA                        |51 min                                                                                                                                            |Stand-Up Comedy                                                       |Performing stand-up for a packed house in London's Hoxton Hall, comedian Bridget Christie dives into the politics of gender, sex and equality.            |\n",
            "|80152842                                       |Movie        |FirstBorn                                          |Nirpal Bhogal                                                        |Antonia Thomas, Luke Norris, Thea Petrie, Eileen Davies, Jonathan Hyde                                                                                                                                                                                  |United Kingdom                               |March 31, 2017|2016        |TV-MA                        |90 min                                                                                                                                            |Horror Movies, International Movies                                   |A young couple fights supernatural foes in an attempt to save their daughter from the dark and mysterious forces that follow her every move.              |\n",
            "|80049928                                       |TV Show      |Five Came Back                                     |Laurent Bouzereau                                                    |Steven Spielberg, Guillermo del Toro, Lawrence Kasdan, Francis Ford Coppola, Paul Greengrass, Meryl Streep                                                                                                                                              |United States                                |March 31, 2017|2017        |TV-MA                        |1 Season                                                                                                                                          |Docuseries                                                            |Five acclaimed contemporary directors tell the story of five legendary Hollywood filmmakers who enlisted in the armed forces to document World War II.    |\n",
            "|70296765                                       |Movie        |GLOW: The Story of the Gorgeous Ladies of Wrestling|Brett Whitcomb                                                       |null                                                                                                                                                                                                                                                    |United States                                |March 31, 2017|2012        |NR                           |77 min                                                                                                                                            |Documentaries, Sports Movies                                          |\"This engaging documentary chronicles the 1980s phenomenon \"\"The Gorgeous Ladies of Wrestling                                                             |\n",
            "|80131168                                       |Movie        |Hiroshima: The Real History                        |Lucy van Beek                                                        |John Sessions                                                                                                                                                                                                                                           |United Kingdom                               |March 31, 2017|2015        |TV-PG                        |95 min                                                                                                                                            |Documentaries                                                         |This detailed examination of the 1945 Hiroshima bombing includes the prelude to and aftermath of history's controversial first use of atomic weapons.     |\n",
            "|80119190                                       |Movie        |Know Your Enemy - Japan                            |Frank Capra, Joris Ivens                                             |Walter Huston, Dana Andrews                                                                                                                                                                                                                             |United States                                |March 31, 2017|1945        |TV-14                        |63 min                                                                                                                                            |Classic Movies, Documentaries                                         |Though culturally insensitive by modern standards, this propaganda film examines the history of Japan from the 16th century through the 1930s.            |\n",
            "|80119187                                       |Movie        |Let There Be Light                                 |John Huston                                                          |Walter Huston                                                                                                                                                                                                                                           |United States                                |March 31, 2017|1946        |TV-PG                        |58 min                                                                                                                                            |Classic Movies, Documentaries                                         |Some returning combat veterans suffer scars that are more psychological than physical. This film follows patients and staff during their treatment.       |\n",
            "|80048568                                       |TV Show      |London Spy                                         |Jakob Verbruggen                                                     |Ben Whishaw, Jim Broadbent, Edward Holcroft, Samantha Spiro, Charlotte Rampling, Lorraine Ashbourne, David Hayman, Clarke Peters, Adrian Lester, Harriet Walter                                                                                         |United Kingdom                               |March 31, 2017|2015        |TV-MA                        |1 Season                                                                                                                                          |British TV Shows, Crime TV Shows, International TV Shows              |When his reclusive-banker lover disappears, a hard-partying young British hedonist plunges into the dangerous world of espionage to find the truth.       |\n",
            "|80178464                                       |TV Show      |Monkey Planet                                      |null                                                                 |George McGavin                                                                                                                                                                                                                                          |United Kingdom                               |March 31, 2017|2014        |TV-PG                        |1 Season                                                                                                                                          |British TV Shows, Docuseries, Science & Nature TV                     |Join zoologist Dr. George McGavin for a fascinating, up-close look at the habits and behaviors of primates, our closest animal relatives.                 |\n",
            "|80119192                                       |Movie        |Nazi Concentration Camps                           |George Stevens                                                       |null                                                                                                                                                                                                                                                    |United States                                |March 31, 2017|1945        |TV-MA                        |59 min                                                                                                                                            |Classic Movies, Documentaries                                         |Shocking footage shows Nazi concentration camps after liberation, including Buchenwald and Ohrdruf, where Gen. Eisenhower ordered local Nazis to tour.    |\n",
            "|70202593                                       |TV Show      |North & South                                      |null                                                                 |Daniela Denby-Ashe, Richard Armitage, Tim Pigott-Smith, Sinéad Cusack, Lesley Manville, Brendan Coyle, Anna Maxwell Martin, Jo Joyner, Pauline Quirke, Kay Lyon                                                                                         |United Kingdom                               |March 31, 2017|2004        |NR                           |1 Season                                                                                                                                          |British TV Shows, Romantic TV Shows, TV Dramas                        |When her father moves his family to an industrial mill town, the parson's daughter, Margaret Hale, struggles to adapt to her harsh new surroundings.      |\n",
            "|60027945                                       |Movie        |Prelude to War                                     |Frank Capra                                                          |null                                                                                                                                                                                                                                                    |United States                                |March 31, 2017|1942        |TV-PG                        |52 min                                                                                                                                            |Classic Movies, Documentaries                                         |Frank Capra's documentary chronicles the rise of authoritarianism in Germany, Italy and Japan as America prepares for a defense of liberty.               |\n",
            "|80119188                                       |Movie        |San Pietro                                         |John Huston                                                          |null                                                                                                                                                                                                                                                    |United States                                |March 31, 2017|1945        |TV-14                        |32 min                                                                                                                                            |Classic Movies, Documentaries                                         |After the Allies invade Italy, the Liri Valley town of San Pietro becomes an example of the brutal effects of combat, both for soldiers and civilians.    |\n",
            "|60027942                                       |Movie        |The Battle of Midway                               |John Ford                                                            |Henry Fonda, Jane Darwell                                                                                                                                                                                                                               |United States                                |March 31, 2017|1942        |TV-G                         |18 min                                                                                                                                            |Classic Movies, Documentaries                                         |Director John Ford captures combat footage of the Battle of Midway, an air and sea campaign that was a turning point in the war in the Pacific.           |\n",
            "|80115857                                       |Movie        |The Discovery                                      |Charlie McDowell                                                     |Jason Segel, Rooney Mara, Robert Redford, Riley Keough, Jesse Plemons, Ron Canada                                                                                                                                                                       |United States                                |March 31, 2017|2017        |TV-MA                        |102 min                                                                                                                                           |Dramas, Independent Movies, Romantic Movies                           |A scientist whose proof of an afterlife caused a rash of suicides forges ahead with his research, while his disapproving son falls for a troubled woman.  |\n",
            "|70281026                                       |TV Show      |The Fear                                           |Michael Samuels                                                      |Peter Mullan, Anastasia Hille, Harry Lloyd, Paul Nicholls, Demosthenes Chrysan, Dragos Bucur, Shaban Arifi, Julia Ragnarsson, Danny Sapani, Nigel Lindsay, Osy Ikhile, Sidney Kean, Lisa McAllister, Catherine Winter, Amarildo Kola, Julius Peter Wells|United Kingdom                               |March 31, 2017|2012        |TV-MA                        |1 Season                                                                                                                                          |British TV Shows, Crime TV Shows, TV Dramas                           |Richie Beckett is an aging Brighton crime boss who's struggling with the onset of dementia, just as a rival gang is trying to take over his territory.    |\n",
            "|70304244                                       |TV Show      |The Great Train Robbery                            |null                                                                 |Luke Evans, Jim Broadbent, Paul Anderson, Martin Compston, Neil Maskell, Jack Roth, George Costigan, Robert Glenister, Nick Moran, Tim Pigott-Smith, James Fox, James Wilby, Jack Gordon, Nicholas Murchie, Del Synnott, Richard Hope, John Salthouse   |United Kingdom                               |March 31, 2017|2013        |NR                           |1 Season                                                                                                                                          |British TV Shows, Crime TV Shows, International TV Shows              |This two-part tale delivers the true story of the Great Train Robbery of 1963, the biggest one in England's history.                                      |\n",
            "|80119194                                       |Movie        |The Memphis Belle: A Story of a                    |null                                                                 |null                                                                                                                                                                                                                                                    |null                                         |null          |null        |null                         |null                                                                                                                                              |null                                                                  |null                                                                                                                                                      |\n",
            "|Flying Fortress\"                               |William Wyler|null                                               |United States                                                        |March 31, 2017                                                                                                                                                                                                                                          |1944                                         |TV-PG         |40 min      |Classic Movies, Documentaries|This documentary centers on the crew of the B-17 Flying Fortress Memphis Belle as it prepares to execute a strategic bombing mission over Germany.|null                                                                  |null                                                                                                                                                      |\n",
            "|80179057                                       |TV Show      |The Murder Detectives                              |null                                                                 |null                                                                                                                                                                                                                                                    |United Kingdom                               |March 31, 2017|2015        |TV-MA                        |1 Season                                                                                                                                          |British TV Shows, Crime TV Shows, Docuseries                          |This series tracks the ups and downs of an 18-month investigation into the 2014 stabbing murder of teenager Nicholas Robinson in Bristol, England.        |\n",
            "|80119191                                       |Movie        |The Negro Soldier                                  |Stuart Heisler                                                       |null                                                                                                                                                                                                                                                    |United States                                |March 31, 2017|1944        |TV-14                        |40 min                                                                                                                                            |Classic Movies, Documentaries                                         |This documentary urged African Americans to enlist and join in the effort to be part of America's continuing fight in World War II.                       |\n",
            "|80119193                                       |Movie        |Thunderbolt                                        |William Wyler, John Sturges                                          |James Stewart, Lloyd Bridges                                                                                                                                                                                                                            |United States                                |March 31, 2017|1947        |TV-14                        |42 min                                                                                                                                            |Classic Movies, Documentaries                                         |A P-47 Thunderbolt squadron is shown in preparation, at play and in bombing raids aiming to halt Nazi supply lines and aid Allied ground troops.          |\n",
            "|80119189                                       |Movie        |Tunisian Victory                                   |Frank Capra, John Huston, Hugh Stewart, Roy Boulting, Anthony Veiller|Burgess Meredith                                                                                                                                                                                                                                        |United States, United Kingdom                |March 31, 2017|1944        |TV-PG                        |76 min                                                                                                                                            |Classic Movies, Documentaries                                         |British and American troops join forces to liberate a Nazi stranglehold in North Africa, sharing battles, hard work and a peaceful Christmas dinner.      |\n",
            "|80119186                                       |Movie        |Undercover: How to Operate Behind Enemy Lines      |John Ford                                                            |null                                                                                                                                                                                                                                                    |United States                                |March 31, 2017|1943        |TV-PG                        |61 min                                                                                                                                            |Classic Movies, Documentaries                                         |This World War II-era training film dramatizes how secret agents should act while undercover and how to avoid capture by enemies.                         |\n",
            "|70013050                                       |Movie        |Why We Fight: The Battle of Russia                 |Frank Capra, Anatole Litvak                                          |null                                                                                                                                                                                                                                                    |United States                                |March 31, 2017|1943        |TV-14                        |82 min                                                                                                                                            |Documentaries                                                         |This installment of Frank Capra's acclaimed documentary series highlights the need for a Russo-American alliance to defeat the Nazis.                     |\n",
            "|80173770                                       |TV Show      |Wild Alaska                                        |null                                                                 |Dougray Scott                                                                                                                                                                                                                                           |United Kingdom                               |March 31, 2017|2015        |TV-PG                        |1 Season                                                                                                                                          |British TV Shows, Docuseries, Science & Nature TV                     |The natural bounty of Alaska sustains its diverse species through extreme weather conditions in three seasons, each with its rewards and challenges.      |\n",
            "|80173896                                       |TV Show      |Wild Arabia                                        |null                                                                 |Alexander Siddig                                                                                                                                                                                                                                        |United Kingdom                               |March 31, 2017|2013        |TV-PG                        |1 Season                                                                                                                                          |British TV Shows, Docuseries, Science & Nature TV                     |The widely varied geology and dramatic landscapes in the continental crossroads of Arabia harbors a rich history and an abundance of wildlife.            |\n",
            "|70022548                                       |Movie        |WWII: Report from the Aleutians                    |John Huston                                                          |null                                                                                                                                                                                                                                                    |United States                                |March 31, 2017|1943        |NR                           |45 min                                                                                                                                            |Documentaries                                                         |Filmmaker John Huston narrates this Oscar-nominated World War II-era film about life among the U.S. soldiers protecting Alaska’s Aleutian Islands.        |\n",
            "|80097423                                       |Movie        |Covered: Alive in Asia                             |Micah Bickham, Galley Molina                                         |Israel Houghton                                                                                                                                                                                                                                         |United States                                |March 31, 2016|2016        |TV-G                         |75 min                                                                                                                                            |Documentaries, Faith & Spirituality, Music & Musicals                 |Christian musician Israel Houghton leads his band Israel & New Breed on a tour supporting their newest album of multicultural, hybrid-genre songs.        |\n",
            "|70259177                                       |TV Show      |Jack Taylor                                        |Stuart Orme                                                          |Iain Glen, Killian Scott, Nora-Jane Noone, Tara Breathnach, Frank O'Sullivan                                                                                                                                                                            |United States, Ireland                       |March 31, 2013|2016        |TV-MA                        |1 Season                                                                                                                                          |Crime TV Shows, International TV Shows, TV Dramas                     |Ken Bruen's bestselling crime novels leap to life in this series of TV movies featuring Irish cop-turned-private-investigator Jack Taylor.                |\n",
            "|81025019                                       |TV Show      |Pablo                                              |null                                                                 |Jake Williamson, Rachael Dickson, Sumita Majumdar, Michael White, Tony Finnegan, Scott Mulligan, Rosie King                                                                                                                                             |United Kingdom                               |March 30, 2019|2017        |TV-Y                         |1 Season                                                                                                                                          |British TV Shows, Kids' TV                                            |Equipped with crayons and his creativity, a boy with autism draws an imaginary world where his animal pals help him tackle real-life situations.          |\n",
            "|80993794                                       |TV Show      |แผนร้ายนายเจ้าเล่ห์                                |null                                                                 |Chutavuth Pattarakampol, Sheranut Yusananda, Nichaphat Chatchaipholrat, Thassapak Hsu                                                                                                                                                                   |null                                         |March 30, 2019|2016        |TV-14                        |1 Season                                                                                                                                          |International TV Shows, Romantic TV Shows, TV Comedies                |When two brothers fall for two sisters, they quickly realize the age differences between them are too big to ignore.                                      |\n",
            "|80117458                                       |Movie        |First Match                                        |Olivia Newman                                                        |Elvire Emanuelle, Yahya Abdul-Mateen II, Colman Domingo, Jharrel Jerome, Kim Ramirez, Jared Kemp, Allen Maldonado                                                                                                                                       |United States                                |March 30, 2018|2018        |TV-MA                        |103 min                                                                                                                                           |Dramas, Independent Movies, Sports Movies                             |A tenacious high school girl raised in foster homes in the inner city tries to reconnect with her ex-con father by joining a boys wrestling team.         |\n",
            "|80143362                                       |Movie        |Happy Anniversary                                  |Jared Stern                                                          |Noël Wells, Ben Schwartz, Joe Pantoliano, Annie Potts, Rahul Kohli, Kristin Bauer van Straten, David Walton, Leonardo Nam, Kate Berlant                                                                                                                 |United States                                |March 30, 2018|2018        |TV-MA                        |78 min                                                                                                                                            |Comedies, Romantic Movies                                             |A quirky couple spends their three-year dating anniversary looking back at their relationship and contemplating whether they should break up.             |\n",
            "|80201200                                       |Movie        |Legend of the Naga Pearls                          |Yang Lei                                                             |Darren Wang, Zhang Tianai, Sheng Guansen, Simon Yam, Wang Xun, Zhao Jian, Xing Yu, Hu Bing, He Sui, Luxia Jiang                                                                                                                                         |China                                        |March 30, 2018|2017        |TV-MA                        |108 min                                                                                                                                           |Action & Adventure, International Movies, Sci-Fi & Fantasy            |A petty thief teams up with two bickering accomplices to safeguard a powerful relic and save humankind from a tribe of vengeful, winged humanoids.        |\n",
            "|80145087                                       |TV Show      |Rapture                                            |null                                                                 |Logic, Nas, Dave West, T.I., G-Eazy, 2 Chainz, Rapsody, Just Blaze, A Boogie Wit tha Hoodie                                                                                                                                                             |United States                                |March 30, 2018|2018        |TV-MA                        |1 Season                                                                                                                                          |Docuseries                                                            |Groundbreaking artists share their life stories in this vibrant documentary series that captures hip-hop's impact on global culture.                      |\n",
            "|80183197                                       |Movie        |Sofía Niño de Rivera: Selección Natural            |Raúl Campos, Jan Suter                                               |Sofía Niño de Rivera                                                                                                                                                                                                                                    |Mexico                                       |March 30, 2018|2018        |TV-MA                        |62 min                                                                                                                                            |Stand-Up Comedy                                                       |Mexico's Sofía Niño de Rivera brings her dark humor to the stage with jokes about marriage traps, sexually attractive leopards and funny funerals.        |\n",
            "|80148210                                       |Movie        |The Titan                                          |Lennart Ruff                                                         |Sam Worthington, Taylor Schilling, Agyness Deyn, Nathalie Emmanuel, Noah Jupe, Corey Johnson, Aleksandar Jovanovic, Diego Boneta, Tom Wilkinson                                                                                                         |United Kingdom, Spain, United States, Germany|March 30, 2018|2018        |TV-MA                        |97 min                                                                                                                                            |Dramas, Sci-Fi & Fantasy, Thrillers                                   |On a bleak future Earth, a soldier endures a radical genetic transformation to save humanity. But his wife fears he's becoming more creature than man.    |\n",
            "|70128549                                       |Movie        |Trailer Park Boys: Countdown to Liquor Day         |Mike Clattenburg                                                     |Robb Wells, John Paul Tremblay, Mike Smith, John Dunsworth, Jonathan Torrens, Patrick Roach, Lucy Decoutere, Sarah Dunsworth, Barrie Dunn, Tyrone Parsons                                                                                               |Canada                                       |March 30, 2018|2009        |R                            |102 min                                                                                                                                           |Comedies, Cult Movies                                                 |After their latest jail stint, boozy pals Julian, Bubbles and Ricky plan to go legit but learn trailer park manager Jim aims to demolish their homes.     |\n",
            "|70069233                                       |Movie        |Trailer Park Boys: The Movie                       |Mike Clattenburg                                                     |Robb Wells, John Paul Tremblay, Mike Smith, Lucy Decoutere, Lydia Lawson-Baird, Cory Bowles, Michael Jackson, Gord Downie, Alex Lifeson, Gerry Dee, Glen Grant, Eugene Clark, Barrie Dunn, John Dunsworth, Patrick Roach                                |Canada                                       |March 30, 2018|2006        |R                            |95 min                                                                                                                                            |Comedies, Cult Movies                                                 |In this feature-length adventure, Ricky, Julian and Bubbles – just out of jail – plan the lamest scheme yet: to get rich by stealing tons of change.      |\n",
            "|80206395                                       |TV Show      |Trump: An American Dream                           |null                                                                 |Donald Trump                                                                                                                                                                                                                                            |United Kingdom                               |March 30, 2018|2018        |TV-14                        |1 Season                                                                                                                                          |Docuseries                                                            |Friends, associates and critics reveal the truly American story of Donald Trump, the brash businessman who defied the odds to become U.S. president.      |\n",
            "|80018336                                       |Movie        |Backcountry                                        |Adam MacDonald                                                       |Missy Peregrym, Jeff Roop, Eric Balfour, Nicholas Campbell                                                                                                                                                                                              |Canada                                       |March 30, 2017|2014        |NR                           |92 min                                                                                                                                            |Horror Movies, Independent Movies, Thrillers                          |A weekend hike for urbanites Alex and Jenn takes a dangerous turn when they become lost deep in the remote territory of a menacing bear.                  |\n",
            "|80180509                                       |Movie        |Colkatay Columbus                                  |Saurav Palodhi                                                       |Mir Afsar Ali, Gaurav Chakrabarty, Tanusree Chakraborty, Anirban Bhattacharya, Ritabhari Chakraborty, Suchandra Vaaniya, Arijit Dutt                                                                                                                    |India                                        |March 30, 2017|2016        |TV-14                        |118 min                                                                                                                                           |Comedies, Dramas, Independent Movies                                  |When Christopher Columbus mysteriously appears in modern-day Kolkata, India, two struggling young men look to him for advice on achieving success.        |\n",
            "|80145255                                       |Movie        |Officer Downe                                      |Shawn Crahan                                                         |Kim Coates, Tyler Ross, Lauren Vélez, Reno Wilson, Bruno Gunn, Tracy Vilar, Sona Eyambe, Corey Taylor, Meadow Williams                                                                                                                                  |United States                                |March 30, 2017|2016        |R                            |91 min                                                                                                                                            |Action & Adventure                                                    |Fallen Los Angeles police officer Terrence Downe finds new life as a secret weapon: a scientifically altered super-cop with unlimited lives.              |\n",
            "|70230147                                       |Movie        |Exit Strategy                                      |Michael Whitton                                                      |Jameel Saleem, Kimelia Weathers, Quincy Harris, Big Boy, Kevin Hart, Misty Alli, Noelle Balfour, Sid Burston, Carlos Castillo, Liz Hernandez, Nick Sinise                                                                                               |United States                                |March 3, 2019 |2012        |NR                           |79 min                                                                                                                                            |Comedies, Romantic Movies                                             |When James's living situation turns sour, he has little choice but to move in with his new girlfriend – a decision he almost immediately regrets.         |\n",
            "|80105067                                       |Movie        |Middle School: The Worst Years of My Life          |Steve Carr                                                           |Griffin Gluck, Lauren Graham, Rob Riggle, Thomas Barbusca, Andrew Daly, Adam Pally, Retta, Efren Ramirez, Isabela Moner, Alexa Nisenson, Jacob Hopkins                                                                                                  |United States, Cambodia                      |March 3, 2019 |2016        |PG                           |92 min                                                                                                                                            |Children & Family Movies, Comedies                                    |At Hills Village Middle School, budding cartoonist Rafe and best pal Leo challenge their uptight principal by breaking every rule in his handbook.        |\n",
            "|80123950                                       |TV Show      |I Am Me!                                           |null                                                                 |Germán Bracco, Daniela Luque, José Antonio Becerril, Paula Serrano, Héctor Holten, Héctor Loeza, Edson Loyo, Brandon Rosas, José Sefami, Tiosha Bojórquez                                                                                               |Mexico                                       |March 3, 2017 |2016        |TV-14                        |1 Season                                                                                                                                          |International TV Shows, Spanish-Language TV Shows, TV Comedies        |Aspiring hip-hop star Francisco builds a name for himself as a musical artist while his conscience helps him through family drama and discrimination.     |\n",
            "|81033429                                       |Movie        |15-Aug                                             |Swapnaneel Jayakar                                                   |Rahul Pethe, Mrunmayee Deshpande, Adinath Kothare, Vaibhav Mangale, Jaywant Wadkar, Satish Pulekar, Naina Apte, Uday Tikekar                                                                                                                            |India                                        |March 29, 2019|2019        |TV-14                        |124 min                                                                                                                                           |Comedies, Dramas, Independent Movies                                  |On India's Independence Day, a zany mishap in a Mumbai chawl disrupts a young love story while compelling the residents to unite in aid of a little boy.  |\n",
            "|80188579                                       |Movie        |Bayonet                                            |Kyzza Terrazas                                                       |Luis Gerardo Méndez, Brontis Jodorowsky, Joonas Saartamo, Laura Birn, Ilkka Koivula, Ville Virtanen, Raúl Villegas, Miriam Balderas, Ximena Guzmán                                                                                                      |Mexico, Finland                              |March 29, 2019|2019        |TV-MA                        |102 min                                                                                                                                           |Dramas, International Movies, Sports Movies                           |Alone in Finland, a retired Mexican boxer lives in desolation under the weight of an agonizing past, until he gets a shot at redemption in the ring.      |\n",
            "|80992232                                       |TV Show      |Bitter Daisies                                     |Miguel Conde                                                         |María Mera                                                                                                                                                                                                                                              | Toni Salgado                                | Miquel Insua | Denis Gómez| Lucía Álvarez               | Sara Sanz                                                                                                                                        | Jimmy Núñez                                                          | Paloma Saavedra                                                                                                                                          |\n",
            "|80189898                                       |TV Show      |Osmosis                                            |null                                                                 |Agathe Bonitzer, Hugo Becker, Gaël Kamilindi, Manoël Dupont, Stéphane Pitti, Luna Silva, Yuming Hey, Suzanne Rault-Balet, Philypa Phoenix, Lena Lapres, Waly Dia, Aurélia Petit, Lionel Lingelser, Fabien Ducommun                                      |France                                       |March 29, 2019|2019        |TV-MA                        |1 Season                                                                                                                                          |International TV Shows, TV Dramas, TV Mysteries                       |In near-future Paris, two brilliant siblings unveil a high-tech implant designed to pair up soul mates. But the beta test yields unwelcome surprises.     |\n",
            "|80145533                                       |Movie        |The Bleeder                                        |Philippe Falardeau                                                   |Liev Schreiber, Elisabeth Moss, Ron Perlman, Naomi Watts, Jim Gaffigan, Michael Rapaport, Pooch Hall, Morgan Spector, Jason Jones                                                                                                                       |United States                                |March 29, 2019|2016        |R                            |98 min                                                                                                                                            |Dramas, Sports Movies                                                 |Husband. Father. Fighter. Meet Chuck Wepner, the liquor salesman and self-proclaimed real-life inspiration behind Rocky Balboa.                           |\n",
            "|80200571                                       |Movie        |The Highwaymen                                     |John Lee Hancock                                                     |Kevin Costner, Woody Harrelson, Kathy Bates, John Carroll Lynch, Thomas Mann, Kim Dickens, W. Earl Brown, William Sadler                                                                                                                                |United States                                |March 29, 2019|2019        |R                            |132 min                                                                                                                                           |Dramas                                                                |Two steely former Texas Rangers are tasked with tracking and killing infamous criminals Bonnie and Clyde in this crime drama based on real events.        |\n",
            "|80999977                                       |Movie        |The Legend of Cocaine Island                       |Theo Love                                                            |null                                                                                                                                                                                                                                                    |United States                                |March 29, 2019|2019        |TV-MA                        |87 min                                                                                                                                            |Documentaries                                                         |An urban legend about a duffel bag of cocaine buried in the Caribbean leads a misfit band to hatch a nutball plan to find it in this comic documentary.   |\n",
            "|81049739                                       |TV Show      |The Terminal                                       |null                                                                 |Mohammad Mansour, Bouthayna Al Raesi, Bassima Hamada, Ahlaam Muhammed, Shaimaa Ali, Foaz Al -Shatti, Abdullah Bahman, Abdulmohsen Al-Qaffas, Mohammed Al Dosari                                                                                         |null                                         |March 29, 2019|2018        |TV-14                        |1 Season                                                                                                                                          |International TV Shows, TV Dramas                                     |Social pressure, a complicated past and a clash of values beset the life of a businessman and his family.                                                 |\n",
            "|80223793                                       |TV Show      |Traitors                                           |null                                                                 |Emma Appleton, Michael Stuhlbarg, Luke Treadaway, Keeley Hawes, Brandon P. Bell, Matt Lauria, Jamie Blackley, David Hargreaves, Sam Hoare, Simon Kunz, Greg McHugh, Stephen Campbell Moore, Cara Horgan                                                 |United Kingdom                               |March 29, 2019|2019        |TV-MA                        |1 Season                                                                                                                                          |British TV Shows, International TV Shows, TV Dramas                   |As World War II ends, a young English woman agrees to help an enigmatic American agent root out Russian infiltration of the British government.           |\n",
            "|70129463                                       |Movie        |Tucker and Dale vs. Evil                           |Eli Craig                                                            |Tyler Labine, Alan Tudyk, Katrina Bowden, Jesse Moss, Philip Granger, Brandon Jay McLaren, Christie Laing, Chelan Simmons, Travis Nelson, Alex Arsenault                                                                                                |Canada, United States, India, United Kingdom |March 29, 2019|2010        |R                            |89 min                                                                                                                                            |Comedies, Horror Movies, Independent Movies                           |\"Expecting to relax at their \"\"vacation\"\" cabin                                                                                                           |\n",
            "|80170767                                       |Movie        |Wolves                                             |Bart Freundlich                                                      |Michael Shannon, Carla Gugino, Taylor John Smith, Chris Bauer, John Douglas Thompson, Zazie Beetz, Wayne Duvall, Christopher Meyer, Richard Kohnke                                                                                                      |United States                                |March 29, 2019|2016        |R                            |109 min                                                                                                                                           |Dramas, Independent Movies, Sports Movies                             |A promising high school basketball player has his eye on an Ivy League scholarship. But his father's secret addictions could ruin everything.             |\n",
            "|81012998                                       |TV Show      |All American                                       |null                                                                 |Daniel Ezra, Taye Diggs, Samantha Logan, Bre-Z, Greta Onieogou, Monet Mazur, Michael Evans Behling, Cody Christian, Karimah Westbrook, Jalyn Hall, Jordan Belfi, Briana Lane                                                                            |United States                                |March 28, 2019|2019        |TV-14                        |1 Season                                                                                                                                          |TV Dramas, Teen TV Shows                                              |Culture clashes and brewing rivalries test a teen football player from South Los Angeles when he’s recruited to the Beverly Hills High School team.       |\n",
            "|80127927                                       |TV Show      |Ollie & Moon                                       |null                                                                 |Mattea Conforti, Kobi Frumer                                                                                                                                                                                                                            |France                                       |March 28, 2018|2018        |TV-Y                         |1 Season                                                                                                                                          |Kids' TV                                                              |Two quirky cats, Ollie and Moon, and their friend Stanley the snail travel the world, solving everyday problems and learning about different cultures.    |\n",
            "|80134826                                       |Movie        |Jo Koy: Live from Seattle                          |Shannon Hartman                                                      |Jo Koy                                                                                                                                                                                                                                                  |United States                                |March 28, 2017|2017        |TV-MA                        |63 min                                                                                                                                            |Stand-Up Comedy                                                       |Between raising a teenage boy and growing up with a Filipino mother, stand-up comic Jo Koy has been through a lot. He's here to tell you all about it.    |\n",
            "|81047902                                       |Movie        |Danur: I Can See Ghosts                            |Awi Suryadi                                                          |Prilly Latuconsina, Sandrinna Michelle, Shareefa Daanish, Indra Brotolaras, Kinaryosih, Inggrid Widjanarko, Asha Kenyeri Bermudez, Wesley Andrew, Kevin Bzezovski Taroreh, Gamaharitz                                                                   |Indonesia                                    |March 27, 2019|2017        |TV-14                        |75 min                                                                                                                                            |Horror Movies, International Movies                                   |Adapted from a best-selling novel, this horror film shows Risa befriending ghosts until an evil spirit tries to take her sister to the other side.        |\n",
            "|81047897                                       |Movie        |Verses of Love                                     |Hanung Bramantyo                                                     |Fedi Nuril, Rianti Cartwright, Carissa Putri, Melanie Putria, Zaskia Adya Mecca, Surya Saputra, Dennis Adhiswara, Oka Antara                                                                                                                            |Indonesia                                    |March 27, 2019|2008        |TV-14                        |126 min                                                                                                                                           |Dramas, International Movies, Romantic Movies                         |Polygamy, piety and personal principles collide for a charming and congenial young university student struggling in a four-way love triangle.             |\n",
            "|80216988                                       |Movie        |Ég man þig                                         |Óskar Thór Axelsson                                                  |Jóhannes Haukur Jóhannesson, Ágústa Eva Erlendsdóttir, Elma Stefania Agustsdottir, Thor Kristjansson, Anna Gunndís Guðmundsdóttir, Sara Dögg Ásgeirsdóttir, Þröstur Leó Gunnarsson, Jóhann Sigurðarson, Sveinn Geirsson, Arnar Páll Harðarson           |Iceland                                      |March 27, 2018|2017        |TV-MA                        |106 min                                                                                                                                           |Horror Movies, International Movies                                   |Young urbanites renovating a rundown house, and a psychiatrist grieving his son's disappearance, are connected to a supernatural, decades-old secret.     |\n",
            "|80213803                                       |TV Show      |James Acaster: Repertoire                          |Dan Lucchesi                                                         |James Acaster                                                                                                                                                                                                                                           |United Kingdom                               |March 27, 2018|2018        |TV-14                        |1 Season                                                                                                                                          |British TV Shows, International TV Shows, Stand-Up Comedy & Talk Shows|Offbeat comic James Acaster covers the strange, the mundane and everything in between in this collection of four wide-ranging stand-up specials.          |\n",
            "|80175623                                       |Movie        |Blood Money                                        |Vishal Mahadkar                                                      |Manish Chaudhary, Kunal Khemu, Amrita Puri, Shekar Shukla, Teeshay, Mia Evonne Uyeda                                                                                                                                                                    |India                                        |March 27, 2017|2012        |TV-14                        |110 min                                                                                                                                           |Dramas, International Movies, Romantic Movies                         |Ambitious Kunal takes a job in the diamond business, but his life is thrown into turmoil when he's drawn into the seedy underworld of his new career.     |\n",
            "|81002880                                       |Movie        |Nate Bargatze: The Tennessee Kid                   |Ryan Polito                                                          |Nate Bargatze                                                                                                                                                                                                                                           |United States                                |March 26, 2019|2019        |TV-PG                        |61 min                                                                                                                                            |Stand-Up Comedy                                                       |Comic Nate Bargatze touches on air travel, cheap weddings, college football, chocolate milk and the perils of ordering coffee in this stand-up special.   |\n",
            "|80222896                                       |Movie        |Birdshot                                           |Mikhail Red                                                          |Mary Joy Apostol, Arnold Reyes, Ku Aquino, John Arcilla, Dido Dela Paz, Elora Espano, Ronnie Quizon, Rolando T. Inocencio, Suzette Ranillo, Angelica C. Ferro                                                                                           |Philippines, Qatar                           |March 26, 2018|2016        |TV-MA                        |115 min                                                                                                                                           |Dramas, International Movies, Thrillers                               |A sheltered farm girl inadvertently shoots an endangered Philippine eagle, setting off a police investigation that exposes violence and corruption.       |\n",
            "|81038046                                       |Movie        |Sei                                                |Raj Babu                                                             |Nakhul, Aanchal Munjal, Nassar, Prakash Raj, Thalaivasal Vijay, Manobala, Jeyan Cherthala, Annadurai Kannadasan                                                                                                                                         |India                                        |March 25, 2019|2018        |TV-14                        |126 min                                                                                                                                           |Action & Adventure, Comedies, Dramas                                  |An aspiring yet aimless actor takes over his ailing father's job as an ambulance driver, unwittingly getting involved in an organ-trafficking network.    |\n",
            "|81049479                                       |TV Show      |The Eagle of El-Se'eed                             |null                                                                 |Mohamed Ramadan, Sayed Rajab, Dorra Zarrouk, Dina Talaat, Aida Reyad                                                                                                                                                                                    |null                                         |March 25, 2019|2018        |TV-14                        |1 Season                                                                                                                                          |Crime TV Shows, International TV Shows, TV Action & Adventure         |A police officer and a drug lord become embroiled in a cycle of revenge, each man bent on taking the other down.                                          |\n",
            "|80101096                                       |Movie        |Kung Fu Panda: Secrets of the Scroll               |Rodolphe Guenoden                                                    |Jack Black, Dustin Hoffman, Seth Rogen, David Cross, Lucy Liu, Tara Macri, James Hong, Randall Duk Kim                                                                                                                                                  |United States                                |March 25, 2016|2016        |TV-PG                        |23 min                                                                                                                                            |Children & Family Movies, Comedies                                    |When a twist of fate brings five unlikely animals together, they find that combining their unique kung fu styles as a team makes the perfect weapon!      |\n",
            "|80202809                                       |Movie        |Superlopez                                         |Javier Ruiz Caldera                                                  |Dani Rovira, Alexandra Jiménez, Julián López, Maribel Verdú, Pedro Casablanc, Gracia Olayo, Ferran Rañé, Gonzalo de Castro, Mireia Portas                                                                                                               |Spain                                        |March 24, 2019|2018        |TV-14                        |108 min                                                                                                                                           |Action & Adventure, Comedies, International Movies                    |In this adaptation of the comic strip, Juan López must balance an office job with heroic feats to save the love of his life and native planet Chitón.     |\n",
            "|80020132                                       |Movie        |Monster High: Haunted                              |Dan Fraga, William Lau                                               |null                                                                                                                                                                                                                                                    |United States                                |March 24, 2018|2015        |TV-Y7                        |76 min                                                                                                                                            |Children & Family Movies                                              |Hearing that their old school is being haunted, Spectra Vondergeist and her pals head back to Monster High to get to the bottom of the scary spookery.    |\n",
            "|80206758                                       |Movie        |Red Trees                                          |Marina Willer                                                        |Tim Piggott-Smith                                                                                                                                                                                                                                       |United Kingdom                               |March 24, 2018|2017        |TV-PG                        |80 min                                                                                                                                            |Documentaries, International Movies                                   |A documentarian details her Jewish family's escape from Nazi-occupied Prague to refuge in Brazil, where her father built a life as an architect.          |\n",
            "|80162210                                       |Movie        |Felipe Neto: My Life Makes No Sense                |Diego Pignataro                                                      |Felipe Neto                                                                                                                                                                                                                                             |Brazil                                       |March 24, 2017|2017        |TV-MA                        |91 min                                                                                                                                            |Stand-Up Comedy                                                       |\"YouTube sensation Felipe Neto brings the stories from his autobiographical book \"\"Não Faz Sentido!\"\" to the stage in this comedy special.\"               |\n",
            "|80126485                                       |Movie        |The C Word                                         |Meghan O'Hara                                                        |Morgan Freeman                                                                                                                                                                                                                                          |United States                                |March 24, 2017|2016        |TV-14                        |93 min                                                                                                                                            |Documentaries                                                         |To solve the mystery of cancer, challenging the status quo is a must. Witness how lifestyle and societal changes may help beat the disease.               |\n",
            "|80082242                                       |Movie        |The Most Hated Woman in America                    |Tommy O'Haver                                                        |Melissa Leo, Josh Lucas, Vincent Kartheiser, Juno Temple, Adam Scott, Peter Fonda, Sally Kirkland, Rory Cochrane                                                                                                                                        |United States                                |March 24, 2017|2017        |TV-MA                        |93 min                                                                                                                                            |Dramas                                                                |This drama follows the controversial life of outspoken atheist Madalyn Murray O'Hair, from her landmark court battles to her infamous abduction.          |\n",
            "|70251816                                       |TV Show      |Drugs, Inc.                                        |null                                                                 |Mike Secher                                                                                                                                                                                                                                             |United States                                |March 23, 2019|2015        |TV-MA                        |1 Season                                                                                                                                          |Crime TV Shows, Docuseries                                            |This absorbing documentary series follows the entire supply chain of the illicit drug trade, tracing its production, export, sale and consumption.        |\n",
            "|70202151                                       |Movie        |I Don't Know How She Does It                       |Douglas McGrath                                                      |Sarah Jessica Parker, Pierce Brosnan, Greg Kinnear, Christina Hendricks, Kelsey Grammer, Seth Meyers, Olivia Munn, Jane Curtin, Mark Blum, Busy Philipps, Sarah Shahi, Jessica Szohr                                                                    |United States                                |March 23, 2019|2011        |PG-13                        |89 min                                                                                                                                            |Comedies                                                              |In this affable yuppie comedy, Kate Reddy is a successful executive, wife and mom whose personal and professional lives hang in precarious balance.       |\n",
            "|80999996                                       |Movie        |Oversize Cops                                      |Chanon Yingyong, Phuwanit Pholdee                                    |Sarun Cinsuvapala, Pramote Pathan, Suphachai Subprasert, Somyos Matures, Supavitch Nepremwattana, Nachjaree Horvejkul, Jatupone Chompoonich, Chertsak Pratumseesakhon                                                                                   |Thailand                                     |March 23, 2019|2017        |TV-MA                        |100 min                                                                                                                                           |Action & Adventure, Comedies, International Movies                    |While investigating a bank robbery, a squad of overweight police officers undergoes rigorous training to shed pounds.                                     |\n",
            "|# As attention ruling dynasties of a province. |null         |null                                               |null                                                                 |null                                                                                                                                                                                                                                                    |null                                         |null          |null        |null                         |null                                                                                                                                              |null                                                                  |null                                                                                                                                                      |\n",
            "| Canada's post-war economic growth. The Central|null         |null                                               |null                                                                 |null                                                                                                                                                                                                                                                    |null                                         |null          |null        |null                         |null                                                                                                                                              |null                                                                  |null                                                                                                                                                      |\n",
            "|80169617                                       |Movie        |Game Over, Man!                                    |Kyle Newacheck                                                       |Adam DeVine, Anders Holm, Blake Anderson, Utkarsh Ambudkar, Aya Cash, Neal McDonough, Daniel Stern, Jamie Demetriou, Rhona Mitra, Sam Richardson, Steve Howey, Mac Brandt, Geno Segers, Roe Hartrampf                                                   |United States                                |March 23, 2018|2018        |TV-MA                        |102 min                                                                                                                                           |Action & Adventure, Comedies                                          |Three buddies with big dreams go from underachieving slackers to badass warriors when their posh hotel is taken over by terrorists.                       |\n",
            "|80144454                                       |Movie        |Layla M.                                           |Mijke de Jong                                                        |Nora El Koussour, Ilias Addab, Mohammed Azaay, Esma Abouzahra, Bilal Wahib, Nezha Karim, Ayisha Siddiqi, Aziz Akazim, Hassan Akkouch, Husam Chadat                                                                                                      |Netherlands, Belgium, Germany, Jordan        |March 23, 2018|2016        |TV-MA                        |99 min                                                                                                                                            |Dramas, International Movies                                          |In response to the repeated bigotry she faces, a Muslim teen in Amsterdam tries to find a sense of belonging in the world of fundamentalist Islam.        |\n",
            "|70204282                                       |Movie        |Pablo Escobar: Angel or Demon?                     |Jorge Granier                                                        |null                                                                                                                                                                                                                                                    |Venezuela, Colombia                          |March 23, 2018|2007        |NR                           |82 min                                                                                                                                            |Documentaries, International Movies                                   |This documentary traces the steps of druglord Pablo Escobar with vivid eyewitness accounts that reconstruct his bloody reign in Colombia.                 |\n",
            "|80242378                                       |Movie        |Paradox                                            |Daryl Hannah                                                         |Neil Young, Lukas Nelson, Micah Nelson, Corey McCormick, Anthony Logerfo, Tato                                                                                                                                                                          |United States                                |March 23, 2018|2018        |TV-MA                        |74 min                                                                                                                                            |Dramas, Independent Movies                                            |Neil Young and his band of outlaws sow seeds of strange mischief and musical wonder under Western skies in this dreamlike film by Daryl Hannah.           |\n",
            "|80184068                                       |TV Show      |Requiem                                            |null                                                                 |Lydia Wilson, Joel Fry, Brendan Coyle, James Frecheville, Claire Rushbrook, Joanna Scanlan, Pippa Haywood, Tara Fitzgerald, Richard Harrington, Sian Reese-Williams                                                                                     |United Kingdom                               |March 23, 2018|2018        |TV-MA                        |1 Season                                                                                                                                          |British TV Shows, International TV Shows, TV Dramas                   |In the wake of a sudden tragedy, a London cellist unearths secrets that link her mother to the disappearance of a young girl in a small Welsh town.       |\n",
            "|80171733                                       |Movie        |Roxanne Roxanne                                    |Michael Larnell                                                      |Chanté Adams, Mahershala Ali, Nia Long, Elvis Nolasco, Kevin Phillips, Shenell Edmonds                                                                                                                                                                  |United States                                |March 23, 2018|2018        |TV-MA                        |100 min                                                                                                                                           |Dramas                                                                |\"She grew up in a tough New York neighborhood in the '80s and made history with \"\"Roxanne's Revenge.\"\" The story of teen battle rap champ Roxanne Shante.\"|\n",
            "|80245408                                       |Movie        |Secret Superstar                                   |Advait Chandan                                                       |Zaira Wasim, Meher Vij, Raj Arjun, Aamir Khan, Tirth Sharma                                                                                                                                                                                             |India                                        |March 23, 2018|2017        |TV-14                        |150 min                                                                                                                                           |Dramas, International Movies, Music & Musicals                        |A talented teenage singer-songwriter living amid domestic abuse becomes a YouTube sensation after a video in which she hides her identity goes viral.     |\n",
            "|80044566                                       |Movie        |Welcome to New York                                |Abel Ferrara                                                         |Gérard Depardieu, Jacqueline Bisset, Marie Mouté, Paul Calderon, Paul Hipp, Pamela Afesi, Chris Zois, Shanyn Leigh, Drena De Niro, Amy Ferguson, Aurelie Claudel, Nikki James                                                                           |United States, France                        |March 23, 2017|2014        |R                            |108 min                                                                                                                                           |Dramas, Independent Movies                                            |A lecherous World Bank official sees his reputation crumbling when he's accused of raping a hotel maid during a trip to New York.                         |\n",
            "|80189632                                       |TV Show      |Charlie's Colorforms City                          |null                                                                 |Jacob Soley, Saara Chaudry, Tyler Barish, Zoe Hatz, Julie Lemieux, Joseph Motiki, Shoshana Sperling, Adrianna Di Liello, Deann Degruijter, Stacey DePass                                                                                                |United States                                |March 22, 2019|2019        |TV-Y                         |1 Season                                                                                                                                          |Kids' TV                                                              |Charlie creates fun stories using different shapes, and he needs your help! Take off for adventures in outer space, the Wild West – and right at home.    |\n",
            "|80230265                                       |TV Show      |Crime Diaries: The Candidate                       |null                                                                 |Jorge A. Jiménez, Ilse Salas, Alberto Guerra, Gustavo Sánchez Parra, Jorge Antonio Guerrero, Ari Brickman, Martín Altomaro, Hernán Del Riego, Norma Angélica, Lisa Owen, Eligio Meléndez, Marco Treviño, Pedro de Tavira Egurrola, Leonardo Alonso      |Mexico                                       |March 22, 2019|2019        |TV-MA                        |1 Season                                                                                                                                          |Crime TV Shows, International TV Shows, Spanish-Language TV Shows     |In 1994, Mexican presidential candidate Luis Donaldo Colosio's assassination sends his dying widow racing to uncover who did it. Based on true events.    |\n",
            "|81076756                                       |TV Show      |Delhi Crime                                        |null                                                                 |Shefali Shah, Rajesh Tailang, Rasika Dugal, Adil Hussain, Vinod Sharawat, Mridul Sharma, Gopal Dutt Tiwari, Anurag Arora, Gaurav Rana, Yashaswini Dayama                                                                                                |India                                        |March 22, 2019|2019        |TV-MA                        |1 Season                                                                                                                                          |Crime TV Shows, International TV Shows, TV Dramas                     |As Delhi reels in the aftermath of a gang rape, DCP Vartika Chaturvedi leads a painstaking search for the culprits. Based on the 2012 Nirbhaya case.      |\n",
            "|80991158                                       |Movie        |Mirage                                             |Oriol Paulo                                                          |Adriana Ugarte, Chino Darín, Javier Gutiérrez, Álvaro Morte, Nora Navas, Miquel Fernández, Clara Segura, Mima Riera, Aina Clotet, Albert Pérez, Julio Bohigas-Couto, Belén Rueda                                                                        |Spain                                        |March 22, 2019|2018        |TV-MA                        |129 min                                                                                                                                           |Dramas, International Movies, Sci-Fi & Fantasy                        |A space-time continuum glitch allows Vera to save a boy's life 25 years earlier, but results in the loss of her daughter, whom she fights to get back.    |\n",
            "|80208298                                       |TV Show      |Most Beautiful Thing                               |null                                                                 |Maria Casadevall, Pathy Dejesus, Fernanda Vasconcellos, Mel Lisboa, Leandro Lima, Ícaro Silva, Gustavo Vaz, Alexandre Cioletti, Gustavo Machado                                                                                                         |Brazil                                       |March 22, 2019|2019        |TV-MA                        |1 Season                                                                                                                                          |International TV Shows, Romantic TV Shows, TV Dramas                  |A 1950s housewife goes to Rio de Janeiro to meet up with her husband, only to learn he's deserted her, but decides to stay and open a bossa nova club.    |\n",
            "|80191046                                       |Movie        |ReMastered: The Miami Showband Massacre            |Stuart Sender                                                        |null                                                                                                                                                                                                                                                    |null                                         |March 22, 2019|2019        |TV-MA                        |71 min                                                                                                                                            |Documentaries, Music & Musicals                                       |The killing of three members of the Miami Showband sent shock waves across Ireland in 1975. Now one survivor doggedly pursues the truth.                  |\n",
            "|80223108                                       |TV Show      |Selling Sunset                                     |null                                                                 |null                                                                                                                                                                                                                                                    |null                                         |March 22, 2019|2019        |TV-MA                        |1 Season                                                                                                                                          |Reality TV                                                            |The elite real estate brokers at The Oppenheim Group sell the luxe life to affluent buyers in LA. The drama ramps up when a new agent joins the team.     |\n",
            "|81049348                                       |TV Show      |The 10 Sins                                        |null                                                                 |Abdul Mohsen Alnimer, Haifa Hussien, Qahtan Alqahtani, Mohammed Sefer, Abdulla Bu Shehri                                                                                                                                                                |null                                         |March 22, 2019|2018        |TV-14                        |1 Season                                                                                                                                          |International TV Shows, TV Dramas                                     |In this social drama of sin and remorse, a man reels at the discovery that his wife has been unfaithful, and gives her an ultimatum.                      |\n",
            "|80169469                                       |Movie        |The Dirt                                           |Jeff Tremaine                                                        |Douglas Booth, Iwan Rheon, Colson Baker, Daniel Webber, David Costabile, Pete Davidson                                                                                                                                                                  |United States                                |March 22, 2019|2019        |TV-MA                        |108 min                                                                                                                                           |Comedies, Dramas, Music & Musicals                                    |In this unflinching biopic based on Mötley Crüe's best-selling book, four LA misfits navigate the monster highs and savage lows of music superstardom.    |\n",
            "+-----------------------------------------------+-------------+---------------------------------------------------+---------------------------------------------------------------------+--------------------------------------------------------------------------------------------------------------------------------------------------------------------------------------------------------------------------------------------------------+---------------------------------------------+--------------+------------+-----------------------------+--------------------------------------------------------------------------------------------------------------------------------------------------+----------------------------------------------------------------------+----------------------------------------------------------------------------------------------------------------------------------------------------------+\n",
            "only showing top 100 rows\n",
            "\n"
          ],
          "name": "stdout"
        }
      ]
    },
    {
      "cell_type": "markdown",
      "metadata": {
        "id": "LGzPDicW4zUo",
        "colab_type": "text"
      },
      "source": [
        "If we start by looking at the first column of data, we see that most of the entries are numeric IDs. If we scroll through the data we do see a few random text entries. Let's make a note of this and browse through the rest of the data, looking for anything that might be out of the ordinary.\n",
        "\n",
        "We can also use the `.printSchema()` method to print the inferred schema associated with the data. Notice that we have 12 columns (which is expected based on our format information) but there are no column names, incorrect datatypes, and each field is nullable."
      ]
    },
    {
      "cell_type": "code",
      "metadata": {
        "id": "THf1tctucd9h",
        "colab_type": "code",
        "outputId": "7be49269-09b9-4745-fc60-633a587e1878",
        "colab": {
          "base_uri": "https://localhost:8080/",
          "height": 255
        }
      },
      "source": [
        "titles_df.printSchema()"
      ],
      "execution_count": 11,
      "outputs": [
        {
          "output_type": "stream",
          "text": [
            "root\n",
            " |-- _c0: string (nullable = true)\n",
            " |-- _c1: string (nullable = true)\n",
            " |-- _c2: string (nullable = true)\n",
            " |-- _c3: string (nullable = true)\n",
            " |-- _c4: string (nullable = true)\n",
            " |-- _c5: string (nullable = true)\n",
            " |-- _c6: string (nullable = true)\n",
            " |-- _c7: string (nullable = true)\n",
            " |-- _c8: string (nullable = true)\n",
            " |-- _c9: string (nullable = true)\n",
            " |-- _c10: string (nullable = true)\n",
            " |-- _c11: string (nullable = true)\n",
            "\n"
          ],
          "name": "stdout"
        }
      ]
    },
    {
      "cell_type": "markdown",
      "metadata": {
        "id": "RXGTHdV75wUi",
        "colab_type": "text"
      },
      "source": [
        "## Bypassing the CSV interpeter\n",
        "\n",
        "Our data on initial pass looks ok, but we can see that we have a few random rows even in our small sample. We know the first column should be an integer value but it looks like there are some that do not meet this requirement. Let's run a quick select statement on the DataFrame to determine the makeup of the content."
      ]
    },
    {
      "cell_type": "code",
      "metadata": {
        "id": "uznFuRdDcwTM",
        "colab_type": "code",
        "colab": {
          "base_uri": "https://localhost:8080/",
          "height": 34
        },
        "outputId": "c4dc640e-03c2-471d-f041-67f411d59a9f"
      },
      "source": [
        "# Import the Pyspark SQL helper functions\n",
        "from pyspark.sql import functions as F\n",
        "\n",
        "# Determine how many rows have a column that converts properly to an integer value\n",
        "titles_df.filter(F.col(\"_c0\").cast(\"int\").isNotNull()).count()\n"
      ],
      "execution_count": 12,
      "outputs": [
        {
          "output_type": "execute_result",
          "data": {
            "text/plain": [
              "6170"
            ]
          },
          "metadata": {
            "tags": []
          },
          "execution_count": 12
        }
      ]
    },
    {
      "cell_type": "code",
      "metadata": {
        "id": "FM8wY72J7qnC",
        "colab_type": "code",
        "colab": {
          "base_uri": "https://localhost:8080/",
          "height": 479
        },
        "outputId": "d1272ded-7b8a-4c5c-b465-1b46ccb63f5c"
      },
      "source": [
        "# Look at rows that don't convert properly\n",
        "titles_df.filter(F.col(\"_c0\").cast(\"int\").isNull()).show()"
      ],
      "execution_count": 13,
      "outputs": [
        {
          "output_type": "stream",
          "text": [
            "+--------------------+--------------------+--------------------+-----------------+---------------+---------------+---------------+-------------+--------------------+--------------------+--------------+--------------------+\n",
            "|                 _c0|                 _c1|                 _c2|              _c3|            _c4|            _c5|            _c6|          _c7|                 _c8|                 _c9|          _c10|                _c11|\n",
            "+--------------------+--------------------+--------------------+-----------------+---------------+---------------+---------------+-------------+--------------------+--------------------+--------------+--------------------+\n",
            "|    Flying Fortress\"|       William Wyler|                null|    United States| March 31, 2017|           1944|          TV-PG|       40 min|Classic Movies, D...|This documentary ...|          null|                null|\n",
            "|# As attention ru...|                null|                null|             null|           null|           null|           null|         null|                null|                null|          null|                null|\n",
            "| Canada's post-wa...|                null|                null|             null|           null|           null|           null|         null|                null|                null|          null|                null|\n",
            "|# Heat) across co...|                null|                null|             null|           null|           null|           null|         null|                null|                null|          null|                null|\n",
            "|# Multi-story hot...|                null|                null|             null|           null|           null|           null|         null|                null|                null|          null|                null|\n",
            "| # Birds with Oxford|        Robert Boyle| Robert Hooke and...|             null|           null|           null|           null|         null|                null|                null|          null|                null|\n",
            "|# Related species...| whose lithograph...|                null|             null|           null|           null|           null|         null|                null|                null|          null|                null|\n",
            "|     Chris Hemsworth|      Tom Hiddleston|      Cate Blanchett|       Idris Elba|  Jeff Goldblum| Tessa Thompson|     Karl Urban| Mark Ruffalo|     Anthony Hopkins| Benedict Cumberb...| Taika Waititi|        Rachel House|\n",
            "|               Movie|        Penalty Kick|      Rodrigo Triana|         Colombia|         Mexico|        June 29|           2018|         2018|               TV-14|              89 min|          null|                null|\n",
            "| # Duwamish Waterway| campaigns and co...|                null|             null|           null|           null|           null|         null|                null|                null|          null|                null|\n",
            "|# Elements εὐρύς ...|                null|                null|             null|           null|           null|           null|         null|                null|                null|          null|                null|\n",
            "|               Movie|          Ray Liotta|         Justin Chon|         Kevin Wu| Harry Shum Jr.|   Eugenia Yuan|     Leonard Wu|  Jin Auyeung|         Jon Kit Lee|         Shuya Chang| Geoff Pierson|           Hong Kong|\n",
            "|             TV Show|          Typewriter|        Aarna Sharma| Aaryansh Malviya|  Mikail Gandhi|  Palash Kamble| Jishu Sengupta| Palomi Ghosh|         Purab Kohli|      Sameer Kochhar|  Sara Gesawat|               India|\n",
            "|              # 1910| the slave labor ...|                null|             null|           null|           null|           null|         null|                null|                null|          null|                null|\n",
            "|# A surprising Gr...|                null|                null|             null|           null|           null|           null|         null|                null|                null|          null|                null|\n",
            "| # The prairies 1906|           was moved|                null|             null|           null|           null|           null|         null|                null|                null|          null|                null|\n",
            "|# Celebration. In...| Virginia receive...|                null|             null|           null|           null|           null|         null|                null|                null|          null|                null|\n",
            "|# Itinerant trade...|                null|                null|             null|           null|           null|           null|         null|                null|                null|          null|                null|\n",
            "|# Exact mechanism...| there were three...|                null|             null|           null|           null|           null|         null|                null|                null|          null|                null|\n",
            "|               Movie|      Lee Jeong-beom|         South Korea|            May 3|           2019|           2018|          TV-MA|      128 min|              Dramas| International Mo...|     Thrillers|On the run from a...|\n",
            "+--------------------+--------------------+--------------------+-----------------+---------------+---------------+---------------+-------------+--------------------+--------------------+--------------+--------------------+\n",
            "only showing top 20 rows\n",
            "\n"
          ],
          "name": "stdout"
        }
      ]
    },
    {
      "cell_type": "code",
      "metadata": {
        "id": "3Y0v5Clo8Rcf",
        "colab_type": "code",
        "colab": {
          "base_uri": "https://localhost:8080/",
          "height": 34
        },
        "outputId": "f790719d-03fe-4f78-f8cd-2a55fba1eb45"
      },
      "source": [
        "# Look at the full count of rows\n",
        "titles_df.count()"
      ],
      "execution_count": 14,
      "outputs": [
        {
          "output_type": "execute_result",
          "data": {
            "text/plain": [
              "6238"
            ]
          },
          "metadata": {
            "tags": []
          },
          "execution_count": 14
        }
      ]
    },
    {
      "cell_type": "markdown",
      "metadata": {
        "id": "jw0aLgc19Qok",
        "colab_type": "text"
      },
      "source": [
        "Looking at our content, we notice we have several types of problems:\n",
        "\n",
        "- Comment rows: These begin with a `#` character in the first column, and all other columns are null\n",
        "- Missing first column: We have few rows that reference `TV Show` or `Movie`, which should be the 2nd column.\n",
        "- Odd columns: There are a few rows included where most columns look like actor names, vs any of the other info that would be expected.\n",
        "\n",
        "We could fairly easily remove rows that match this pattern, but we're not entirely sure what to expect here. This is a common issue when trying to parse a large amount of data, be it in native Python, in Spark, or even with command-line tools. \n",
        "\n",
        "What we need to do is bypass most of the CSV parser's intelligence, but still load the content into a DataFrame. One way to do this is to modify an option on the CSV loader.\n",
        "\n",
        "# CSV loading\n",
        "\n",
        "Our initial import relies on the defaults for the CSV import mechanism. This typically assumes an actual comma-separated value file using `,` between fields and a normal row level terminator (ie, `\\r\\n`, `\\r`, `\\n`). While this often works well, it doesn't always handle ever data cleaning process you'd like, especially if you want to save the errant data for later examination.\n",
        "\n",
        "One way we can trick our CSV load is to specify a custom separator that we know does not exist within our dataset. The option to do this is called `sep` and takes a single character to be used as the column separator. The separator cannot be an empty string so depending on your data, you may need to determine a character that is not used. For our purposes, let's use a curly brace, `{`, which is most likely not present in our data."
      ]
    },
    {
      "cell_type": "code",
      "metadata": {
        "id": "Vme6VYgc8UP7",
        "colab_type": "code",
        "colab": {}
      },
      "source": [
        "# Load the files into a DataFrame with a single column\n",
        "\n",
        "titles_single_df = spark.read.csv('/tmp/netflix_titles_dirty*.csv.gz', sep='{')"
      ],
      "execution_count": 0,
      "outputs": []
    },
    {
      "cell_type": "code",
      "metadata": {
        "id": "CyTxTDhXART2",
        "colab_type": "code",
        "colab": {
          "base_uri": "https://localhost:8080/",
          "height": 34
        },
        "outputId": "144be1db-40a7-40da-8da2-135d4791cd2d"
      },
      "source": [
        "titles_single_df.count()"
      ],
      "execution_count": 16,
      "outputs": [
        {
          "output_type": "execute_result",
          "data": {
            "text/plain": [
              "6238"
            ]
          },
          "metadata": {
            "tags": []
          },
          "execution_count": 16
        }
      ]
    },
    {
      "cell_type": "code",
      "metadata": {
        "id": "JcsIM-2KBMzP",
        "colab_type": "code",
        "colab": {
          "base_uri": "https://localhost:8080/",
          "height": 479
        },
        "outputId": "eae769c6-fcc1-4082-fcb6-8a9cc92f22f9"
      },
      "source": [
        "titles_single_df.show(truncate=False)"
      ],
      "execution_count": 17,
      "outputs": [
        {
          "output_type": "stream",
          "text": [
            "+---------------------------------------------------------------------------------------------------------------------------------------------------------------------------------------------------------------------------------------------------------------------------------------------------------------------------------------------------------------------------------------------------------------------------------------------------------------------------------------------------------------------------------------------------------------+\n",
            "|_c0                                                                                                                                                                                                                                                                                                                                                                                                                                                                                                                                                            |\n",
            "+---------------------------------------------------------------------------------------------------------------------------------------------------------------------------------------------------------------------------------------------------------------------------------------------------------------------------------------------------------------------------------------------------------------------------------------------------------------------------------------------------------------------------------------------------------------+\n",
            "|80142103,Movie,Bottom of the World,Richard Sears,\"Jena Malone, Douglas Smith, Ted Levine, Tamara Duarte, Kelly Pendygraft, Mark Sivertsen, Jon McLaren\",\"Canada, United States\",\"March 31, 2017\",2017,TV-MA,84 min,\"Dramas, Independent Movies, Thrillers\",\"En route to a fresh start in Los Angeles, young couple Alex and Scarlett stop over in a sleepy Southwestern town that loosens their grip on reality.\"                                                                                                                                              |\n",
            "|80179907,Movie,Bridget Christie: Stand Up for Her,,Bridget Christie,United Kingdom,\"March 31, 2017\",2016,TV-MA,51 min,Stand-Up Comedy,\"Performing stand-up for a packed house in London's Hoxton Hall, comedian Bridget Christie dives into the politics of gender, sex and equality.\"                                                                                                                                                                                                                                                                         |\n",
            "|80152842,Movie,FirstBorn,Nirpal Bhogal,\"Antonia Thomas, Luke Norris, Thea Petrie, Eileen Davies, Jonathan Hyde\",United Kingdom,\"March 31, 2017\",2016,TV-MA,90 min,\"Horror Movies, International Movies\",A young couple fights supernatural foes in an attempt to save their daughter from the dark and mysterious forces that follow her every move.                                                                                                                                                                                                           |\n",
            "|80049928,TV Show,Five Came Back,Laurent Bouzereau,\"Steven Spielberg, Guillermo del Toro, Lawrence Kasdan, Francis Ford Coppola, Paul Greengrass, Meryl Streep\",United States,\"March 31, 2017\",2017,TV-MA,1 Season,Docuseries,Five acclaimed contemporary directors tell the story of five legendary Hollywood filmmakers who enlisted in the armed forces to document World War II.                                                                                                                                                                            |\n",
            "|70296765,Movie,GLOW: The Story of the Gorgeous Ladies of Wrestling,Brett Whitcomb,,United States,\"March 31, 2017\",2012,NR,77 min,\"Documentaries, Sports Movies\",\"This engaging documentary chronicles the 1980s phenomenon \"\"The Gorgeous Ladies of Wrestling,\"\" which elevated its female grapplers to star status.\"                                                                                                                                                                                                                                          |\n",
            "|80131168,Movie,Hiroshima: The Real History,Lucy van Beek,John Sessions,United Kingdom,\"March 31, 2017\",2015,TV-PG,95 min,Documentaries,This detailed examination of the 1945 Hiroshima bombing includes the prelude to and aftermath of history's controversial first use of atomic weapons.                                                                                                                                                                                                                                                                   |\n",
            "|80119190,Movie,Know Your Enemy - Japan,\"Frank Capra, Joris Ivens\",\"Walter Huston, Dana Andrews\",United States,\"March 31, 2017\",1945,TV-14,63 min,\"Classic Movies, Documentaries\",\"Though culturally insensitive by modern standards, this propaganda film examines the history of Japan from the 16th century through the 1930s.\"                                                                                                                                                                                                                              |\n",
            "|80119187,Movie,Let There Be Light,John Huston,Walter Huston,United States,\"March 31, 2017\",1946,TV-PG,58 min,\"Classic Movies, Documentaries\",Some returning combat veterans suffer scars that are more psychological than physical. This film follows patients and staff during their treatment.                                                                                                                                                                                                                                                               |\n",
            "|80048568,TV Show,London Spy,Jakob Verbruggen,\"Ben Whishaw, Jim Broadbent, Edward Holcroft, Samantha Spiro, Charlotte Rampling, Lorraine Ashbourne, David Hayman, Clarke Peters, Adrian Lester, Harriet Walter\",United Kingdom,\"March 31, 2017\",2015,TV-MA,1 Season,\"British TV Shows, Crime TV Shows, International TV Shows\",\"When his reclusive-banker lover disappears, a hard-partying young British hedonist plunges into the dangerous world of espionage to find the truth.\"                                                                            |\n",
            "|80178464,TV Show,Monkey Planet,,George McGavin,United Kingdom,\"March 31, 2017\",2014,TV-PG,1 Season,\"British TV Shows, Docuseries, Science & Nature TV\",\"Join zoologist Dr. George McGavin for a fascinating, up-close look at the habits and behaviors of primates, our closest animal relatives.\"                                                                                                                                                                                                                                                             |\n",
            "|80119192,Movie,Nazi Concentration Camps,George Stevens,,United States,\"March 31, 2017\",1945,TV-MA,59 min,\"Classic Movies, Documentaries\",\"Shocking footage shows Nazi concentration camps after liberation, including Buchenwald and Ohrdruf, where Gen. Eisenhower ordered local Nazis to tour.\"                                                                                                                                                                                                                                                              |\n",
            "|70202593,TV Show,North & South,,\"Daniela Denby-Ashe, Richard Armitage, Tim Pigott-Smith, Sinéad Cusack, Lesley Manville, Brendan Coyle, Anna Maxwell Martin, Jo Joyner, Pauline Quirke, Kay Lyon\",United Kingdom,\"March 31, 2017\",2004,NR,1 Season,\"British TV Shows, Romantic TV Shows, TV Dramas\",\"When her father moves his family to an industrial mill town, the parson's daughter, Margaret Hale, struggles to adapt to her harsh new surroundings.\"                                                                                                     |\n",
            "|60027945,Movie,Prelude to War,Frank Capra,,United States,\"March 31, 2017\",1942,TV-PG,52 min,\"Classic Movies, Documentaries\",\"Frank Capra's documentary chronicles the rise of authoritarianism in Germany, Italy and Japan as America prepares for a defense of liberty.\"                                                                                                                                                                                                                                                                                      |\n",
            "|80119188,Movie,San Pietro,John Huston,,United States,\"March 31, 2017\",1945,TV-14,32 min,\"Classic Movies, Documentaries\",\"After the Allies invade Italy, the Liri Valley town of San Pietro becomes an example of the brutal effects of combat, both for soldiers and civilians.\"                                                                                                                                                                                                                                                                               |\n",
            "|60027942,Movie,The Battle of Midway,John Ford,\"Henry Fonda, Jane Darwell\",United States,\"March 31, 2017\",1942,TV-G,18 min,\"Classic Movies, Documentaries\",\"Director John Ford captures combat footage of the Battle of Midway, an air and sea campaign that was a turning point in the war in the Pacific.\"                                                                                                                                                                                                                                                    |\n",
            "|80115857,Movie,The Discovery,Charlie McDowell,\"Jason Segel, Rooney Mara, Robert Redford, Riley Keough, Jesse Plemons, Ron Canada\",United States,\"March 31, 2017\",2017,TV-MA,102 min,\"Dramas, Independent Movies, Romantic Movies\",\"A scientist whose proof of an afterlife caused a rash of suicides forges ahead with his research, while his disapproving son falls for a troubled woman.\"                                                                                                                                                                   |\n",
            "|70281026,TV Show,The Fear,Michael Samuels,\"Peter Mullan, Anastasia Hille, Harry Lloyd, Paul Nicholls, Demosthenes Chrysan, Dragos Bucur, Shaban Arifi, Julia Ragnarsson, Danny Sapani, Nigel Lindsay, Osy Ikhile, Sidney Kean, Lisa McAllister, Catherine Winter, Amarildo Kola, Julius Peter Wells\",United Kingdom,\"March 31, 2017\",2012,TV-MA,1 Season,\"British TV Shows, Crime TV Shows, TV Dramas\",\"Richie Beckett is an aging Brighton crime boss who's struggling with the onset of dementia, just as a rival gang is trying to take over his territory.\"|\n",
            "|70304244,TV Show,The Great Train Robbery,,\"Luke Evans, Jim Broadbent, Paul Anderson, Martin Compston, Neil Maskell, Jack Roth, George Costigan, Robert Glenister, Nick Moran, Tim Pigott-Smith, James Fox, James Wilby, Jack Gordon, Nicholas Murchie, Del Synnott, Richard Hope, John Salthouse\",United Kingdom,\"March 31, 2017\",2013,NR,1 Season,\"British TV Shows, Crime TV Shows, International TV Shows\",\"This two-part tale delivers the true story of the Great Train Robbery of 1963, the biggest one in England's history.\"                           |\n",
            "|80119194,Movie,\"The Memphis Belle: A Story of a                                                                                                                                                                                                                                                                                                                                                                                                                                                                                                                |\n",
            "|Flying Fortress\",William Wyler,,United States,\"March 31, 2017\",1944,TV-PG,40 min,\"Classic Movies, Documentaries\",This documentary centers on the crew of the B-17 Flying Fortress Memphis Belle as it prepares to execute a strategic bombing mission over Germany.                                                                                                                                                                                                                                                                                            |\n",
            "+---------------------------------------------------------------------------------------------------------------------------------------------------------------------------------------------------------------------------------------------------------------------------------------------------------------------------------------------------------------------------------------------------------------------------------------------------------------------------------------------------------------------------------------------------------------+\n",
            "only showing top 20 rows\n",
            "\n"
          ],
          "name": "stdout"
        }
      ]
    },
    {
      "cell_type": "code",
      "metadata": {
        "id": "P0HJfU--BRm1",
        "colab_type": "code",
        "colab": {
          "base_uri": "https://localhost:8080/",
          "height": 68
        },
        "outputId": "9a88b3fd-b533-4961-a1a5-8a1f05c3e672"
      },
      "source": [
        "titles_single_df.printSchema()"
      ],
      "execution_count": 18,
      "outputs": [
        {
          "output_type": "stream",
          "text": [
            "root\n",
            " |-- _c0: string (nullable = true)\n",
            "\n"
          ],
          "name": "stdout"
        }
      ]
    },
    {
      "cell_type": "markdown",
      "metadata": {
        "id": "Uyelt4SeaiHe",
        "colab_type": "text"
      },
      "source": [
        "# Q&A?"
      ]
    },
    {
      "cell_type": "markdown",
      "metadata": {
        "id": "hSTcSJgEB-YK",
        "colab_type": "text"
      },
      "source": [
        "# Cleaning up our data\n",
        "\n",
        "We know from some earlier analysis that we have comment rows in place (ie, rows that begin with a `#`. While Spark provides a DataFrame option to handle this automatically, let's consider what it would take to remove comment rows.\n",
        "\n",
        "We need to:\n",
        "\n",
        "- Determine if the column / line starts with a `#`\n",
        "- If so, filter these out to a new DataFrame\n",
        "\n",
        "There are many ways to accomplish this in Spark, but let's use a conceptually straight-forward option, `.startsWith()`."
      ]
    },
    {
      "cell_type": "code",
      "metadata": {
        "id": "Pny8lhMnBVsv",
        "colab_type": "code",
        "colab": {
          "base_uri": "https://localhost:8080/",
          "height": 459
        },
        "outputId": "9772570c-7a14-4f93-99e9-b06f68336622"
      },
      "source": [
        "titles_single_new_df = titles_single_df.filter(F.col('_c0').startswith('#'))\n",
        "titles_single_new_df.show()"
      ],
      "execution_count": 19,
      "outputs": [
        {
          "output_type": "stream",
          "text": [
            "+--------------------+\n",
            "|                 _c0|\n",
            "+--------------------+\n",
            "|# As attention ru...|\n",
            "|# Heat) across co...|\n",
            "|# Multi-story hot...|\n",
            "|# Birds with Oxfo...|\n",
            "|# Related species...|\n",
            "|# Duwamish Waterw...|\n",
            "|# Elements εὐρύς ...|\n",
            "|# 1910, the slave...|\n",
            "|# A surprising Gr...|\n",
            "|# The prairies 19...|\n",
            "|# Celebration. In...|\n",
            "|# Itinerant trade...|\n",
            "|# Exact mechanism...|\n",
            "|# York, reflectin...|\n",
            "|# Just a example,...|\n",
            "|# By analyzing th...|\n",
            "|# (with component...|\n",
            "|# Warm ocean, rec...|\n",
            "|# Computers proce...|\n",
            "|# Now owned Freud...|\n",
            "+--------------------+\n",
            "only showing top 20 rows\n",
            "\n"
          ],
          "name": "stdout"
        }
      ]
    },
    {
      "cell_type": "code",
      "metadata": {
        "id": "8GOHWXvmDhtu",
        "colab_type": "code",
        "colab": {
          "base_uri": "https://localhost:8080/",
          "height": 34
        },
        "outputId": "72e55d44-721c-4cdd-c148-4c9b06853c29"
      },
      "source": [
        "titles_single_new_df.count()"
      ],
      "execution_count": 20,
      "outputs": [
        {
          "output_type": "execute_result",
          "data": {
            "text/plain": [
              "47"
            ]
          },
          "metadata": {
            "tags": []
          },
          "execution_count": 20
        }
      ]
    },
    {
      "cell_type": "markdown",
      "metadata": {
        "id": "MurSx_92YsGv",
        "colab_type": "text"
      },
      "source": [
        "We've determined that we have 47 rows that begin with a comment character. We can now easily filter these from our DataFrame as we do below.\n",
        "\n",
        "*Note*: We're doing things in a more difficult fashion than is absolutely necessary to illustrate options. The Spark CSV reader has an option for a `comment` property, which actually defaults to skipping all rows starting with a `#` character. That said, it only supports a single character - consider if you were looking for multi-character options (ie, a // or /* from C-style syntax). This feature is also only available in newer versions of Spark, where our method works in any of the 2.x Spark releases."
      ]
    },
    {
      "cell_type": "code",
      "metadata": {
        "id": "FnKLL42OXtkx",
        "colab_type": "code",
        "colab": {}
      },
      "source": [
        "# Filter out comments\n",
        "\n",
        "titles_single_df = titles_single_df.filter(~ F.col('_c0').startswith('#'))"
      ],
      "execution_count": 0,
      "outputs": []
    },
    {
      "cell_type": "code",
      "metadata": {
        "id": "MHbyFQt4aUag",
        "colab_type": "code",
        "colab": {
          "base_uri": "https://localhost:8080/",
          "height": 34
        },
        "outputId": "4044ac09-7611-45ca-971e-411ae6bc67f2"
      },
      "source": [
        "titles_single_df.count()"
      ],
      "execution_count": 22,
      "outputs": [
        {
          "output_type": "execute_result",
          "data": {
            "text/plain": [
              "6191"
            ]
          },
          "metadata": {
            "tags": []
          },
          "execution_count": 22
        }
      ]
    },
    {
      "cell_type": "markdown",
      "metadata": {
        "id": "2NRGmdeqa2L3",
        "colab_type": "text"
      },
      "source": [
        "# Checking column counts\n",
        "\n",
        "Our next step for cleaning this dataset in Pyspark involves determining how many columns we should have "
      ]
    },
    {
      "cell_type": "code",
      "metadata": {
        "id": "0mNCitULaWL7",
        "colab_type": "code",
        "colab": {}
      },
      "source": [
        ""
      ],
      "execution_count": 0,
      "outputs": []
    }
  ]
}